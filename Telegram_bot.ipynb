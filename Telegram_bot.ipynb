{
 "cells": [
  {
   "cell_type": "markdown",
   "id": "ac2a24c2",
   "metadata": {},
   "source": [
    "### @lyutova_d_bot\n",
    "\n",
    "Модель - https://huggingface.co/Grossmend/rudialogpt3_medium_based_on_gpt2"
   ]
  },
  {
   "cell_type": "code",
   "execution_count": 1,
   "id": "e0c238da",
   "metadata": {},
   "outputs": [
    {
     "name": "stderr",
     "output_type": "stream",
     "text": [
      "Special tokens have been added in the vocabulary, make sure the associated word embeddings are fine-tuned or trained.\n",
      "Special tokens have been added in the vocabulary, make sure the associated word embeddings are fine-tuned or trained.\n"
     ]
    }
   ],
   "source": [
    "import torch\n",
    "from transformers import AutoModelForCausalLM, AutoTokenizer\n",
    "\n",
    "tokenizer = AutoTokenizer.from_pretrained(\"./model\")\n",
    "model = AutoModelForCausalLM.from_pretrained(\"./model\")"
   ]
  },
  {
   "cell_type": "code",
   "execution_count": null,
   "id": "9cb672dc",
   "metadata": {},
   "outputs": [],
   "source": [
    "import logging\n",
    "\n",
    "from telegram import Update\n",
    "from telegram.ext import Updater, CommandHandler, MessageHandler, Filters, CallbackContext\n",
    "\n",
    "import dialogflow\n",
    "\n",
    "updater = Updater(token='1989806887:AAGqcrzdb2w5ib3nbfwVuCqTZGndgYin2eE') # Токен API к Telegram\n",
    "dispatcher = updater.dispatcher\n",
    "\n",
    "\n",
    "# Enable logging\n",
    "logging.basicConfig(\n",
    "    format='%(asctime)s - %(name)s - %(levelname)s - %(message)s', level=logging.INFO\n",
    ")\n",
    "\n",
    "logger = logging.getLogger()\n",
    "\n",
    "def get_length_param(text: str) -> str:\n",
    "    tokens_count = len(tokenizer.encode(text))\n",
    "    if tokens_count <= 15:\n",
    "        len_param = '1'\n",
    "    elif tokens_count <= 50:\n",
    "        len_param = '2'\n",
    "    elif tokens_count <= 256:\n",
    "        len_param = '3'\n",
    "    else:\n",
    "        len_param = '-'\n",
    "    return len_param\n",
    "\n",
    "\n",
    "# Define a few command handlers. These usually take the two arguments update and\n",
    "# context. Error handlers also receive the raised TelegramError object in error.\n",
    "def start(update: Update, context: CallbackContext):\n",
    "    update.message.reply_text('Привет!')\n",
    "\n",
    "    \n",
    "    \n",
    "def answer(update: Update, context: CallbackContext):\n",
    "    global step, chat_history_ids\n",
    "\n",
    "    input_user = update.message.text   #input(\"===> User:\")\n",
    "\n",
    "    # encode the new user input, add parameters and return a tensor in Pytorch\n",
    "    new_user_input_ids = tokenizer.encode(f\"|0|{get_length_param(input_user)}|\" + input_user + tokenizer.eos_token +  \"|1|1|\", return_tensors=\"pt\")\n",
    "\n",
    "    # append the new user input tokens to the chat history\n",
    "    bot_input_ids = torch.cat([chat_history_ids, new_user_input_ids], dim=-1) if step > 0 else new_user_input_ids\n",
    "\n",
    "    # generated a response\n",
    "    chat_history_ids = model.generate(\n",
    "        bot_input_ids,\n",
    "        num_return_sequences=1,\n",
    "        max_length=512,\n",
    "        no_repeat_ngram_size=3,\n",
    "        do_sample=True,\n",
    "        top_k=50,\n",
    "        top_p=0.9,\n",
    "        temperature = 0.6,\n",
    "        mask_token_id=tokenizer.mask_token_id,\n",
    "        eos_token_id=tokenizer.eos_token_id,\n",
    "        unk_token_id=tokenizer.unk_token_id,\n",
    "        pad_token_id=tokenizer.pad_token_id,\n",
    "        device='cpu',\n",
    "    )\n",
    "\n",
    "\n",
    "    update.message.text = f\"DL_bot: {tokenizer.decode(chat_history_ids[:, bot_input_ids.shape[-1]:][0], skip_special_tokens=True)}\"\n",
    "    update.message.reply_text(update.message.text)\n",
    "\n",
    "    \n",
    "    \n",
    "    step = step+1 \n",
    "    if step == 10:\n",
    "        step = 0\n",
    "\n",
    "    \n",
    "updater = Updater('1989806887:AAGqcrzdb2w5ib3nbfwVuCqTZGndgYin2eE', use_context=True)\n",
    "dispatcher = updater.dispatcher\n",
    "\n",
    "# on different commands - answer in Telegram\n",
    "dispatcher.add_handler(CommandHandler(\"start\", start))\n",
    "dispatcher.add_handler(MessageHandler(Filters.text & ~Filters.command, answer))\n",
    "\n",
    "# Start the Bot\n",
    "\n",
    "step = 0\n",
    "\n",
    "\n",
    "updater.start_polling()\n",
    "updater.idle()"
   ]
  },
  {
   "cell_type": "code",
   "execution_count": null,
   "id": "c9893971",
   "metadata": {},
   "outputs": [],
   "source": []
  }
 ],
 "metadata": {
  "kernelspec": {
   "display_name": "Python 3",
   "language": "python",
   "name": "python3"
  },
  "language_info": {
   "codemirror_mode": {
    "name": "ipython",
    "version": 3
   },
   "file_extension": ".py",
   "mimetype": "text/x-python",
   "name": "python",
   "nbconvert_exporter": "python",
   "pygments_lexer": "ipython3",
   "version": "3.8.8"
  }
 },
 "nbformat": 4,
 "nbformat_minor": 5
}
