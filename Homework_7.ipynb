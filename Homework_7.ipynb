{
 "cells": [
  {
   "cell_type": "markdown",
   "id": "a096a770",
   "metadata": {},
   "source": [
    "Задание\n",
    "Берем отызывы за лето (из архива с материалами или предыдущего занятия)\n",
    "1. Учим conv сеть для классификации\n",
    "2. Рассмотреть 2-а варианта сеточек\n",
    "2.1 Инициализировать tf.keras.layers.Embedding предобученными векторами взять к примеру с https://rusvectores.org/ru/\n",
    "2.2 Инициализировать слой tf.keras.layers.Embedding по умолчанию (ну то есть вам ничего не делать с весами)\n",
    "\n",
    "Сравнить две архитектуры с предобученными весами и когда tf.keras.layers.Embedding обучается сразу со всей сеточкой, что получилось лучше"
   ]
  },
  {
   "cell_type": "code",
   "execution_count": 1,
   "id": "da90ec32",
   "metadata": {},
   "outputs": [],
   "source": [
    "import pandas as pd\n",
    "import numpy as np\n",
    "from string import punctuation\n",
    "from nltk.corpus import stopwords\n",
    "from pymorphy2 import MorphAnalyzer\n",
    "import re\n",
    "from sklearn.model_selection import train_test_split\n",
    "import nltk\n",
    "from nltk.probability import FreqDist\n",
    "from nltk.tokenize import word_tokenize\n",
    "from tensorflow.keras.utils import to_categorical"
   ]
  },
  {
   "cell_type": "code",
   "execution_count": 2,
   "id": "033e5bdb",
   "metadata": {},
   "outputs": [
    {
     "data": {
      "text/html": [
       "<div>\n",
       "<style scoped>\n",
       "    .dataframe tbody tr th:only-of-type {\n",
       "        vertical-align: middle;\n",
       "    }\n",
       "\n",
       "    .dataframe tbody tr th {\n",
       "        vertical-align: top;\n",
       "    }\n",
       "\n",
       "    .dataframe thead th {\n",
       "        text-align: right;\n",
       "    }\n",
       "</style>\n",
       "<table border=\"1\" class=\"dataframe\">\n",
       "  <thead>\n",
       "    <tr style=\"text-align: right;\">\n",
       "      <th></th>\n",
       "      <th>Rating</th>\n",
       "      <th>Content</th>\n",
       "      <th>Date</th>\n",
       "    </tr>\n",
       "  </thead>\n",
       "  <tbody>\n",
       "    <tr>\n",
       "      <th>0</th>\n",
       "      <td>5</td>\n",
       "      <td>It just works!</td>\n",
       "      <td>2017-08-14</td>\n",
       "    </tr>\n",
       "    <tr>\n",
       "      <th>1</th>\n",
       "      <td>4</td>\n",
       "      <td>В целом удобноное приложение...из минусов хотя...</td>\n",
       "      <td>2017-08-14</td>\n",
       "    </tr>\n",
       "    <tr>\n",
       "      <th>2</th>\n",
       "      <td>5</td>\n",
       "      <td>Отлично все</td>\n",
       "      <td>2017-08-14</td>\n",
       "    </tr>\n",
       "    <tr>\n",
       "      <th>3</th>\n",
       "      <td>5</td>\n",
       "      <td>Стал зависать на 1% работы антивируса. Дальше ...</td>\n",
       "      <td>2017-08-14</td>\n",
       "    </tr>\n",
       "    <tr>\n",
       "      <th>4</th>\n",
       "      <td>5</td>\n",
       "      <td>Очень удобно, работает быстро.</td>\n",
       "      <td>2017-08-14</td>\n",
       "    </tr>\n",
       "    <tr>\n",
       "      <th>...</th>\n",
       "      <td>...</td>\n",
       "      <td>...</td>\n",
       "      <td>...</td>\n",
       "    </tr>\n",
       "    <tr>\n",
       "      <th>20654</th>\n",
       "      <td>1</td>\n",
       "      <td>Ну и шляпа,с роот правами бесполезная прога,ра...</td>\n",
       "      <td>2017-06-01</td>\n",
       "    </tr>\n",
       "    <tr>\n",
       "      <th>20655</th>\n",
       "      <td>5</td>\n",
       "      <td>Ок</td>\n",
       "      <td>2017-06-01</td>\n",
       "    </tr>\n",
       "    <tr>\n",
       "      <th>20656</th>\n",
       "      <td>4</td>\n",
       "      <td>Доволен</td>\n",
       "      <td>2017-06-01</td>\n",
       "    </tr>\n",
       "    <tr>\n",
       "      <th>20657</th>\n",
       "      <td>1</td>\n",
       "      <td>Песопаснасть, рут ни нужын</td>\n",
       "      <td>2017-06-01</td>\n",
       "    </tr>\n",
       "    <tr>\n",
       "      <th>20658</th>\n",
       "      <td>5</td>\n",
       "      <td>Сбербанк бомбовая компания на сегодняшний день...</td>\n",
       "      <td>2017-06-01</td>\n",
       "    </tr>\n",
       "  </tbody>\n",
       "</table>\n",
       "<p>20659 rows × 3 columns</p>\n",
       "</div>"
      ],
      "text/plain": [
       "       Rating                                            Content        Date\n",
       "0           5                                     It just works!  2017-08-14\n",
       "1           4  В целом удобноное приложение...из минусов хотя...  2017-08-14\n",
       "2           5                                        Отлично все  2017-08-14\n",
       "3           5  Стал зависать на 1% работы антивируса. Дальше ...  2017-08-14\n",
       "4           5                     Очень удобно, работает быстро.  2017-08-14\n",
       "...       ...                                                ...         ...\n",
       "20654       1  Ну и шляпа,с роот правами бесполезная прога,ра...  2017-06-01\n",
       "20655       5                                                 Ок  2017-06-01\n",
       "20656       4                                            Доволен  2017-06-01\n",
       "20657       1                         Песопаснасть, рут ни нужын  2017-06-01\n",
       "20658       5  Сбербанк бомбовая компания на сегодняшний день...  2017-06-01\n",
       "\n",
       "[20659 rows x 3 columns]"
      ]
     },
     "execution_count": 2,
     "metadata": {},
     "output_type": "execute_result"
    }
   ],
   "source": [
    "data = pd.read_excel('отзывы за лето.xls')\n",
    "data"
   ]
  },
  {
   "cell_type": "code",
   "execution_count": 3,
   "id": "33c4d523",
   "metadata": {
    "id": "2H5tFUEMCE7d"
   },
   "outputs": [],
   "source": [
    "max_words = 20000\n",
    "max_len = 150\n",
    "num_classes = 5\n",
    "\n",
    "# Training\n",
    "epochs = 20\n",
    "batch_size = 512\n",
    "print_batch_n = 100"
   ]
  },
  {
   "cell_type": "code",
   "execution_count": 4,
   "id": "a2f649d1",
   "metadata": {},
   "outputs": [],
   "source": [
    "stopwordslist = stopwords.words(\"russian\")\n",
    "morpher = MorphAnalyzer()\n",
    "ptrn = r'[^a-zA-Zа-яА-Я0-9]'\n",
    "\n",
    "def words_only(text):\n",
    "    text=str(text)\n",
    "    return text.lower()   \n",
    "\n",
    "def remove_punkt(text):\n",
    "    return re.sub(ptrn, ' ', text)\n",
    "\n",
    "def to_token(text):\n",
    "    return nltk.tokenize.word_tokenize(text)\n",
    "\n",
    "def remove_stopwords(text):\n",
    "    text_list = [w for w in text if w not in stopwordslist]\n",
    "    return ' '.join(word for word in text_list)\n",
    "\n",
    "def morphe_text(text):\n",
    "    text = [morpher.parse(word)[0].normal_form for word in text.split() if word not in stopwordslist]\n",
    "    return \" \".join(text)\n",
    "\n",
    "def normalize_text(text):\n",
    "    text = words_only(text)\n",
    "    text = remove_punkt(text)\n",
    "    text = to_token(text)\n",
    "    text = remove_stopwords(text)\n",
    "    text = morphe_text(text)\n",
    "    return text"
   ]
  },
  {
   "cell_type": "code",
   "execution_count": 5,
   "id": "6c5e3d42",
   "metadata": {},
   "outputs": [],
   "source": [
    "data['Content_norm'] = data['Content'].apply(normalize_text)"
   ]
  },
  {
   "cell_type": "code",
   "execution_count": 6,
   "id": "4b8376d5",
   "metadata": {},
   "outputs": [
    {
     "data": {
      "text/html": [
       "<div>\n",
       "<style scoped>\n",
       "    .dataframe tbody tr th:only-of-type {\n",
       "        vertical-align: middle;\n",
       "    }\n",
       "\n",
       "    .dataframe tbody tr th {\n",
       "        vertical-align: top;\n",
       "    }\n",
       "\n",
       "    .dataframe thead th {\n",
       "        text-align: right;\n",
       "    }\n",
       "</style>\n",
       "<table border=\"1\" class=\"dataframe\">\n",
       "  <thead>\n",
       "    <tr style=\"text-align: right;\">\n",
       "      <th></th>\n",
       "      <th>Rating</th>\n",
       "      <th>Content</th>\n",
       "      <th>Date</th>\n",
       "      <th>Content_norm</th>\n",
       "    </tr>\n",
       "  </thead>\n",
       "  <tbody>\n",
       "    <tr>\n",
       "      <th>10354</th>\n",
       "      <td>5</td>\n",
       "      <td>Отлично</td>\n",
       "      <td>2017-07-30</td>\n",
       "      <td>отлично</td>\n",
       "    </tr>\n",
       "    <tr>\n",
       "      <th>15019</th>\n",
       "      <td>5</td>\n",
       "      <td>Всё классно</td>\n",
       "      <td>2017-07-22</td>\n",
       "      <td>вс классно</td>\n",
       "    </tr>\n",
       "    <tr>\n",
       "      <th>17189</th>\n",
       "      <td>5</td>\n",
       "      <td>Очень удобное приложение</td>\n",
       "      <td>2017-07-13</td>\n",
       "      <td>очень удобный приложение</td>\n",
       "    </tr>\n",
       "    <tr>\n",
       "      <th>18077</th>\n",
       "      <td>4</td>\n",
       "      <td>Все ОК</td>\n",
       "      <td>2017-07-07</td>\n",
       "      <td>около</td>\n",
       "    </tr>\n",
       "    <tr>\n",
       "      <th>20060</th>\n",
       "      <td>5</td>\n",
       "      <td>Всё замечательно, спасибо!</td>\n",
       "      <td>2017-06-15</td>\n",
       "      <td>вс замечательный спасибо</td>\n",
       "    </tr>\n",
       "  </tbody>\n",
       "</table>\n",
       "</div>"
      ],
      "text/plain": [
       "       Rating                     Content        Date  \\\n",
       "10354       5                     Отлично  2017-07-30   \n",
       "15019       5                 Всё классно  2017-07-22   \n",
       "17189       5    Очень удобное приложение  2017-07-13   \n",
       "18077       4                      Все ОК  2017-07-07   \n",
       "20060       5  Всё замечательно, спасибо!  2017-06-15   \n",
       "\n",
       "                   Content_norm  \n",
       "10354                   отлично  \n",
       "15019                вс классно  \n",
       "17189  очень удобный приложение  \n",
       "18077                     около  \n",
       "20060  вс замечательный спасибо  "
      ]
     },
     "execution_count": 6,
     "metadata": {},
     "output_type": "execute_result"
    }
   ],
   "source": [
    "data.sample(5)"
   ]
  },
  {
   "cell_type": "code",
   "execution_count": 7,
   "id": "e539abf8",
   "metadata": {},
   "outputs": [],
   "source": [
    "train_corpus = \" \".join(data['Content_norm'])\n",
    "train_tokens = word_tokenize(train_corpus)\n",
    "train_tokens_filtered = [word for word in train_tokens if word.isalnum()]"
   ]
  },
  {
   "cell_type": "code",
   "execution_count": 8,
   "id": "e92e9866",
   "metadata": {},
   "outputs": [
    {
     "data": {
      "text/plain": [
       "['приложение',\n",
       " 'очень',\n",
       " 'удобно',\n",
       " 'работать',\n",
       " 'удобный',\n",
       " 'вс',\n",
       " 'спасибо',\n",
       " 'отлично',\n",
       " 'нравиться',\n",
       " 'телефон']"
      ]
     },
     "execution_count": 8,
     "metadata": {},
     "output_type": "execute_result"
    }
   ],
   "source": [
    "dist = FreqDist(train_tokens_filtered)\n",
    "tokens_filtered_top = [pair[0] for pair in dist.most_common(max_words-1)]\n",
    "tokens_filtered_top[:10]"
   ]
  },
  {
   "cell_type": "code",
   "execution_count": 9,
   "id": "e5616ae4",
   "metadata": {
    "id": "Tdk777qGJtz4"
   },
   "outputs": [],
   "source": [
    "vocabulary = {v: k for k, v in dict(enumerate(tokens_filtered_top, 1)).items()}"
   ]
  },
  {
   "cell_type": "code",
   "execution_count": 10,
   "id": "d54191cd",
   "metadata": {
    "id": "5OULZgvkJzpj"
   },
   "outputs": [],
   "source": [
    "def text_to_sequence(text, maxlen):\n",
    "    result = []\n",
    "    tokens = word_tokenize(text.lower())\n",
    "    tokens_filtered = [word for word in tokens if word.isalnum()]\n",
    "    for word in tokens_filtered:\n",
    "        if word in vocabulary:\n",
    "            result.append(vocabulary[word])\n",
    "    padding = [0]*(maxlen-len(result))\n",
    "    return padding + result[-maxlen:]"
   ]
  },
  {
   "cell_type": "code",
   "execution_count": 11,
   "id": "9edfd11a",
   "metadata": {},
   "outputs": [],
   "source": [
    "data_train = np.asarray([text_to_sequence(text, max_len) for text in data['Content_norm']], dtype=np.int32)"
   ]
  },
  {
   "cell_type": "code",
   "execution_count": 12,
   "id": "40593fd9",
   "metadata": {},
   "outputs": [],
   "source": [
    "X_train, X_test, y_train, y_test = train_test_split(data_train, data.Rating, test_size=0.33, random_state=42)"
   ]
  },
  {
   "cell_type": "code",
   "execution_count": 13,
   "id": "f351e9da",
   "metadata": {},
   "outputs": [
    {
     "data": {
      "text/plain": [
       "(13841, 150)"
      ]
     },
     "execution_count": 13,
     "metadata": {},
     "output_type": "execute_result"
    }
   ],
   "source": [
    "X_train.shape"
   ]
  },
  {
   "cell_type": "code",
   "execution_count": 14,
   "id": "5a0e58c3",
   "metadata": {},
   "outputs": [
    {
     "data": {
      "text/plain": [
       "array([1, 2, 3, 4, 5], dtype=int64)"
      ]
     },
     "execution_count": 14,
     "metadata": {},
     "output_type": "execute_result"
    }
   ],
   "source": [
    "from sklearn.preprocessing import LabelEncoder\n",
    "le = LabelEncoder()\n",
    "y_train = le.fit_transform(y_train) \n",
    "y_test = le.transform(y_test)\n",
    "le.classes_"
   ]
  },
  {
   "cell_type": "markdown",
   "id": "180cae75",
   "metadata": {
    "id": "xZkrNK8OMgZA"
   },
   "source": [
    "### Эмбединги по умолчанию"
   ]
  },
  {
   "cell_type": "code",
   "execution_count": 15,
   "id": "9ab49e85",
   "metadata": {
    "id": "p-fmNPMmMgZA"
   },
   "outputs": [],
   "source": [
    "import tensorflow as tf\n",
    "import keras\n",
    "from keras.models import Sequential, Model\n",
    "from keras.layers import Dense, Dropout, Activation, Input, Embedding, Conv1D, GlobalMaxPool1D, Flatten\n",
    "from keras.preprocessing.text import Tokenizer\n",
    "from keras.preprocessing.sequence import pad_sequences\n",
    "from keras.callbacks import TensorBoard \n",
    "from keras.losses import categorical_crossentropy, SparseCategoricalCrossentropy\n",
    "from keras.callbacks import EarlyStopping"
   ]
  },
  {
   "cell_type": "code",
   "execution_count": 16,
   "id": "781de4fa",
   "metadata": {},
   "outputs": [],
   "source": [
    "epochs = 5\n",
    "batch_size = 32"
   ]
  },
  {
   "cell_type": "code",
   "execution_count": 17,
   "id": "727c9851",
   "metadata": {
    "id": "6Dt4YyrSMgZB"
   },
   "outputs": [],
   "source": [
    "model = Sequential()\n",
    "model.add(Embedding(input_dim=max_words, output_dim=128, input_length=max_len))\n",
    "model.add(Conv1D(128, 3))\n",
    "model.add(Activation(\"relu\"))\n",
    "model.add(GlobalMaxPool1D())\n",
    "model.add(Flatten())\n",
    "model.add(Dense(10))\n",
    "model.add(Activation(\"relu\"))\n",
    "model.add(Dense(num_classes))\n",
    "model.add(Activation('softmax'))"
   ]
  },
  {
   "cell_type": "code",
   "execution_count": 18,
   "id": "8e3de9e8",
   "metadata": {},
   "outputs": [
    {
     "name": "stdout",
     "output_type": "stream",
     "text": [
      "Model: \"sequential\"\n",
      "_________________________________________________________________\n",
      "Layer (type)                 Output Shape              Param #   \n",
      "=================================================================\n",
      "embedding (Embedding)        (None, 150, 128)          2560000   \n",
      "_________________________________________________________________\n",
      "conv1d (Conv1D)              (None, 148, 128)          49280     \n",
      "_________________________________________________________________\n",
      "activation (Activation)      (None, 148, 128)          0         \n",
      "_________________________________________________________________\n",
      "global_max_pooling1d (Global (None, 128)               0         \n",
      "_________________________________________________________________\n",
      "flatten (Flatten)            (None, 128)               0         \n",
      "_________________________________________________________________\n",
      "dense (Dense)                (None, 10)                1290      \n",
      "_________________________________________________________________\n",
      "activation_1 (Activation)    (None, 10)                0         \n",
      "_________________________________________________________________\n",
      "dense_1 (Dense)              (None, 5)                 55        \n",
      "_________________________________________________________________\n",
      "activation_2 (Activation)    (None, 5)                 0         \n",
      "=================================================================\n",
      "Total params: 2,610,625\n",
      "Trainable params: 2,610,625\n",
      "Non-trainable params: 0\n",
      "_________________________________________________________________\n"
     ]
    }
   ],
   "source": [
    "model.summary()"
   ]
  },
  {
   "cell_type": "code",
   "execution_count": 19,
   "id": "36162f9e",
   "metadata": {},
   "outputs": [],
   "source": [
    "model.compile(loss=SparseCategoricalCrossentropy(),\n",
    "              optimizer='adam',\n",
    "              metrics=['accuracy'])"
   ]
  },
  {
   "cell_type": "code",
   "execution_count": 20,
   "id": "ab8f5529",
   "metadata": {},
   "outputs": [
    {
     "name": "stdout",
     "output_type": "stream",
     "text": [
      "Epoch 1/5\n",
      "390/390 [==============================] - 25s 21ms/step - loss: 0.8921 - accuracy: 0.7290 - val_loss: 0.6807 - val_accuracy: 0.7588\n",
      "Epoch 2/5\n",
      "390/390 [==============================] - 7s 18ms/step - loss: 0.5770 - accuracy: 0.7904 - val_loss: 0.6734 - val_accuracy: 0.7625\n",
      "Epoch 3/5\n",
      "390/390 [==============================] - 7s 18ms/step - loss: 0.5277 - accuracy: 0.8068 - val_loss: 0.6751 - val_accuracy: 0.7675\n",
      "Epoch 4/5\n",
      "390/390 [==============================] - 7s 18ms/step - loss: 0.4543 - accuracy: 0.8380 - val_loss: 0.7035 - val_accuracy: 0.7690\n",
      "Epoch 5/5\n",
      "390/390 [==============================] - 7s 19ms/step - loss: 0.3904 - accuracy: 0.8585 - val_loss: 0.7590 - val_accuracy: 0.7653\n"
     ]
    },
    {
     "data": {
      "text/plain": [
       "<keras.callbacks.History at 0x2ba9f5d5f10>"
      ]
     },
     "execution_count": 20,
     "metadata": {},
     "output_type": "execute_result"
    }
   ],
   "source": [
    "model.fit(X_train, y_train,\n",
    "          batch_size=batch_size,\n",
    "          epochs=epochs,\n",
    "          verbose=1,\n",
    "          validation_split=0.1)"
   ]
  },
  {
   "cell_type": "code",
   "execution_count": 21,
   "id": "52b70653",
   "metadata": {
    "id": "VtIeszxWMgZE",
    "outputId": "704df51b-2579-435e-e992-8c417ccee41e"
   },
   "outputs": [
    {
     "name": "stdout",
     "output_type": "stream",
     "text": [
      "214/214 [==============================] - 1s 3ms/step - loss: 0.7378 - accuracy: 0.7727\n",
      "\n",
      "\n",
      "Test score: 0.737763524055481\n",
      "Test accuracy: 0.7726606130599976\n"
     ]
    }
   ],
   "source": [
    "score = model.evaluate(X_test, y_test, batch_size=batch_size, verbose=1)\n",
    "print('\\n')\n",
    "print('Test score:', score[0])\n",
    "print('Test accuracy:', score[1])"
   ]
  },
  {
   "cell_type": "markdown",
   "id": "1226a281",
   "metadata": {},
   "source": [
    "### Предобученнные эмбединги"
   ]
  },
  {
   "cell_type": "code",
   "execution_count": 22,
   "id": "e0743f9c",
   "metadata": {},
   "outputs": [
    {
     "name": "stdout",
     "output_type": "stream",
     "text": [
      "Found 248979 word vectors.\n"
     ]
    }
   ],
   "source": [
    "path_to_file = \"./182/model.txt\"\n",
    "\n",
    "embeddings_index = {}\n",
    "with open(path_to_file) as f:\n",
    "    for line in f:\n",
    "        word, coefs = line.split(maxsplit=1)\n",
    "        coefs = np.fromstring(coefs, \"f\", sep=\" \")\n",
    "        embeddings_index[word] = coefs\n",
    "\n",
    "print(\"Found %s word vectors.\" % len(embeddings_index))"
   ]
  },
  {
   "cell_type": "code",
   "execution_count": 23,
   "id": "1a114d7c",
   "metadata": {},
   "outputs": [],
   "source": [
    "embedding_dim = 300\n",
    "\n",
    "embedding_matrix = np.zeros((max_words, embedding_dim))\n",
    "for word in tokens_filtered_top:\n",
    "    embedding_vector = embeddings_index.get(word)\n",
    "    if embedding_vector is not None:\n",
    "        # words not found in embedding index will be all-zeros.\n",
    "        embedding_matrix[tokens_filtered_top.index(word)] = embedding_vector"
   ]
  },
  {
   "cell_type": "code",
   "execution_count": 24,
   "id": "89add086",
   "metadata": {},
   "outputs": [],
   "source": [
    "model = Sequential()\n",
    "model.add(Embedding(input_dim=max_words, weights=[embedding_matrix], output_dim=embedding_dim, input_length=max_len))\n",
    "model.add(Conv1D(128, 3))\n",
    "model.add(Activation(\"relu\"))\n",
    "model.add(GlobalMaxPool1D())\n",
    "model.add(Dense(10))\n",
    "model.add(Activation(\"relu\"))\n",
    "model.add(Dense(num_classes))\n",
    "model.add(Activation('softmax'))"
   ]
  },
  {
   "cell_type": "code",
   "execution_count": 25,
   "id": "5968c84b",
   "metadata": {},
   "outputs": [
    {
     "name": "stdout",
     "output_type": "stream",
     "text": [
      "Model: \"sequential_1\"\n",
      "_________________________________________________________________\n",
      "Layer (type)                 Output Shape              Param #   \n",
      "=================================================================\n",
      "embedding_1 (Embedding)      (None, 150, 300)          6000000   \n",
      "_________________________________________________________________\n",
      "conv1d_1 (Conv1D)            (None, 148, 128)          115328    \n",
      "_________________________________________________________________\n",
      "activation_3 (Activation)    (None, 148, 128)          0         \n",
      "_________________________________________________________________\n",
      "global_max_pooling1d_1 (Glob (None, 128)               0         \n",
      "_________________________________________________________________\n",
      "dense_2 (Dense)              (None, 10)                1290      \n",
      "_________________________________________________________________\n",
      "activation_4 (Activation)    (None, 10)                0         \n",
      "_________________________________________________________________\n",
      "dense_3 (Dense)              (None, 5)                 55        \n",
      "_________________________________________________________________\n",
      "activation_5 (Activation)    (None, 5)                 0         \n",
      "=================================================================\n",
      "Total params: 6,116,673\n",
      "Trainable params: 6,116,673\n",
      "Non-trainable params: 0\n",
      "_________________________________________________________________\n"
     ]
    }
   ],
   "source": [
    "model.summary()"
   ]
  },
  {
   "cell_type": "code",
   "execution_count": 26,
   "id": "169c347b",
   "metadata": {},
   "outputs": [],
   "source": [
    "model.compile(loss=SparseCategoricalCrossentropy(),\n",
    "              optimizer='adam',\n",
    "              metrics=['accuracy'])"
   ]
  },
  {
   "cell_type": "code",
   "execution_count": 27,
   "id": "513412d2",
   "metadata": {},
   "outputs": [
    {
     "name": "stdout",
     "output_type": "stream",
     "text": [
      "Epoch 1/5\n",
      "390/390 [==============================] - 18s 44ms/step - loss: 1.5234 - accuracy: 0.6936 - val_loss: 1.3041 - val_accuracy: 0.7011\n",
      "Epoch 2/5\n",
      "390/390 [==============================] - 17s 43ms/step - loss: 1.2540 - accuracy: 0.6984 - val_loss: 1.1324 - val_accuracy: 0.7011\n",
      "Epoch 3/5\n",
      "390/390 [==============================] - 17s 43ms/step - loss: 1.0906 - accuracy: 0.7128 - val_loss: 1.0531 - val_accuracy: 0.7011\n",
      "Epoch 4/5\n",
      "390/390 [==============================] - 17s 44ms/step - loss: 1.0378 - accuracy: 0.7021 - val_loss: 1.0198 - val_accuracy: 0.7011\n",
      "Epoch 5/5\n",
      "390/390 [==============================] - 17s 43ms/step - loss: 1.0160 - accuracy: 0.6991 - val_loss: 1.0068 - val_accuracy: 0.7011\n"
     ]
    },
    {
     "data": {
      "text/plain": [
       "<keras.callbacks.History at 0x2ba933b9790>"
      ]
     },
     "execution_count": 27,
     "metadata": {},
     "output_type": "execute_result"
    }
   ],
   "source": [
    "model.fit(X_train, y_train,\n",
    "          batch_size=batch_size,\n",
    "          epochs=epochs,\n",
    "          verbose=1,\n",
    "          validation_split=0.1)"
   ]
  },
  {
   "cell_type": "code",
   "execution_count": 29,
   "id": "f403d060",
   "metadata": {},
   "outputs": [
    {
     "name": "stdout",
     "output_type": "stream",
     "text": [
      "214/214 [==============================] - 1s 3ms/step - loss: 0.9802 - accuracy: 0.7125\n",
      "\n",
      "\n",
      "Test score: 0.9802106618881226\n",
      "Test accuracy: 0.7125256657600403\n"
     ]
    }
   ],
   "source": [
    "score = model.evaluate(X_test, y_test, batch_size=batch_size, verbose=1)\n",
    "print('\\n')\n",
    "print('Test score:', score[0])\n",
    "print('Test accuracy:', score[1])"
   ]
  },
  {
   "cell_type": "markdown",
   "id": "94859b53",
   "metadata": {},
   "source": [
    "Точность на предобученных эмбедингах ниже. Вероятно, сказывается несоответсвие словарей."
   ]
  },
  {
   "cell_type": "code",
   "execution_count": null,
   "id": "d1cbd4dc",
   "metadata": {},
   "outputs": [],
   "source": []
  }
 ],
 "metadata": {
  "kernelspec": {
   "display_name": "Python 3",
   "language": "python",
   "name": "python3"
  },
  "language_info": {
   "codemirror_mode": {
    "name": "ipython",
    "version": 3
   },
   "file_extension": ".py",
   "mimetype": "text/x-python",
   "name": "python",
   "nbconvert_exporter": "python",
   "pygments_lexer": "ipython3",
   "version": "3.8.8"
  }
 },
 "nbformat": 4,
 "nbformat_minor": 5
}
