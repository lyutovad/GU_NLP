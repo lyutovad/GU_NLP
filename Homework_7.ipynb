{
 "cells": [
  {
   "cell_type": "markdown",
   "id": "a096a770",
   "metadata": {},
   "source": [
    "Задание\n",
    "Берем отызывы за лето (из архива с материалами или предыдущего занятия)\n",
    "1. Учим conv сеть для классификации\n",
    "2. Рассмотреть 2-а варианта сеточек\n",
    "2.1 Инициализировать tf.keras.layers.Embedding предобученными векторами взять к примеру с https://rusvectores.org/ru/\n",
    "2.2 Инициализировать слой tf.keras.layers.Embedding по умолчанию (ну то есть вам ничего не делать с весами)\n",
    "\n",
    "Сравнить две архитектуры с предобученными весами и когда tf.keras.layers.Embedding обучается сразу со всей сеточкой, что получилось лучше"
   ]
  },
  {
   "cell_type": "code",
   "execution_count": 1,
   "id": "da90ec32",
   "metadata": {},
   "outputs": [],
   "source": [
    "import pandas as pd\n",
    "import numpy as np\n",
    "from string import punctuation\n",
    "from stop_words import get_stop_words\n",
    "from pymorphy2 import MorphAnalyzer\n",
    "import re\n",
    "from sklearn.model_selection import train_test_split\n",
    "import nltk\n",
    "from nltk.probability import FreqDist\n",
    "from nltk.tokenize import word_tokenize\n",
    "from tensorflow.keras.utils import to_categorical\n",
    "\n"
   ]
  },
  {
   "cell_type": "code",
   "execution_count": 2,
   "id": "033e5bdb",
   "metadata": {},
   "outputs": [
    {
     "data": {
      "text/html": [
       "<div>\n",
       "<style scoped>\n",
       "    .dataframe tbody tr th:only-of-type {\n",
       "        vertical-align: middle;\n",
       "    }\n",
       "\n",
       "    .dataframe tbody tr th {\n",
       "        vertical-align: top;\n",
       "    }\n",
       "\n",
       "    .dataframe thead th {\n",
       "        text-align: right;\n",
       "    }\n",
       "</style>\n",
       "<table border=\"1\" class=\"dataframe\">\n",
       "  <thead>\n",
       "    <tr style=\"text-align: right;\">\n",
       "      <th></th>\n",
       "      <th>Rating</th>\n",
       "      <th>Content</th>\n",
       "      <th>Date</th>\n",
       "    </tr>\n",
       "  </thead>\n",
       "  <tbody>\n",
       "    <tr>\n",
       "      <th>0</th>\n",
       "      <td>5</td>\n",
       "      <td>It just works!</td>\n",
       "      <td>2017-08-14</td>\n",
       "    </tr>\n",
       "    <tr>\n",
       "      <th>1</th>\n",
       "      <td>4</td>\n",
       "      <td>В целом удобноное приложение...из минусов хотя...</td>\n",
       "      <td>2017-08-14</td>\n",
       "    </tr>\n",
       "    <tr>\n",
       "      <th>2</th>\n",
       "      <td>5</td>\n",
       "      <td>Отлично все</td>\n",
       "      <td>2017-08-14</td>\n",
       "    </tr>\n",
       "    <tr>\n",
       "      <th>3</th>\n",
       "      <td>5</td>\n",
       "      <td>Стал зависать на 1% работы антивируса. Дальше ...</td>\n",
       "      <td>2017-08-14</td>\n",
       "    </tr>\n",
       "    <tr>\n",
       "      <th>4</th>\n",
       "      <td>5</td>\n",
       "      <td>Очень удобно, работает быстро.</td>\n",
       "      <td>2017-08-14</td>\n",
       "    </tr>\n",
       "    <tr>\n",
       "      <th>...</th>\n",
       "      <td>...</td>\n",
       "      <td>...</td>\n",
       "      <td>...</td>\n",
       "    </tr>\n",
       "    <tr>\n",
       "      <th>20654</th>\n",
       "      <td>1</td>\n",
       "      <td>Ну и шляпа,с роот правами бесполезная прога,ра...</td>\n",
       "      <td>2017-06-01</td>\n",
       "    </tr>\n",
       "    <tr>\n",
       "      <th>20655</th>\n",
       "      <td>5</td>\n",
       "      <td>Ок</td>\n",
       "      <td>2017-06-01</td>\n",
       "    </tr>\n",
       "    <tr>\n",
       "      <th>20656</th>\n",
       "      <td>4</td>\n",
       "      <td>Доволен</td>\n",
       "      <td>2017-06-01</td>\n",
       "    </tr>\n",
       "    <tr>\n",
       "      <th>20657</th>\n",
       "      <td>1</td>\n",
       "      <td>Песопаснасть, рут ни нужын</td>\n",
       "      <td>2017-06-01</td>\n",
       "    </tr>\n",
       "    <tr>\n",
       "      <th>20658</th>\n",
       "      <td>5</td>\n",
       "      <td>Сбербанк бомбовая компания на сегодняшний день...</td>\n",
       "      <td>2017-06-01</td>\n",
       "    </tr>\n",
       "  </tbody>\n",
       "</table>\n",
       "<p>20659 rows × 3 columns</p>\n",
       "</div>"
      ],
      "text/plain": [
       "       Rating                                            Content        Date\n",
       "0           5                                     It just works!  2017-08-14\n",
       "1           4  В целом удобноное приложение...из минусов хотя...  2017-08-14\n",
       "2           5                                        Отлично все  2017-08-14\n",
       "3           5  Стал зависать на 1% работы антивируса. Дальше ...  2017-08-14\n",
       "4           5                     Очень удобно, работает быстро.  2017-08-14\n",
       "...       ...                                                ...         ...\n",
       "20654       1  Ну и шляпа,с роот правами бесполезная прога,ра...  2017-06-01\n",
       "20655       5                                                 Ок  2017-06-01\n",
       "20656       4                                            Доволен  2017-06-01\n",
       "20657       1                         Песопаснасть, рут ни нужын  2017-06-01\n",
       "20658       5  Сбербанк бомбовая компания на сегодняшний день...  2017-06-01\n",
       "\n",
       "[20659 rows x 3 columns]"
      ]
     },
     "execution_count": 2,
     "metadata": {},
     "output_type": "execute_result"
    }
   ],
   "source": [
    "data = pd.read_excel('отзывы за лето.xls')\n",
    "data"
   ]
  },
  {
   "cell_type": "code",
   "execution_count": 3,
   "id": "a6b6edd1",
   "metadata": {},
   "outputs": [],
   "source": [
    "X_train, X_test, y_train, y_test = train_test_split(data.Content, data.Rating, test_size=0.3, random_state=42)"
   ]
  },
  {
   "cell_type": "code",
   "execution_count": 4,
   "id": "6bed2d7b",
   "metadata": {
    "id": "VMnTsX0mMgY8"
   },
   "outputs": [],
   "source": [
    "sw = set(get_stop_words(\"ru\"))\n",
    "exclude = set(punctuation)\n",
    "morpher = MorphAnalyzer()\n",
    "\n",
    "def preprocess_text(txt):\n",
    "    txt = str(txt)\n",
    "    txt = \"\".join(c for c in txt if c not in exclude)\n",
    "    txt = txt.lower()\n",
    "    txt = re.sub(\"\\sне\", \"не\", txt)\n",
    "    txt = [morpher.parse(word)[0].normal_form for word in txt.split() if word not in sw]\n",
    "    return \" \".join(txt)\n",
    "\n",
    "X_train = X_train.apply(preprocess_text)\n",
    "X_test = X_test.apply(preprocess_text)"
   ]
  },
  {
   "cell_type": "code",
   "execution_count": 5,
   "id": "745899a7",
   "metadata": {
    "id": "C4o9QgmWI3Pw"
   },
   "outputs": [],
   "source": [
    "train_corpus = \" \".join(X_train)\n",
    "data_corpus = train_corpus.lower()\n",
    "\n",
    "# test_corpus = \" \".join(X_test)\n",
    "# test_corpus = test_corpus.lower()"
   ]
  },
  {
   "cell_type": "code",
   "execution_count": 6,
   "id": "cd67928e",
   "metadata": {
    "colab": {
     "base_uri": "https://localhost:8080/",
     "height": 51
    },
    "id": "Hed2ySbwJH6B",
    "outputId": "66a75988-b4e3-45aa-a483-adbdc766db03"
   },
   "outputs": [
    {
     "name": "stderr",
     "output_type": "stream",
     "text": [
      "[nltk_data] Downloading package punkt to\n",
      "[nltk_data]     C:\\Users\\gromo\\AppData\\Roaming\\nltk_data...\n",
      "[nltk_data]   Package punkt is already up-to-date!\n"
     ]
    }
   ],
   "source": [
    "nltk.download(\"punkt\")\n",
    "\n",
    "train_tokens = word_tokenize(train_corpus)"
   ]
  },
  {
   "cell_type": "markdown",
   "id": "526ee8a2",
   "metadata": {
    "id": "yJ8T0fwYJYJX"
   },
   "source": [
    "Отфильтруем данные\n",
    "\n",
    "и соберём в корпус N наиболее частых токенов"
   ]
  },
  {
   "cell_type": "code",
   "execution_count": 7,
   "id": "fe70f3ae",
   "metadata": {
    "id": "EXOLVK1tJLT8"
   },
   "outputs": [],
   "source": [
    "train_tokens_filtered = [word for word in train_tokens if word.isalnum()]"
   ]
  },
  {
   "cell_type": "code",
   "execution_count": 8,
   "id": "78a3c759",
   "metadata": {
    "id": "8qCQH5nIJoiB"
   },
   "outputs": [],
   "source": [
    "max_words = 20000\n",
    "dist = FreqDist(train_tokens_filtered)\n",
    "tokens_filtered_top = [pair[0] for pair in dist.most_common(max_words-1)]"
   ]
  },
  {
   "cell_type": "code",
   "execution_count": 9,
   "id": "63b00720",
   "metadata": {
    "colab": {
     "base_uri": "https://localhost:8080/",
     "height": 340
    },
    "id": "bRQ-6wwjJrGo",
    "outputId": "ba8ebf9e-c6aa-4703-b54f-39b561e33493"
   },
   "outputs": [
    {
     "data": {
      "text/plain": [
       "['приложение',\n",
       " 'удобно',\n",
       " 'работать',\n",
       " 'удобный',\n",
       " 'отлично',\n",
       " 'нравиться',\n",
       " 'хороший',\n",
       " 'отличный',\n",
       " 'телефон',\n",
       " 'супер']"
      ]
     },
     "execution_count": 9,
     "metadata": {},
     "output_type": "execute_result"
    }
   ],
   "source": [
    "tokens_filtered_top[:10]"
   ]
  },
  {
   "cell_type": "code",
   "execution_count": 10,
   "id": "573a406d",
   "metadata": {},
   "outputs": [],
   "source": [
    "max_words = len(set(train_tokens_filtered))"
   ]
  },
  {
   "cell_type": "code",
   "execution_count": 11,
   "id": "470c3882",
   "metadata": {
    "id": "Tdk777qGJtz4"
   },
   "outputs": [],
   "source": [
    "vocabulary = {v: k for k, v in dict(enumerate(tokens_filtered_top, 1)).items()}"
   ]
  },
  {
   "cell_type": "code",
   "execution_count": 12,
   "id": "ff168cbe",
   "metadata": {
    "id": "5OULZgvkJzpj"
   },
   "outputs": [],
   "source": [
    "def text_to_sequence(text, maxlen):\n",
    "    result = []\n",
    "    tokens = word_tokenize(text.lower())\n",
    "    tokens_filtered = [word for word in tokens if word.isalnum()]\n",
    "    for word in tokens_filtered:\n",
    "        if word in vocabulary:\n",
    "            result.append(vocabulary[word])\n",
    "    padding = [0]*(maxlen-len(result))\n",
    "    return padding + result[-maxlen:]"
   ]
  },
  {
   "cell_type": "code",
   "execution_count": 13,
   "id": "2e122696",
   "metadata": {
    "id": "pqHlf5nNJ2hl"
   },
   "outputs": [],
   "source": [
    "max_len = 150\n",
    "x_train = np.asarray([text_to_sequence(text, max_len) for text in X_train], dtype=np.int32)\n",
    "x_test = np.asarray([text_to_sequence(text, max_len) for text in X_test], dtype=np.int32)"
   ]
  },
  {
   "cell_type": "code",
   "execution_count": 14,
   "id": "d65628f0",
   "metadata": {
    "colab": {
     "base_uri": "https://localhost:8080/",
     "height": 34
    },
    "id": "lI4NUg_TJ6NK",
    "outputId": "5d29285d-6c2e-4c34-f307-c2e9c3c12631"
   },
   "outputs": [
    {
     "data": {
      "text/plain": [
       "(14461, 150)"
      ]
     },
     "execution_count": 14,
     "metadata": {},
     "output_type": "execute_result"
    }
   ],
   "source": [
    "x_train.shape"
   ]
  },
  {
   "cell_type": "code",
   "execution_count": 15,
   "id": "f50026b2",
   "metadata": {},
   "outputs": [
    {
     "data": {
      "text/plain": [
       "array([1, 2, 3, 4, 5], dtype=int64)"
      ]
     },
     "execution_count": 15,
     "metadata": {},
     "output_type": "execute_result"
    }
   ],
   "source": [
    "from sklearn.preprocessing import LabelEncoder\n",
    "le = LabelEncoder()\n",
    "train_labels = le.fit_transform(y_train) \n",
    "test_labels = le.transform(y_test)\n",
    "le.classes_"
   ]
  },
  {
   "cell_type": "markdown",
   "id": "180cae75",
   "metadata": {
    "id": "xZkrNK8OMgZA"
   },
   "source": [
    "# Keras model"
   ]
  },
  {
   "cell_type": "code",
   "execution_count": 16,
   "id": "9ab49e85",
   "metadata": {
    "id": "p-fmNPMmMgZA"
   },
   "outputs": [],
   "source": [
    "import numpy as np\n",
    "import keras\n",
    "from keras.models import Sequential, Model\n",
    "from keras.layers import Dense, Dropout, Activation, Input, Embedding, Conv1D, GlobalMaxPool1D, Flatten\n",
    "from keras.preprocessing.text import Tokenizer\n",
    "from keras.preprocessing.sequence import pad_sequences\n",
    "from keras.callbacks import TensorBoard \n",
    "from keras.losses import categorical_crossentropy, SparseCategoricalCrossentropy\n",
    "from keras.callbacks import EarlyStopping"
   ]
  },
  {
   "cell_type": "code",
   "execution_count": 17,
   "id": "781de4fa",
   "metadata": {},
   "outputs": [],
   "source": [
    "num_classes = 5\n",
    "\n",
    "# Training\n",
    "epochs = 20\n",
    "batch_size = 128"
   ]
  },
  {
   "cell_type": "code",
   "execution_count": 18,
   "id": "727c9851",
   "metadata": {
    "id": "6Dt4YyrSMgZB"
   },
   "outputs": [],
   "source": [
    "model = Sequential()\n",
    "model.add(Embedding(input_dim=max_words, output_dim=128, input_length=max_len))\n",
    "model.add(Conv1D(128, 3))\n",
    "model.add(Activation(\"relu\"))\n",
    "model.add(GlobalMaxPool1D())\n",
    "model.add(Flatten())\n",
    "model.add(Dense(10))\n",
    "model.add(Activation(\"relu\"))\n",
    "model.add(Dense(num_classes))\n",
    "model.add(Activation('softmax'))"
   ]
  },
  {
   "cell_type": "code",
   "execution_count": 19,
   "id": "f4c6d317",
   "metadata": {
    "id": "nbMXaTTZMgZC"
   },
   "outputs": [],
   "source": [
    "model.compile(loss=SparseCategoricalCrossentropy(),\n",
    "              optimizer='adam',\n",
    "              metrics=['accuracy'])"
   ]
  },
  {
   "cell_type": "code",
   "execution_count": 20,
   "id": "415f7236",
   "metadata": {},
   "outputs": [
    {
     "name": "stdout",
     "output_type": "stream",
     "text": [
      "Model: \"sequential\"\n",
      "_________________________________________________________________\n",
      "Layer (type)                 Output Shape              Param #   \n",
      "=================================================================\n",
      "embedding (Embedding)        (None, 150, 128)          1311872   \n",
      "_________________________________________________________________\n",
      "conv1d (Conv1D)              (None, 148, 128)          49280     \n",
      "_________________________________________________________________\n",
      "activation (Activation)      (None, 148, 128)          0         \n",
      "_________________________________________________________________\n",
      "global_max_pooling1d (Global (None, 128)               0         \n",
      "_________________________________________________________________\n",
      "flatten (Flatten)            (None, 128)               0         \n",
      "_________________________________________________________________\n",
      "dense (Dense)                (None, 10)                1290      \n",
      "_________________________________________________________________\n",
      "activation_1 (Activation)    (None, 10)                0         \n",
      "_________________________________________________________________\n",
      "dense_1 (Dense)              (None, 5)                 55        \n",
      "_________________________________________________________________\n",
      "activation_2 (Activation)    (None, 5)                 0         \n",
      "=================================================================\n",
      "Total params: 1,362,497\n",
      "Trainable params: 1,362,497\n",
      "Non-trainable params: 0\n",
      "_________________________________________________________________\n"
     ]
    }
   ],
   "source": [
    "model.summary()"
   ]
  },
  {
   "cell_type": "code",
   "execution_count": null,
   "id": "edd2321b",
   "metadata": {
    "id": "yRisairjMgZC",
    "outputId": "a59a88d7-ac76-47ce-df1b-3a40b4441849"
   },
   "outputs": [
    {
     "name": "stdout",
     "output_type": "stream",
     "text": [
      "Epoch 1/20\n"
     ]
    }
   ],
   "source": [
    "model.fit(x_train, train_labels,\n",
    "          batch_size=batch_size,\n",
    "          epochs=epochs,\n",
    "          verbose=1,\n",
    "          validation_split=0.1)"
   ]
  },
  {
   "cell_type": "code",
   "execution_count": null,
   "id": "3aeb7817",
   "metadata": {},
   "outputs": [],
   "source": []
  },
  {
   "cell_type": "code",
   "execution_count": null,
   "id": "b8ec026e",
   "metadata": {},
   "outputs": [],
   "source": []
  },
  {
   "cell_type": "code",
   "execution_count": null,
   "id": "15dda31c",
   "metadata": {},
   "outputs": [],
   "source": []
  },
  {
   "cell_type": "code",
   "execution_count": null,
   "id": "4ca1209f",
   "metadata": {},
   "outputs": [],
   "source": []
  },
  {
   "cell_type": "code",
   "execution_count": null,
   "id": "5bc539b1",
   "metadata": {},
   "outputs": [],
   "source": []
  },
  {
   "cell_type": "code",
   "execution_count": null,
   "id": "bf37406d",
   "metadata": {},
   "outputs": [],
   "source": []
  },
  {
   "cell_type": "code",
   "execution_count": null,
   "id": "41fd821f",
   "metadata": {},
   "outputs": [],
   "source": []
  },
  {
   "cell_type": "code",
   "execution_count": null,
   "id": "f085da31",
   "metadata": {},
   "outputs": [],
   "source": []
  },
  {
   "cell_type": "code",
   "execution_count": null,
   "id": "139f4a68",
   "metadata": {
    "id": "gUQeNKRxMgZD",
    "outputId": "b189a6e5-6ff5-47d8-9ebe-e169e60a2268"
   },
   "outputs": [],
   "source": [
    "score = model.evaluate(x_val, y_val, batch_size=batch_size, verbose=1)\n",
    "print('\\n')\n",
    "print('Test score:', score[0])\n",
    "print('Test accuracy:', score[1])"
   ]
  },
  {
   "cell_type": "code",
   "execution_count": null,
   "id": "52b70653",
   "metadata": {
    "id": "VtIeszxWMgZE",
    "outputId": "704df51b-2579-435e-e992-8c417ccee41e"
   },
   "outputs": [],
   "source": [
    "results = model.predict(x_test, batch_size=batch_size, verbose=1)"
   ]
  },
  {
   "cell_type": "code",
   "execution_count": null,
   "id": "f501c0e6",
   "metadata": {
    "id": "LMIQIwctMgZE"
   },
   "outputs": [],
   "source": []
  },
  {
   "cell_type": "code",
   "execution_count": null,
   "id": "b2d18612",
   "metadata": {
    "id": "cGYcklt2MgZE"
   },
   "outputs": [],
   "source": [
    "from sklearn.feature_extraction.text import TfidfVectorizer\n",
    "from sklearn.linear_model import LogisticRegression\n",
    "\n",
    "from sklearn.metrics import accuracy_score "
   ]
  },
  {
   "cell_type": "code",
   "execution_count": null,
   "id": "783a6933",
   "metadata": {
    "id": "H_E_NkzBMgZE"
   },
   "outputs": [],
   "source": [
    "vect = TfidfVectorizer(ngram_range=(1, 2), analyzer='word', lowercase=False)"
   ]
  },
  {
   "cell_type": "code",
   "execution_count": null,
   "id": "a8e50919",
   "metadata": {
    "id": "Dg1vtQCLMgZF"
   },
   "outputs": [],
   "source": [
    "train_ft = vect.fit_transform(df_train['text'])\n",
    "valid_ft = vect.transform(df_val['text'])"
   ]
  },
  {
   "cell_type": "code",
   "execution_count": null,
   "id": "98450120",
   "metadata": {
    "id": "Ab7EPlOuMgZF"
   },
   "outputs": [],
   "source": [
    "lgr = LogisticRegression()"
   ]
  },
  {
   "cell_type": "code",
   "execution_count": null,
   "id": "33157fbc",
   "metadata": {
    "id": "lJup5g1FMgZF",
    "outputId": "816aa5d6-521b-4b78-925d-76fa0ba69253"
   },
   "outputs": [],
   "source": [
    "lgr.fit(train_ft, df_train['class'].to_numpy())"
   ]
  },
  {
   "cell_type": "code",
   "execution_count": null,
   "id": "3580eaa2",
   "metadata": {
    "id": "ET5cYimuMgZG"
   },
   "outputs": [],
   "source": [
    "y_pred = lgr.predict(valid_ft)"
   ]
  },
  {
   "cell_type": "code",
   "execution_count": null,
   "id": "db1e3a0a",
   "metadata": {
    "id": "jZ5aTLzsMgZG",
    "outputId": "a5d88771-e0b5-4a48-86df-add25fa07206"
   },
   "outputs": [],
   "source": [
    "accuracy_score(df_val['class'].to_numpy(), y_pred)"
   ]
  },
  {
   "cell_type": "code",
   "execution_count": null,
   "id": "bf6bfd75",
   "metadata": {
    "id": "kFnpnj5_MgZG"
   },
   "outputs": [],
   "source": []
  },
  {
   "cell_type": "code",
   "execution_count": null,
   "id": "653d919c",
   "metadata": {
    "id": "WX3QgjKmMgZG"
   },
   "outputs": [],
   "source": [
    "from gensim.models import Word2Vec"
   ]
  },
  {
   "cell_type": "code",
   "execution_count": null,
   "id": "067c9979",
   "metadata": {
    "id": "sPiRG2tvMgZH",
    "outputId": "29829c0d-468c-4907-cf05-8ac262e00c68"
   },
   "outputs": [],
   "source": [
    "df_train['text']"
   ]
  },
  {
   "cell_type": "code",
   "execution_count": null,
   "id": "127467a8",
   "metadata": {
    "id": "eFB4RICGMgZH"
   },
   "outputs": [],
   "source": [
    "modelW2V = Word2Vec(sentences=df_train['text'].apply(str.split), size=100, window=5, min_count=5, workers=8)"
   ]
  },
  {
   "cell_type": "code",
   "execution_count": null,
   "id": "660778e4",
   "metadata": {
    "id": "8n9xJi4vMgZH",
    "outputId": "8ecb4f91-00ac-41f5-e875-acd313e5ae90"
   },
   "outputs": [],
   "source": [
    "modelW2V.wv.vocab"
   ]
  },
  {
   "cell_type": "code",
   "execution_count": null,
   "id": "e1c63274",
   "metadata": {
    "id": "QIxUX9d8MgZI"
   },
   "outputs": [],
   "source": [
    "vect_idf = TfidfVectorizer()\n",
    "vect_idf.fit_transform(df_train['text'])\n",
    "tfidf = dict(zip(vect_idf.get_feature_names(), vect_idf.idf_))"
   ]
  },
  {
   "cell_type": "code",
   "execution_count": null,
   "id": "a02d815d",
   "metadata": {
    "id": "b_iYzXlRMgZI",
    "outputId": "5be3c323-17be-404f-b1e4-1b8869ea8638"
   },
   "outputs": [],
   "source": [
    "tfidf"
   ]
  },
  {
   "cell_type": "code",
   "execution_count": null,
   "id": "ad29df60",
   "metadata": {
    "id": "cfgUTb-7MgZJ"
   },
   "outputs": [],
   "source": [
    "rt = vect_idf.vocabulary_.items()"
   ]
  },
  {
   "cell_type": "code",
   "execution_count": null,
   "id": "45e7b147",
   "metadata": {
    "id": "t5USS23aMgZJ",
    "outputId": "d6df588c-29f6-4a44-8ebf-4668c727349b"
   },
   "outputs": [],
   "source": [
    "tfidf['alisachachka']"
   ]
  },
  {
   "cell_type": "code",
   "execution_count": null,
   "id": "cbdcb4cf",
   "metadata": {
    "id": "XSfvMxa1MgZJ",
    "outputId": "31695a88-db30-4b9a-f210-e2c1727350fb"
   },
   "outputs": [],
   "source": [
    "vect_idf.idf_[vect_idf.vocabulary_['alisachachka']]"
   ]
  },
  {
   "cell_type": "code",
   "execution_count": null,
   "id": "fbbd7b2f",
   "metadata": {
    "id": "qGZ8LJ24MgZJ",
    "outputId": "270d4956-2740-41a7-9f8e-a7ad6935e6b8"
   },
   "outputs": [],
   "source": [
    "len(tfidf)"
   ]
  },
  {
   "cell_type": "code",
   "execution_count": null,
   "id": "2890b6df",
   "metadata": {
    "id": "6wU76Ps1MgZK"
   },
   "outputs": [],
   "source": [
    "from collections import defaultdict"
   ]
  },
  {
   "cell_type": "code",
   "execution_count": null,
   "id": "b04b4a4b",
   "metadata": {
    "id": "KMYzQh8uMgZK"
   },
   "outputs": [],
   "source": [
    "max_idf = max(vect_idf.idf_)\n",
    "\n",
    "word2weight = defaultdict(\n",
    "    lambda: max_idf,\n",
    "    [(w, vect_idf.idf_[i]) for w, i in vect_idf.vocabulary_.items()])"
   ]
  },
  {
   "cell_type": "code",
   "execution_count": null,
   "id": "0d10d82f",
   "metadata": {
    "id": "8j7mm8-QMgZK"
   },
   "outputs": [],
   "source": [
    "def get_vect_mean(txt):\n",
    "    vector_w2v = np.zeros(100)\n",
    "    n_w2v = 0\n",
    "    for wrd in txt.split():\n",
    "        if wrd in modelW2V:\n",
    "            vector_w2v += modelW2V[wrd]\n",
    "            n_w2v += 1\n",
    "    if n_w2v > 0:\n",
    "        vector_w2v = vector_w2v / n_w2v\n",
    "    return vector_w2v\n",
    "\n",
    "def get_vect_idf(txt):\n",
    "    vector_w2v = np.zeros(100)\n",
    "    n_w2v = 0\n",
    "    for wrd in txt.split():\n",
    "        if wrd in modelW2V:\n",
    "            iddf_ = tfidf.get(wrd, 1.)\n",
    "            vector_w2v += modelW2V[wrd]*iddf_\n",
    "            n_w2v += iddf_\n",
    "    if n_w2v > 0:\n",
    "        vector_w2v = vector_w2v / n_w2v\n",
    "    return vector_w2v"
   ]
  },
  {
   "cell_type": "code",
   "execution_count": null,
   "id": "2a49aac8",
   "metadata": {
    "id": "7CAbtlc5MgZL"
   },
   "outputs": [],
   "source": [
    "from tqdm import tqdm_notebook"
   ]
  },
  {
   "cell_type": "code",
   "execution_count": null,
   "id": "b2d92bed",
   "metadata": {
    "colab": {
     "referenced_widgets": [
      "0fb91ab0ab024c2382ab67fa73b4bd48",
      "50510615910e4fa4ba76fc23f4d9ab2b"
     ]
    },
    "id": "TzbO7LNOMgZL",
    "outputId": "4867c71c-e656-44ca-e147-febf5e2119c9"
   },
   "outputs": [],
   "source": [
    "arr_vect = []\n",
    "for txt in tqdm_notebook(df_train['text']):\n",
    "    arr_vect.append(get_vect_mean(txt))\n",
    "    \n",
    "arr_vect_valid = []\n",
    "for txt in tqdm_notebook(df_val['text']):\n",
    "    arr_vect_valid.append(get_vect_mean(txt))\n",
    "    \n",
    "train_w2v = np.asarray(arr_vect)    \n",
    "valid_w2v = np.asarray(arr_vect_valid)"
   ]
  },
  {
   "cell_type": "code",
   "execution_count": null,
   "id": "34b9cc1c",
   "metadata": {
    "id": "Z5YKLItiMgZL"
   },
   "outputs": [],
   "source": [
    "lgr_w2v = LogisticRegression()"
   ]
  },
  {
   "cell_type": "code",
   "execution_count": null,
   "id": "0b584947",
   "metadata": {
    "id": "Q6SnxEwqMgZM",
    "outputId": "1fb641fb-d111-49f3-82cd-27d0544231f6"
   },
   "outputs": [],
   "source": [
    "lgr_w2v.fit(train_w2v, df_train['class'].to_numpy())"
   ]
  },
  {
   "cell_type": "code",
   "execution_count": null,
   "id": "96059988",
   "metadata": {
    "id": "qUQlJRa8MgZM"
   },
   "outputs": [],
   "source": [
    "y_pred = lgr_w2v.predict(valid_w2v)"
   ]
  },
  {
   "cell_type": "code",
   "execution_count": null,
   "id": "802596ec",
   "metadata": {
    "id": "2nTiUw23MgZM",
    "outputId": "234c6c46-85c0-4252-f5f4-cb1c41e99c79"
   },
   "outputs": [],
   "source": [
    "accuracy_score(df_val['class'].to_numpy(), y_pred)"
   ]
  },
  {
   "cell_type": "code",
   "execution_count": null,
   "id": "66c6e89a",
   "metadata": {
    "id": "ND8FKFa2MgZN"
   },
   "outputs": [],
   "source": []
  },
  {
   "cell_type": "code",
   "execution_count": null,
   "id": "704ce010",
   "metadata": {
    "colab": {
     "referenced_widgets": [
      "8b9d409c86944bd6a9e9787b45cb26eb",
      "13edd68589cd4890a7ee75636ff4f223"
     ]
    },
    "id": "K9YfE5njMgZN",
    "outputId": "6a26f612-17dc-47cb-fa9d-e419018d0056"
   },
   "outputs": [],
   "source": [
    "arr_vect = []\n",
    "for txt in tqdm_notebook(df_train['text']):\n",
    "    arr_vect.append(get_vect_idf(txt))\n",
    "    \n",
    "arr_vect_valid = []\n",
    "for txt in tqdm_notebook(df_val['text']):\n",
    "    arr_vect_valid.append(get_vect_idf(txt))\n",
    "    \n",
    "train_w2v = np.asarray(arr_vect)    \n",
    "valid_w2v = np.asarray(arr_vect_valid)"
   ]
  },
  {
   "cell_type": "code",
   "execution_count": null,
   "id": "c8ae04a1",
   "metadata": {
    "id": "wNWcli2PMgZN",
    "outputId": "fa0aad71-36b4-44fb-b55c-8c4536da0039"
   },
   "outputs": [],
   "source": [
    "lgr_w2v = LogisticRegression()\n",
    "lgr_w2v.fit(train_w2v, df_train['class'].to_numpy())\n",
    "y_pred = lgr_w2v.predict(valid_w2v)"
   ]
  },
  {
   "cell_type": "code",
   "execution_count": null,
   "id": "44055298",
   "metadata": {
    "id": "vo0bS0yhMgZO",
    "outputId": "07097876-e4f8-47b4-bfd4-9972ea989a26"
   },
   "outputs": [],
   "source": [
    "accuracy_score(df_val['class'].to_numpy(), y_pred)"
   ]
  },
  {
   "cell_type": "code",
   "execution_count": null,
   "id": "57a509bc",
   "metadata": {
    "id": "-yg5JrZxMgZO"
   },
   "outputs": [],
   "source": []
  },
  {
   "cell_type": "code",
   "execution_count": null,
   "id": "4329ff65",
   "metadata": {
    "id": "1wP3Q9PeMgZO"
   },
   "outputs": [],
   "source": []
  },
  {
   "cell_type": "code",
   "execution_count": null,
   "id": "8b0ac52f",
   "metadata": {
    "id": "Tskwb78hMgZP"
   },
   "outputs": [],
   "source": []
  },
  {
   "cell_type": "code",
   "execution_count": null,
   "id": "b63aa02b",
   "metadata": {
    "id": "IxR11Ed7MgZP"
   },
   "outputs": [],
   "source": []
  },
  {
   "cell_type": "code",
   "execution_count": null,
   "id": "134d44a6",
   "metadata": {
    "id": "qFIaRPhfMgZU"
   },
   "outputs": [],
   "source": []
  },
  {
   "cell_type": "code",
   "execution_count": null,
   "id": "a136db62",
   "metadata": {},
   "outputs": [],
   "source": []
  }
 ],
 "metadata": {
  "kernelspec": {
   "display_name": "Python 3",
   "language": "python",
   "name": "python3"
  },
  "language_info": {
   "codemirror_mode": {
    "name": "ipython",
    "version": 3
   },
   "file_extension": ".py",
   "mimetype": "text/x-python",
   "name": "python",
   "nbconvert_exporter": "python",
   "pygments_lexer": "ipython3",
   "version": "3.8.8"
  }
 },
 "nbformat": 4,
 "nbformat_minor": 5
}
