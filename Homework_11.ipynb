{
 "cells": [
  {
   "cell_type": "markdown",
   "metadata": {
    "id": "J0Qjg6vuaHNt"
   },
   "source": [
    "****Разобраться с моделькой перевода как она устроена (c механизмом внимания), запустить для перевода с русского на английский (при желании можно взять другие пары языков)\n",
    "внимание классическое с RNN-ками в энкодере и декодере****"
   ]
  },
  {
   "cell_type": "code",
   "execution_count": 1,
   "metadata": {
    "id": "tnxXKDjq3jEL"
   },
   "outputs": [],
   "source": [
    "import tensorflow as tf\n",
    "\n",
    "import matplotlib.pyplot as plt\n",
    "import matplotlib.ticker as ticker\n",
    "from sklearn.model_selection import train_test_split\n",
    "\n",
    "import unicodedata\n",
    "import re\n",
    "import numpy as np\n",
    "import os\n",
    "import io\n",
    "import time"
   ]
  },
  {
   "cell_type": "markdown",
   "metadata": {
    "id": "wfodePkj3jEa"
   },
   "source": [
    "#### Подготовка данных"
   ]
  },
  {
   "cell_type": "code",
   "execution_count": 2,
   "metadata": {
    "id": "kRVATYOgJs1b"
   },
   "outputs": [],
   "source": [
    "# Download the file\n",
    "path_to_file = \"./rus.txt\""
   ]
  },
  {
   "cell_type": "code",
   "execution_count": 3,
   "metadata": {
    "id": "rd0jw-eC3jEh"
   },
   "outputs": [],
   "source": [
    "def preprocess_sentence(w):\n",
    "    w = w.lower().strip()\n",
    "\n",
    "    # creating a space between a word and the punctuation following it\n",
    "    # eg: \"he is a boy.\" => \"he is a boy .\"\n",
    "    # Reference:- https://stackoverflow.com/questions/3645931/python-padding-punctuation-with-white-spaces-keeping-punctuation\n",
    "    w = re.sub(r\"([?.!,])\", r\" \\1 \", w)\n",
    "    w = re.sub(r'[\" \"]+', \" \", w)\n",
    "\n",
    "    # replacing everything with space except (a-z, A-Z, \".\", \"?\", \"!\", \",\")\n",
    "    w = re.sub(r\"[^a-zA-Zа-яА-Я?.!,']+\", \" \", w)\n",
    "\n",
    "    w = w.strip()\n",
    "\n",
    "    # adding a start and an end token to the sentence\n",
    "    # so that the model know when to start and stop predicting.\n",
    "    w = '<start> ' + w + ' <end>'\n",
    "    return w"
   ]
  },
  {
   "cell_type": "code",
   "execution_count": 4,
   "metadata": {
    "colab": {
     "base_uri": "https://localhost:8080/",
     "height": 35
    },
    "id": "yV9lZXQXNbnH",
    "outputId": "62abb77d-47e0-4640-9d96-2ae53f702131"
   },
   "outputs": [
    {
     "data": {
      "text/plain": [
       "\"<start> i can't go . <end>\""
      ]
     },
     "execution_count": 4,
     "metadata": {},
     "output_type": "execute_result"
    }
   ],
   "source": [
    "preprocess_sentence(\"I can't go.\")"
   ]
  },
  {
   "cell_type": "code",
   "execution_count": 5,
   "metadata": {
    "id": "OHn4Dct23jEm"
   },
   "outputs": [],
   "source": [
    "# 1. Remove the accents\n",
    "# 2. Clean the sentences\n",
    "# 3. Return word pairs in the format: [ENG, RUS]\n",
    "def create_dataset(path, num_examples):\n",
    "    lines = io.open(path, encoding='UTF-8').read().strip().split('\\n')\n",
    "\n",
    "    word_pairs = [[preprocess_sentence(w) for w in l.split('\\t')[:2]]  for l in lines[:num_examples]]\n",
    "\n",
    "    return zip(*word_pairs)"
   ]
  },
  {
   "cell_type": "code",
   "execution_count": 6,
   "metadata": {
    "colab": {
     "base_uri": "https://localhost:8080/"
    },
    "id": "cTbSbBz55QtF",
    "outputId": "a6d817af-c6cc-4fcf-b6fd-3ef49cda2a27"
   },
   "outputs": [
    {
     "name": "stdout",
     "output_type": "stream",
     "text": [
      "<start> doubtless there exists in this world precisely the right woman for any given man to marry and vice versa but when you consider that a human being has the opportunity of being acquainted with only a few hundred people , and out of the few hundred that there are but a dozen or less whom he knows intimately , and out of the dozen , one or two friends at most , it will easily be seen , when we remember the number of millions who inhabit this world , that probably , since the earth was created , the right man has never yet met the right woman . <end>\n",
      "<start> несомненно , для каждого мужчины в этом мире где то есть подходящая женщина , которая может стать ему женой , обратное верно и для женщин . но если учесть , что у человека может быть максимум несколько сотен знакомых , из которых лишь дюжина , а то и меньше , тех , кого он знает близко , а из этой дюжины у него один или от силы два друга , то можно легко увидеть , что с уч том миллионов живущих на земле людей , ни один подходящий мужчина , возможно , ещ не встретил подходящую женщину . <end>\n"
     ]
    }
   ],
   "source": [
    "en, ru = create_dataset(path_to_file, None)\n",
    "print(en[-1])\n",
    "print(ru[-1])"
   ]
  },
  {
   "cell_type": "code",
   "execution_count": 7,
   "metadata": {
    "id": "bIOn8RCNDJXG"
   },
   "outputs": [],
   "source": [
    "def tokenize(lang):\n",
    "    lang_tokenizer = tf.keras.preprocessing.text.Tokenizer(\n",
    "      filters='')\n",
    "    lang_tokenizer.fit_on_texts(lang)\n",
    "\n",
    "    tensor = lang_tokenizer.texts_to_sequences(lang)\n",
    "\n",
    "    tensor = tf.keras.preprocessing.sequence.pad_sequences(tensor,\n",
    "                                                         padding='post')\n",
    "\n",
    "    return tensor, lang_tokenizer"
   ]
  },
  {
   "cell_type": "code",
   "execution_count": 8,
   "metadata": {
    "id": "eAY9k49G3jE_"
   },
   "outputs": [],
   "source": [
    "def load_dataset(path, num_examples=None):\n",
    "    # creating cleaned input, output pairs\n",
    "    targ_lang, inp_lang = create_dataset(path, num_examples)\n",
    "\n",
    "    input_tensor, inp_lang_tokenizer = tokenize(inp_lang)\n",
    "    target_tensor, targ_lang_tokenizer = tokenize(targ_lang)\n",
    "\n",
    "    return input_tensor, target_tensor, inp_lang_tokenizer, targ_lang_tokenizer"
   ]
  },
  {
   "cell_type": "code",
   "execution_count": 9,
   "metadata": {
    "colab": {
     "base_uri": "https://localhost:8080/"
    },
    "id": "C8j9g9AnIeZV",
    "outputId": "2ef267ad-0118-4a27-c6fe-700538dce395"
   },
   "outputs": [
    {
     "data": {
      "text/plain": [
       "(431097, 431097)"
      ]
     },
     "execution_count": 9,
     "metadata": {},
     "output_type": "execute_result"
    }
   ],
   "source": [
    "len(en), len(ru)"
   ]
  },
  {
   "cell_type": "code",
   "execution_count": 10,
   "metadata": {
    "id": "cnxC7q-j3jFD"
   },
   "outputs": [],
   "source": [
    "# Try experimenting with the size of that dataset\n",
    "num_examples = 100000\n",
    "input_tensor, target_tensor, inp_lang, targ_lang = load_dataset(path_to_file, num_examples)\n",
    "\n",
    "# Calculate max_length of the target tensors\n",
    "max_length_targ, max_length_inp = target_tensor.shape[1], input_tensor.shape[1]"
   ]
  },
  {
   "cell_type": "code",
   "execution_count": 11,
   "metadata": {
    "colab": {
     "base_uri": "https://localhost:8080/"
    },
    "id": "4QILQkOs3jFG",
    "outputId": "6080cf0b-ce7a-41da-fdff-cff002d0e4da"
   },
   "outputs": [
    {
     "name": "stdout",
     "output_type": "stream",
     "text": [
      "80000 80000 20000 20000\n"
     ]
    }
   ],
   "source": [
    "# Creating training and validation sets using an 80-20 split\n",
    "input_tensor_train, input_tensor_val, target_tensor_train, target_tensor_val = train_test_split(input_tensor, target_tensor, test_size=0.2)\n",
    "\n",
    "# Show length\n",
    "print(len(input_tensor_train), len(target_tensor_train), len(input_tensor_val), len(target_tensor_val))"
   ]
  },
  {
   "cell_type": "code",
   "execution_count": 12,
   "metadata": {
    "id": "lJPmLZGMeD5q"
   },
   "outputs": [],
   "source": [
    "def convert(lang, tensor):\n",
    "    for t in tensor:\n",
    "        if t!=0:\n",
    "            print (\"%d ----> %s\" % (t, lang.index_word[t]))"
   ]
  },
  {
   "cell_type": "code",
   "execution_count": 13,
   "metadata": {
    "colab": {
     "base_uri": "https://localhost:8080/"
    },
    "id": "VXukARTDd7MT",
    "outputId": "341e28ce-7ca5-4f66-e751-157f5bbaa276"
   },
   "outputs": [
    {
     "name": "stdout",
     "output_type": "stream",
     "text": [
      "Input Language; index to word mapping\n",
      "1 ----> <start>\n",
      "19 ----> он\n",
      "170 ----> до\n",
      "1274 ----> смерти\n",
      "281 ----> устал\n",
      "3 ----> .\n",
      "2 ----> <end>\n",
      "\n",
      "Target Language; index to word mapping\n",
      "1 ----> <start>\n",
      "118 ----> he's\n",
      "289 ----> dead\n",
      "164 ----> tired\n",
      "3 ----> .\n",
      "2 ----> <end>\n"
     ]
    }
   ],
   "source": [
    "print (\"Input Language; index to word mapping\")\n",
    "convert(inp_lang, input_tensor_train[0])\n",
    "print ()\n",
    "print (\"Target Language; index to word mapping\")\n",
    "convert(targ_lang, target_tensor_train[0])"
   ]
  },
  {
   "cell_type": "code",
   "execution_count": 14,
   "metadata": {
    "id": "TqHsArVZ3jFS"
   },
   "outputs": [],
   "source": [
    "BUFFER_SIZE = len(input_tensor_train)\n",
    "BATCH_SIZE = 64\n",
    "steps_per_epoch = len(input_tensor_train)//BATCH_SIZE\n",
    "embedding_dim = 256\n",
    "units = 1024\n",
    "vocab_inp_size = len(inp_lang.word_index)+1\n",
    "vocab_tar_size = len(targ_lang.word_index)+1\n",
    "\n",
    "dataset = tf.data.Dataset.from_tensor_slices((input_tensor_train, target_tensor_train)).shuffle(BUFFER_SIZE)\n",
    "dataset = dataset.batch(BATCH_SIZE, drop_remainder=True)"
   ]
  },
  {
   "cell_type": "code",
   "execution_count": 15,
   "metadata": {
    "colab": {
     "base_uri": "https://localhost:8080/"
    },
    "id": "qc6-NK1GtWQt",
    "outputId": "119b41d0-fae4-4422-cc8e-ce6a758be16d"
   },
   "outputs": [
    {
     "data": {
      "text/plain": [
       "(TensorShape([64, 15]), TensorShape([64, 11]))"
      ]
     },
     "execution_count": 15,
     "metadata": {},
     "output_type": "execute_result"
    }
   ],
   "source": [
    "example_input_batch, example_target_batch = next(iter(dataset))\n",
    "example_input_batch.shape, example_target_batch.shape"
   ]
  },
  {
   "cell_type": "code",
   "execution_count": 16,
   "metadata": {
    "id": "nZ2rI24i3jFg"
   },
   "outputs": [],
   "source": [
    "class Encoder(tf.keras.Model):\n",
    "    def __init__(self, vocab_size, embedding_dim, enc_units, batch_sz):\n",
    "        super(Encoder, self).__init__()\n",
    "        self.batch_sz = batch_sz\n",
    "        self.enc_units = enc_units\n",
    "        self.embedding = tf.keras.layers.Embedding(vocab_size, embedding_dim)\n",
    "        self.gru = tf.keras.layers.GRU(self.enc_units,\n",
    "                                   return_sequences=True,\n",
    "                                   return_state=True,\n",
    "                                   recurrent_initializer='glorot_uniform')\n",
    "\n",
    "    def call(self, x, hidden):\n",
    "        x = self.embedding(x)\n",
    "        output, state = self.gru(x, initial_state = hidden)\n",
    "        return output, state\n",
    "\n",
    "    def initialize_hidden_state(self):\n",
    "        return tf.zeros((self.batch_sz, self.enc_units))"
   ]
  },
  {
   "cell_type": "code",
   "execution_count": 17,
   "metadata": {
    "colab": {
     "base_uri": "https://localhost:8080/"
    },
    "id": "60gSVh05Jl6l",
    "outputId": "5b654acc-f67d-4357-b000-fdde32228982"
   },
   "outputs": [
    {
     "name": "stdout",
     "output_type": "stream",
     "text": [
      "Encoder output shape: (batch size, sequence length, units) (64, 15, 1024)\n",
      "Encoder Hidden state shape: (batch size, units) (64, 1024)\n"
     ]
    }
   ],
   "source": [
    "encoder = Encoder(vocab_inp_size, embedding_dim, units, BATCH_SIZE)\n",
    "\n",
    "# sample input\n",
    "sample_hidden = encoder.initialize_hidden_state()\n",
    "sample_output, sample_hidden = encoder(example_input_batch, sample_hidden)\n",
    "print ('Encoder output shape: (batch size, sequence length, units) {}'.format(sample_output.shape))\n",
    "print ('Encoder Hidden state shape: (batch size, units) {}'.format(sample_hidden.shape))"
   ]
  },
  {
   "cell_type": "code",
   "execution_count": 18,
   "metadata": {
    "id": "YTyhL28Niqk1"
   },
   "outputs": [],
   "source": [
    "class BahdanauAttention(tf.keras.layers.Layer):\n",
    "    def __init__(self, units):\n",
    "        super(BahdanauAttention, self).__init__()\n",
    "        self.W1 = tf.keras.layers.Dense(units)\n",
    "        self.W2 = tf.keras.layers.Dense(units)\n",
    "        self.V = tf.keras.layers.Dense(1)\n",
    "\n",
    "    def call(self, query, values):\n",
    "        # query hidden state shape == (batch_size, hidden size)\n",
    "        # query_with_time_axis shape == (batch_size, 1, hidden size)\n",
    "        # values shape == (batch_size, max_len, hidden size)\n",
    "        # we are doing this to broadcast addition along the time axis to calculate the score\n",
    "        query_with_time_axis = tf.expand_dims(query, 1)\n",
    "\n",
    "        # score shape == (batch_size, max_length, 1)\n",
    "        # we get 1 at the last axis because we are applying score to self.V\n",
    "        # the shape of the tensor before applying self.V is (batch_size, max_length, units)\n",
    "        score = self.V(tf.nn.tanh(\n",
    "            self.W1(query_with_time_axis) + self.W2(values)))\n",
    "\n",
    "        # attention_weights shape == (batch_size, max_length, 1)\n",
    "        attention_weights = tf.nn.softmax(score, axis=1)\n",
    "\n",
    "        # context_vector shape after sum == (batch_size, hidden_size)\n",
    "        context_vector = attention_weights * values\n",
    "        context_vector = tf.reduce_sum(context_vector, axis=1)\n",
    "\n",
    "        return context_vector, attention_weights"
   ]
  },
  {
   "cell_type": "code",
   "execution_count": 19,
   "metadata": {
    "colab": {
     "base_uri": "https://localhost:8080/"
    },
    "id": "XUqssWcci1XJ",
    "outputId": "607dc7d5-fa08-4d88-9935-ce76fc101464"
   },
   "outputs": [
    {
     "name": "stdout",
     "output_type": "stream",
     "text": [
      "Attention result shape: (batch size, units) (64, 1024)\n",
      "Attention weights shape: (batch_size, sequence_length, 1) (64, 15, 1)\n"
     ]
    }
   ],
   "source": [
    "attention_layer = BahdanauAttention(10)\n",
    "attention_result, attention_weights = attention_layer(sample_hidden, sample_output)\n",
    "\n",
    "print(\"Attention result shape: (batch size, units) {}\".format(attention_result.shape))\n",
    "print(\"Attention weights shape: (batch_size, sequence_length, 1) {}\".format(attention_weights.shape))"
   ]
  },
  {
   "cell_type": "code",
   "execution_count": 20,
   "metadata": {
    "id": "yJ_B3mhW3jFk"
   },
   "outputs": [],
   "source": [
    "class Decoder(tf.keras.Model):\n",
    "    def __init__(self, vocab_size, embedding_dim, dec_units, batch_sz):\n",
    "        super(Decoder, self).__init__()\n",
    "        self.batch_sz = batch_sz\n",
    "        self.dec_units = dec_units\n",
    "        self.embedding = tf.keras.layers.Embedding(vocab_size, embedding_dim)\n",
    "        self.gru = tf.keras.layers.GRU(self.dec_units,\n",
    "                                       return_sequences=True,\n",
    "                                       return_state=True,\n",
    "                                       recurrent_initializer='glorot_uniform')\n",
    "        self.fc = tf.keras.layers.Dense(vocab_size)\n",
    "\n",
    "        # used for attention\n",
    "        self.attention = BahdanauAttention(self.dec_units)\n",
    "\n",
    "    def call(self, x, hidden, enc_output):\n",
    "        # enc_output shape == (batch_size, max_length, hidden_size)\n",
    "        context_vector, attention_weights = self.attention(hidden, enc_output)\n",
    "\n",
    "        # x shape after passing through embedding == (batch_size, 1, embedding_dim)\n",
    "        x = self.embedding(x)\n",
    "\n",
    "        # x shape after concatenation == (batch_size, 1, embedding_dim + hidden_size)\n",
    "        x = tf.concat([tf.expand_dims(context_vector, 1), x], axis=-1)\n",
    "\n",
    "        # passing the concatenated vector to the GRU\n",
    "        output, state = self.gru(x)\n",
    "\n",
    "        # output shape == (batch_size * 1, hidden_size)\n",
    "        output = tf.reshape(output, (-1, output.shape[2]))\n",
    "\n",
    "        # output shape == (batch_size, vocab)\n",
    "        x = self.fc(output)\n",
    "\n",
    "        return x, state, attention_weights"
   ]
  },
  {
   "cell_type": "code",
   "execution_count": 21,
   "metadata": {
    "colab": {
     "base_uri": "https://localhost:8080/"
    },
    "id": "P5UY8wko3jFp",
    "outputId": "e8cb3233-c781-4016-8f6d-9ba936848a51"
   },
   "outputs": [
    {
     "name": "stdout",
     "output_type": "stream",
     "text": [
      "Decoder output shape: (batch_size, vocab size) (64, 7260)\n"
     ]
    }
   ],
   "source": [
    "decoder = Decoder(vocab_tar_size, embedding_dim, units, BATCH_SIZE)\n",
    "\n",
    "sample_decoder_output, _, _ = decoder(tf.random.uniform((BATCH_SIZE, 1)),\n",
    "                                      sample_hidden, sample_output)\n",
    "\n",
    "print ('Decoder output shape: (batch_size, vocab size) {}'.format(sample_decoder_output.shape))"
   ]
  },
  {
   "cell_type": "code",
   "execution_count": 22,
   "metadata": {
    "id": "WmTHr5iV3jFr"
   },
   "outputs": [],
   "source": [
    "optimizer = tf.keras.optimizers.Adam()\n",
    "loss_object = tf.keras.losses.SparseCategoricalCrossentropy(\n",
    "    from_logits=True, reduction='none')\n",
    "\n",
    "def loss_function(real, pred):\n",
    "    mask = tf.math.logical_not(tf.math.equal(real, 0))\n",
    "    loss_ = loss_object(real, pred)\n",
    "\n",
    "    mask = tf.cast(mask, dtype=loss_.dtype)\n",
    "    loss_ *= mask\n",
    "\n",
    "    return tf.reduce_mean(loss_)"
   ]
  },
  {
   "cell_type": "code",
   "execution_count": 23,
   "metadata": {
    "id": "Zj8bXQTgNwrF"
   },
   "outputs": [],
   "source": [
    "checkpoint_dir = './training_attention_checkpoints'\n",
    "checkpoint_prefix = os.path.join(checkpoint_dir, \"ckpt\")\n",
    "checkpoint = tf.train.Checkpoint(optimizer=optimizer,\n",
    "                                 encoder=encoder,\n",
    "                                 decoder=decoder)"
   ]
  },
  {
   "cell_type": "code",
   "execution_count": 24,
   "metadata": {
    "id": "sC9ArXSsVfqn"
   },
   "outputs": [],
   "source": [
    "@tf.function\n",
    "def train_step(inp, targ, enc_hidden):\n",
    "    loss = 0\n",
    "\n",
    "    with tf.GradientTape() as tape:\n",
    "        enc_output, enc_hidden = encoder(inp, enc_hidden)\n",
    "\n",
    "        dec_hidden = enc_hidden\n",
    "\n",
    "        dec_input = tf.expand_dims([targ_lang.word_index['<start>']] * BATCH_SIZE, 1)\n",
    "\n",
    "        # Teacher forcing - feeding the target as the next input\n",
    "        for t in range(1, targ.shape[1]):\n",
    "            # passing enc_output to the decoder\n",
    "            predictions, dec_hidden, _ = decoder(dec_input, dec_hidden, enc_output)\n",
    "            \n",
    "            loss += loss_function(targ[:, t], predictions)\n",
    "            \n",
    "            # using teacher forcing\n",
    "            \n",
    "            dec_input = tf.expand_dims(targ[:, t], 1)\n",
    "\n",
    "    batch_loss = (loss / int(targ.shape[1]))\n",
    "\n",
    "    variables = encoder.trainable_variables + decoder.trainable_variables\n",
    "\n",
    "    gradients = tape.gradient(loss, variables)\n",
    "\n",
    "    optimizer.apply_gradients(zip(gradients, variables))\n",
    "\n",
    "    return batch_loss"
   ]
  },
  {
   "cell_type": "code",
   "execution_count": 25,
   "metadata": {
    "colab": {
     "base_uri": "https://localhost:8080/",
     "height": 1000
    },
    "id": "ddefjBMa3jF0",
    "outputId": "18129808-55c4-4935-869b-ad5fa8f4de43"
   },
   "outputs": [
    {
     "name": "stdout",
     "output_type": "stream",
     "text": [
      "Epoch 1 Batch 0 Loss 4.7857\n",
      "Epoch 1 Batch 100 Loss 2.1977\n",
      "Epoch 1 Batch 200 Loss 1.8009\n",
      "Epoch 1 Batch 300 Loss 1.5625\n",
      "Epoch 1 Batch 400 Loss 1.5223\n",
      "Epoch 1 Batch 500 Loss 1.3915\n",
      "Epoch 1 Batch 600 Loss 1.3405\n",
      "Epoch 1 Batch 700 Loss 1.2235\n",
      "Epoch 1 Batch 800 Loss 1.2094\n",
      "Epoch 1 Batch 900 Loss 1.1528\n",
      "Epoch 1 Batch 1000 Loss 1.0599\n",
      "Epoch 1 Batch 1100 Loss 1.1998\n",
      "Epoch 1 Batch 1200 Loss 0.9937\n",
      "Epoch 1 Loss 1.4481\n",
      "Time taken for 1 epoch 132.5670783519745 sec\n",
      "\n",
      "Epoch 2 Batch 0 Loss 0.8396\n",
      "Epoch 2 Batch 100 Loss 0.9268\n",
      "Epoch 2 Batch 200 Loss 0.7665\n",
      "Epoch 2 Batch 300 Loss 0.7095\n",
      "Epoch 2 Batch 400 Loss 0.6960\n",
      "Epoch 2 Batch 500 Loss 0.6263\n",
      "Epoch 2 Batch 600 Loss 0.5936\n",
      "Epoch 2 Batch 700 Loss 0.8775\n",
      "Epoch 2 Batch 800 Loss 0.6834\n",
      "Epoch 2 Batch 900 Loss 0.6355\n",
      "Epoch 2 Batch 1000 Loss 0.5628\n",
      "Epoch 2 Batch 1100 Loss 0.5904\n",
      "Epoch 2 Batch 1200 Loss 0.5529\n",
      "Epoch 2 Loss 0.6692\n",
      "Time taken for 1 epoch 127.24376177787781 sec\n",
      "\n",
      "Epoch 3 Batch 0 Loss 0.4079\n",
      "Epoch 3 Batch 100 Loss 0.3351\n",
      "Epoch 3 Batch 200 Loss 0.3308\n",
      "Epoch 3 Batch 300 Loss 0.4236\n",
      "Epoch 3 Batch 400 Loss 0.2887\n",
      "Epoch 3 Batch 500 Loss 0.3096\n",
      "Epoch 3 Batch 600 Loss 0.3959\n",
      "Epoch 3 Batch 700 Loss 0.3374\n",
      "Epoch 3 Batch 800 Loss 0.3356\n",
      "Epoch 3 Batch 900 Loss 0.3141\n",
      "Epoch 3 Batch 1000 Loss 0.3476\n",
      "Epoch 3 Batch 1100 Loss 0.3412\n",
      "Epoch 3 Batch 1200 Loss 0.3105\n",
      "Epoch 3 Loss 0.3560\n",
      "Time taken for 1 epoch 121.31377124786377 sec\n",
      "\n",
      "Epoch 4 Batch 0 Loss 0.1699\n",
      "Epoch 4 Batch 100 Loss 0.1823\n",
      "Epoch 4 Batch 200 Loss 0.2152\n",
      "Epoch 4 Batch 300 Loss 0.1884\n",
      "Epoch 4 Batch 400 Loss 0.2160\n",
      "Epoch 4 Batch 500 Loss 0.2180\n",
      "Epoch 4 Batch 600 Loss 0.2109\n",
      "Epoch 4 Batch 700 Loss 0.1957\n",
      "Epoch 4 Batch 800 Loss 0.2357\n",
      "Epoch 4 Batch 900 Loss 0.2343\n",
      "Epoch 4 Batch 1000 Loss 0.2135\n",
      "Epoch 4 Batch 1100 Loss 0.2467\n",
      "Epoch 4 Batch 1200 Loss 0.2589\n",
      "Epoch 4 Loss 0.2183\n",
      "Time taken for 1 epoch 122.4032256603241 sec\n",
      "\n",
      "Epoch 5 Batch 0 Loss 0.1137\n",
      "Epoch 5 Batch 100 Loss 0.1200\n",
      "Epoch 5 Batch 200 Loss 0.1516\n",
      "Epoch 5 Batch 300 Loss 0.1167\n",
      "Epoch 5 Batch 400 Loss 0.1424\n",
      "Epoch 5 Batch 500 Loss 0.1302\n",
      "Epoch 5 Batch 600 Loss 0.1826\n",
      "Epoch 5 Batch 700 Loss 0.1693\n",
      "Epoch 5 Batch 800 Loss 0.1473\n",
      "Epoch 5 Batch 900 Loss 0.1218\n",
      "Epoch 5 Batch 1000 Loss 0.1719\n",
      "Epoch 5 Batch 1100 Loss 0.1476\n",
      "Epoch 5 Batch 1200 Loss 0.2073\n",
      "Epoch 5 Loss 0.1521\n",
      "Time taken for 1 epoch 121.98472785949707 sec\n",
      "\n",
      "Epoch 6 Batch 0 Loss 0.0932\n",
      "Epoch 6 Batch 100 Loss 0.1472\n",
      "Epoch 6 Batch 200 Loss 0.0772\n",
      "Epoch 6 Batch 300 Loss 0.0956\n",
      "Epoch 6 Batch 400 Loss 0.1131\n",
      "Epoch 6 Batch 500 Loss 0.1273\n",
      "Epoch 6 Batch 600 Loss 0.1079\n",
      "Epoch 6 Batch 700 Loss 0.0960\n",
      "Epoch 6 Batch 800 Loss 0.1521\n",
      "Epoch 6 Batch 900 Loss 0.1036\n",
      "Epoch 6 Batch 1000 Loss 0.1356\n",
      "Epoch 6 Batch 1100 Loss 0.0956\n",
      "Epoch 6 Batch 1200 Loss 0.0952\n",
      "Epoch 6 Loss 0.1196\n",
      "Time taken for 1 epoch 123.3548755645752 sec\n",
      "\n",
      "Epoch 7 Batch 0 Loss 0.0940\n",
      "Epoch 7 Batch 100 Loss 0.1010\n",
      "Epoch 7 Batch 200 Loss 0.1335\n",
      "Epoch 7 Batch 300 Loss 0.0972\n",
      "Epoch 7 Batch 400 Loss 0.0737\n",
      "Epoch 7 Batch 500 Loss 0.0674\n",
      "Epoch 7 Batch 600 Loss 0.0793\n",
      "Epoch 7 Batch 700 Loss 0.1050\n",
      "Epoch 7 Batch 800 Loss 0.0865\n",
      "Epoch 7 Batch 900 Loss 0.1361\n",
      "Epoch 7 Batch 1000 Loss 0.1037\n",
      "Epoch 7 Batch 1100 Loss 0.1119\n",
      "Epoch 7 Batch 1200 Loss 0.1306\n",
      "Epoch 7 Loss 0.1008\n",
      "Time taken for 1 epoch 121.71084094047546 sec\n",
      "\n",
      "Epoch 8 Batch 0 Loss 0.0588\n",
      "Epoch 8 Batch 100 Loss 0.0679\n",
      "Epoch 8 Batch 200 Loss 0.0697\n",
      "Epoch 8 Batch 300 Loss 0.1007\n",
      "Epoch 8 Batch 400 Loss 0.0700\n",
      "Epoch 8 Batch 500 Loss 0.0629\n",
      "Epoch 8 Batch 600 Loss 0.1038\n",
      "Epoch 8 Batch 700 Loss 0.0767\n",
      "Epoch 8 Batch 800 Loss 0.1049\n",
      "Epoch 8 Batch 900 Loss 0.1046\n",
      "Epoch 8 Batch 1000 Loss 0.0946\n",
      "Epoch 8 Batch 1100 Loss 0.0844\n",
      "Epoch 8 Batch 1200 Loss 0.1024\n",
      "Epoch 8 Loss 0.0903\n",
      "Time taken for 1 epoch 128.92594003677368 sec\n",
      "\n",
      "Epoch 9 Batch 0 Loss 0.0546\n",
      "Epoch 9 Batch 100 Loss 0.0500\n",
      "Epoch 9 Batch 200 Loss 0.0531\n",
      "Epoch 9 Batch 300 Loss 0.0921\n",
      "Epoch 9 Batch 400 Loss 0.0504\n",
      "Epoch 9 Batch 500 Loss 0.0578\n",
      "Epoch 9 Batch 600 Loss 0.1071\n",
      "Epoch 9 Batch 700 Loss 0.0856\n",
      "Epoch 9 Batch 800 Loss 0.1105\n",
      "Epoch 9 Batch 900 Loss 0.0965\n",
      "Epoch 9 Batch 1000 Loss 0.0821\n",
      "Epoch 9 Batch 1100 Loss 0.0955\n",
      "Epoch 9 Batch 1200 Loss 0.0713\n",
      "Epoch 9 Loss 0.0838\n",
      "Time taken for 1 epoch 126.50209665298462 sec\n",
      "\n",
      "Epoch 10 Batch 0 Loss 0.0691\n",
      "Epoch 10 Batch 100 Loss 0.0560\n",
      "Epoch 10 Batch 200 Loss 0.0780\n",
      "Epoch 10 Batch 300 Loss 0.0584\n",
      "Epoch 10 Batch 400 Loss 0.0783\n",
      "Epoch 10 Batch 500 Loss 0.0776\n",
      "Epoch 10 Batch 600 Loss 0.0954\n",
      "Epoch 10 Batch 700 Loss 0.0670\n",
      "Epoch 10 Batch 800 Loss 0.0700\n",
      "Epoch 10 Batch 900 Loss 0.0879\n",
      "Epoch 10 Batch 1000 Loss 0.1150\n",
      "Epoch 10 Batch 1100 Loss 0.0618\n",
      "Epoch 10 Batch 1200 Loss 0.1037\n",
      "Epoch 10 Loss 0.0786\n",
      "Time taken for 1 epoch 128.4278519153595 sec\n",
      "\n",
      "Epoch 11 Batch 0 Loss 0.0617\n",
      "Epoch 11 Batch 100 Loss 0.0857\n",
      "Epoch 11 Batch 200 Loss 0.0605\n",
      "Epoch 11 Batch 300 Loss 0.0701\n",
      "Epoch 11 Batch 400 Loss 0.0532\n",
      "Epoch 11 Batch 500 Loss 0.1012\n",
      "Epoch 11 Batch 600 Loss 0.0678\n",
      "Epoch 11 Batch 700 Loss 0.0619\n",
      "Epoch 11 Batch 800 Loss 0.0564\n",
      "Epoch 11 Batch 900 Loss 0.0783\n",
      "Epoch 11 Batch 1000 Loss 0.0670\n",
      "Epoch 11 Batch 1100 Loss 0.0729\n",
      "Epoch 11 Batch 1200 Loss 0.1064\n",
      "Epoch 11 Loss 0.0738\n",
      "Time taken for 1 epoch 128.842440366745 sec\n",
      "\n",
      "Epoch 12 Batch 0 Loss 0.0582\n",
      "Epoch 12 Batch 100 Loss 0.0360\n",
      "Epoch 12 Batch 200 Loss 0.0764\n",
      "Epoch 12 Batch 300 Loss 0.0721\n",
      "Epoch 12 Batch 400 Loss 0.0511\n",
      "Epoch 12 Batch 500 Loss 0.0577\n",
      "Epoch 12 Batch 600 Loss 0.0662\n",
      "Epoch 12 Batch 700 Loss 0.0793\n",
      "Epoch 12 Batch 800 Loss 0.0781\n",
      "Epoch 12 Batch 900 Loss 0.0762\n",
      "Epoch 12 Batch 1000 Loss 0.0951\n",
      "Epoch 12 Batch 1100 Loss 0.1108\n",
      "Epoch 12 Batch 1200 Loss 0.0646\n",
      "Epoch 12 Loss 0.0712\n",
      "Time taken for 1 epoch 125.77708029747009 sec\n",
      "\n",
      "Epoch 13 Batch 0 Loss 0.0446\n",
      "Epoch 13 Batch 100 Loss 0.0583\n",
      "Epoch 13 Batch 200 Loss 0.0700\n",
      "Epoch 13 Batch 300 Loss 0.0675\n",
      "Epoch 13 Batch 400 Loss 0.0717\n",
      "Epoch 13 Batch 500 Loss 0.0829\n",
      "Epoch 13 Batch 600 Loss 0.0648\n",
      "Epoch 13 Batch 700 Loss 0.0548\n",
      "Epoch 13 Batch 800 Loss 0.1128\n",
      "Epoch 13 Batch 900 Loss 0.0989\n",
      "Epoch 13 Batch 1000 Loss 0.1184\n",
      "Epoch 13 Batch 1100 Loss 0.0709\n",
      "Epoch 13 Batch 1200 Loss 0.0803\n",
      "Epoch 13 Loss 0.0676\n",
      "Time taken for 1 epoch 119.84000253677368 sec\n",
      "\n",
      "Epoch 14 Batch 0 Loss 0.0765\n",
      "Epoch 14 Batch 100 Loss 0.0570\n",
      "Epoch 14 Batch 200 Loss 0.0323\n",
      "Epoch 14 Batch 300 Loss 0.0440\n",
      "Epoch 14 Batch 400 Loss 0.0670\n",
      "Epoch 14 Batch 500 Loss 0.0627\n",
      "Epoch 14 Batch 600 Loss 0.0711\n",
      "Epoch 14 Batch 700 Loss 0.0685\n",
      "Epoch 14 Batch 800 Loss 0.0675\n",
      "Epoch 14 Batch 900 Loss 0.0513\n",
      "Epoch 14 Batch 1000 Loss 0.0544\n",
      "Epoch 14 Batch 1100 Loss 0.0599\n",
      "Epoch 14 Batch 1200 Loss 0.0631\n",
      "Epoch 14 Loss 0.0661\n",
      "Time taken for 1 epoch 124.8520188331604 sec\n",
      "\n",
      "Epoch 15 Batch 0 Loss 0.0483\n",
      "Epoch 15 Batch 100 Loss 0.0571\n",
      "Epoch 15 Batch 200 Loss 0.0540\n",
      "Epoch 15 Batch 300 Loss 0.0801\n",
      "Epoch 15 Batch 400 Loss 0.0910\n",
      "Epoch 15 Batch 500 Loss 0.0618\n",
      "Epoch 15 Batch 600 Loss 0.0578\n",
      "Epoch 15 Batch 700 Loss 0.0617\n",
      "Epoch 15 Batch 800 Loss 0.0590\n",
      "Epoch 15 Batch 900 Loss 0.0940\n",
      "Epoch 15 Batch 1000 Loss 0.0956\n",
      "Epoch 15 Batch 1100 Loss 0.1199\n",
      "Epoch 15 Batch 1200 Loss 0.0662\n",
      "Epoch 15 Loss 0.0634\n",
      "Time taken for 1 epoch 119.58799171447754 sec\n",
      "\n",
      "Epoch 16 Batch 0 Loss 0.0801\n",
      "Epoch 16 Batch 100 Loss 0.0406\n",
      "Epoch 16 Batch 200 Loss 0.0776\n",
      "Epoch 16 Batch 300 Loss 0.0519\n",
      "Epoch 16 Batch 400 Loss 0.0519\n",
      "Epoch 16 Batch 500 Loss 0.0633\n",
      "Epoch 16 Batch 600 Loss 0.1025\n",
      "Epoch 16 Batch 700 Loss 0.0810\n",
      "Epoch 16 Batch 800 Loss 0.0528\n",
      "Epoch 16 Batch 900 Loss 0.0553\n",
      "Epoch 16 Batch 1000 Loss 0.0319\n",
      "Epoch 16 Batch 1100 Loss 0.0762\n",
      "Epoch 16 Batch 1200 Loss 0.0651\n",
      "Epoch 16 Loss 0.0609\n",
      "Time taken for 1 epoch 122.6629707813263 sec\n",
      "\n",
      "Epoch 17 Batch 0 Loss 0.0529\n",
      "Epoch 17 Batch 100 Loss 0.0630\n",
      "Epoch 17 Batch 200 Loss 0.0845\n",
      "Epoch 17 Batch 300 Loss 0.0715\n",
      "Epoch 17 Batch 400 Loss 0.0440\n",
      "Epoch 17 Batch 500 Loss 0.0842\n",
      "Epoch 17 Batch 600 Loss 0.0483\n",
      "Epoch 17 Batch 700 Loss 0.0878\n",
      "Epoch 17 Batch 800 Loss 0.0932\n",
      "Epoch 17 Batch 900 Loss 0.0648\n",
      "Epoch 17 Batch 1000 Loss 0.0745\n",
      "Epoch 17 Batch 1100 Loss 0.0898\n",
      "Epoch 17 Batch 1200 Loss 0.0335\n",
      "Epoch 17 Loss 0.0602\n",
      "Time taken for 1 epoch 119.89700698852539 sec\n",
      "\n",
      "Epoch 18 Batch 0 Loss 0.0306\n",
      "Epoch 18 Batch 100 Loss 0.0298\n",
      "Epoch 18 Batch 200 Loss 0.0607\n",
      "Epoch 18 Batch 300 Loss 0.0646\n",
      "Epoch 18 Batch 400 Loss 0.0561\n",
      "Epoch 18 Batch 500 Loss 0.0661\n",
      "Epoch 18 Batch 600 Loss 0.0420\n",
      "Epoch 18 Batch 700 Loss 0.0807\n",
      "Epoch 18 Batch 800 Loss 0.1021\n",
      "Epoch 18 Batch 900 Loss 0.0530\n"
     ]
    },
    {
     "name": "stdout",
     "output_type": "stream",
     "text": [
      "Epoch 18 Batch 1000 Loss 0.0579\n",
      "Epoch 18 Batch 1100 Loss 0.1061\n",
      "Epoch 18 Batch 1200 Loss 0.0640\n",
      "Epoch 18 Loss 0.0577\n",
      "Time taken for 1 epoch 120.94165253639221 sec\n",
      "\n",
      "Epoch 19 Batch 0 Loss 0.0349\n",
      "Epoch 19 Batch 100 Loss 0.0691\n",
      "Epoch 19 Batch 200 Loss 0.0402\n",
      "Epoch 19 Batch 300 Loss 0.0694\n",
      "Epoch 19 Batch 400 Loss 0.0393\n",
      "Epoch 19 Batch 500 Loss 0.0419\n",
      "Epoch 19 Batch 600 Loss 0.0408\n",
      "Epoch 19 Batch 700 Loss 0.0646\n",
      "Epoch 19 Batch 800 Loss 0.0354\n",
      "Epoch 19 Batch 900 Loss 0.0414\n",
      "Epoch 19 Batch 1000 Loss 0.0728\n",
      "Epoch 19 Batch 1100 Loss 0.0537\n",
      "Epoch 19 Batch 1200 Loss 0.0569\n",
      "Epoch 19 Loss 0.0563\n",
      "Time taken for 1 epoch 119.64000129699707 sec\n",
      "\n",
      "Epoch 20 Batch 0 Loss 0.0740\n",
      "Epoch 20 Batch 100 Loss 0.0485\n",
      "Epoch 20 Batch 200 Loss 0.0594\n",
      "Epoch 20 Batch 300 Loss 0.0481\n",
      "Epoch 20 Batch 400 Loss 0.0405\n",
      "Epoch 20 Batch 500 Loss 0.0658\n",
      "Epoch 20 Batch 600 Loss 0.0565\n",
      "Epoch 20 Batch 700 Loss 0.0943\n",
      "Epoch 20 Batch 800 Loss 0.0411\n",
      "Epoch 20 Batch 900 Loss 0.0433\n",
      "Epoch 20 Batch 1000 Loss 0.0506\n",
      "Epoch 20 Batch 1100 Loss 0.0578\n",
      "Epoch 20 Batch 1200 Loss 0.0634\n",
      "Epoch 20 Loss 0.0559\n",
      "Time taken for 1 epoch 120.69833326339722 sec\n",
      "\n",
      "Epoch 21 Batch 0 Loss 0.0245\n",
      "Epoch 21 Batch 100 Loss 0.0283\n",
      "Epoch 21 Batch 200 Loss 0.0529\n",
      "Epoch 21 Batch 300 Loss 0.0373\n",
      "Epoch 21 Batch 400 Loss 0.0644\n",
      "Epoch 21 Batch 500 Loss 0.0320\n",
      "Epoch 21 Batch 600 Loss 0.0540\n",
      "Epoch 21 Batch 700 Loss 0.0578\n",
      "Epoch 21 Batch 800 Loss 0.0735\n",
      "Epoch 21 Batch 900 Loss 0.0313\n",
      "Epoch 21 Batch 1000 Loss 0.0897\n",
      "Epoch 21 Batch 1100 Loss 0.0486\n",
      "Epoch 21 Batch 1200 Loss 0.0581\n",
      "Epoch 21 Loss 0.0549\n",
      "Time taken for 1 epoch 118.88451385498047 sec\n",
      "\n",
      "Epoch 22 Batch 0 Loss 0.0376\n",
      "Epoch 22 Batch 100 Loss 0.0290\n",
      "Epoch 22 Batch 200 Loss 0.0598\n",
      "Epoch 22 Batch 300 Loss 0.0427\n",
      "Epoch 22 Batch 400 Loss 0.0536\n",
      "Epoch 22 Batch 500 Loss 0.0744\n",
      "Epoch 22 Batch 600 Loss 0.0698\n",
      "Epoch 22 Batch 700 Loss 0.0719\n",
      "Epoch 22 Batch 800 Loss 0.0488\n",
      "Epoch 22 Batch 900 Loss 0.0579\n",
      "Epoch 22 Batch 1000 Loss 0.0588\n",
      "Epoch 22 Batch 1100 Loss 0.0777\n",
      "Epoch 22 Batch 1200 Loss 0.0443\n",
      "Epoch 22 Loss 0.0536\n",
      "Time taken for 1 epoch 122.38647222518921 sec\n",
      "\n",
      "Epoch 23 Batch 0 Loss 0.0615\n",
      "Epoch 23 Batch 100 Loss 0.0377\n",
      "Epoch 23 Batch 200 Loss 0.0578\n",
      "Epoch 23 Batch 300 Loss 0.0463\n",
      "Epoch 23 Batch 400 Loss 0.0491\n",
      "Epoch 23 Batch 500 Loss 0.0433\n",
      "Epoch 23 Batch 600 Loss 0.0462\n",
      "Epoch 23 Batch 700 Loss 0.0518\n",
      "Epoch 23 Batch 800 Loss 0.0531\n",
      "Epoch 23 Batch 900 Loss 0.0531\n",
      "Epoch 23 Batch 1000 Loss 0.0983\n",
      "Epoch 23 Batch 1100 Loss 0.0599\n",
      "Epoch 23 Batch 1200 Loss 0.0372\n",
      "Epoch 23 Loss 0.0526\n",
      "Time taken for 1 epoch 119.59100317955017 sec\n",
      "\n",
      "Epoch 24 Batch 0 Loss 0.0484\n",
      "Epoch 24 Batch 100 Loss 0.0333\n",
      "Epoch 24 Batch 200 Loss 0.0424\n",
      "Epoch 24 Batch 300 Loss 0.0419\n",
      "Epoch 24 Batch 400 Loss 0.0709\n",
      "Epoch 24 Batch 500 Loss 0.0720\n",
      "Epoch 24 Batch 600 Loss 0.0387\n",
      "Epoch 24 Batch 700 Loss 0.0494\n",
      "Epoch 24 Batch 800 Loss 0.0556\n",
      "Epoch 24 Batch 900 Loss 0.0595\n",
      "Epoch 24 Batch 1000 Loss 0.0458\n",
      "Epoch 24 Batch 1100 Loss 0.0593\n",
      "Epoch 24 Batch 1200 Loss 0.0479\n",
      "Epoch 24 Loss 0.0508\n",
      "Time taken for 1 epoch 122.54033923149109 sec\n",
      "\n",
      "Epoch 25 Batch 0 Loss 0.0582\n",
      "Epoch 25 Batch 100 Loss 0.0452\n",
      "Epoch 25 Batch 200 Loss 0.0401\n",
      "Epoch 25 Batch 300 Loss 0.0612\n",
      "Epoch 25 Batch 400 Loss 0.0446\n",
      "Epoch 25 Batch 500 Loss 0.0341\n",
      "Epoch 25 Batch 600 Loss 0.0508\n",
      "Epoch 25 Batch 700 Loss 0.0343\n",
      "Epoch 25 Batch 800 Loss 0.0432\n",
      "Epoch 25 Batch 900 Loss 0.0555\n",
      "Epoch 25 Batch 1000 Loss 0.0679\n",
      "Epoch 25 Batch 1100 Loss 0.0258\n",
      "Epoch 25 Batch 1200 Loss 0.0653\n",
      "Epoch 25 Loss 0.0510\n",
      "Time taken for 1 epoch 119.07599878311157 sec\n",
      "\n",
      "Epoch 26 Batch 0 Loss 0.0335\n",
      "Epoch 26 Batch 100 Loss 0.0329\n",
      "Epoch 26 Batch 200 Loss 0.0485\n",
      "Epoch 26 Batch 300 Loss 0.0469\n",
      "Epoch 26 Batch 400 Loss 0.0602\n",
      "Epoch 26 Batch 500 Loss 0.0358\n",
      "Epoch 26 Batch 600 Loss 0.0406\n",
      "Epoch 26 Batch 700 Loss 0.0777\n",
      "Epoch 26 Batch 800 Loss 0.0518\n",
      "Epoch 26 Batch 900 Loss 0.0494\n",
      "Epoch 26 Batch 1000 Loss 0.0361\n",
      "Epoch 26 Batch 1100 Loss 0.0883\n",
      "Epoch 26 Batch 1200 Loss 0.0645\n",
      "Epoch 26 Loss 0.0504\n",
      "Time taken for 1 epoch 122.18307209014893 sec\n",
      "\n",
      "Epoch 27 Batch 0 Loss 0.0586\n",
      "Epoch 27 Batch 100 Loss 0.0391\n",
      "Epoch 27 Batch 200 Loss 0.0323\n",
      "Epoch 27 Batch 300 Loss 0.0217\n",
      "Epoch 27 Batch 400 Loss 0.0325\n",
      "Epoch 27 Batch 500 Loss 0.0289\n",
      "Epoch 27 Batch 600 Loss 0.0574\n",
      "Epoch 27 Batch 700 Loss 0.0577\n",
      "Epoch 27 Batch 800 Loss 0.0606\n",
      "Epoch 27 Batch 900 Loss 0.0840\n",
      "Epoch 27 Batch 1000 Loss 0.0648\n",
      "Epoch 27 Batch 1100 Loss 0.0569\n",
      "Epoch 27 Batch 1200 Loss 0.0557\n",
      "Epoch 27 Loss 0.0494\n",
      "Time taken for 1 epoch 119.56750845909119 sec\n",
      "\n",
      "Epoch 28 Batch 0 Loss 0.0354\n",
      "Epoch 28 Batch 100 Loss 0.0281\n",
      "Epoch 28 Batch 200 Loss 0.0912\n",
      "Epoch 28 Batch 300 Loss 0.0445\n",
      "Epoch 28 Batch 400 Loss 0.0374\n",
      "Epoch 28 Batch 500 Loss 0.0700\n",
      "Epoch 28 Batch 600 Loss 0.0252\n",
      "Epoch 28 Batch 700 Loss 0.0730\n",
      "Epoch 28 Batch 800 Loss 0.0600\n",
      "Epoch 28 Batch 900 Loss 0.0762\n",
      "Epoch 28 Batch 1000 Loss 0.0537\n",
      "Epoch 28 Batch 1100 Loss 0.0615\n",
      "Epoch 28 Batch 1200 Loss 0.0355\n",
      "Epoch 28 Loss 0.0479\n",
      "Time taken for 1 epoch 120.70151495933533 sec\n",
      "\n",
      "Epoch 29 Batch 0 Loss 0.0450\n",
      "Epoch 29 Batch 100 Loss 0.0438\n",
      "Epoch 29 Batch 200 Loss 0.0313\n",
      "Epoch 29 Batch 300 Loss 0.0443\n",
      "Epoch 29 Batch 400 Loss 0.0579\n",
      "Epoch 29 Batch 500 Loss 0.0526\n",
      "Epoch 29 Batch 600 Loss 0.0499\n",
      "Epoch 29 Batch 700 Loss 0.0366\n",
      "Epoch 29 Batch 800 Loss 0.0310\n",
      "Epoch 29 Batch 900 Loss 0.0671\n",
      "Epoch 29 Batch 1000 Loss 0.0717\n",
      "Epoch 29 Batch 1100 Loss 0.0852\n",
      "Epoch 29 Batch 1200 Loss 0.0648\n",
      "Epoch 29 Loss 0.0477\n",
      "Time taken for 1 epoch 119.89199733734131 sec\n",
      "\n",
      "Epoch 30 Batch 0 Loss 0.0202\n",
      "Epoch 30 Batch 100 Loss 0.0372\n",
      "Epoch 30 Batch 200 Loss 0.0379\n",
      "Epoch 30 Batch 300 Loss 0.0448\n",
      "Epoch 30 Batch 400 Loss 0.0391\n",
      "Epoch 30 Batch 500 Loss 0.0521\n",
      "Epoch 30 Batch 600 Loss 0.0325\n",
      "Epoch 30 Batch 700 Loss 0.0167\n",
      "Epoch 30 Batch 800 Loss 0.0274\n",
      "Epoch 30 Batch 900 Loss 0.0384\n",
      "Epoch 30 Batch 1000 Loss 0.0576\n",
      "Epoch 30 Batch 1100 Loss 0.0767\n",
      "Epoch 30 Batch 1200 Loss 0.0691\n",
      "Epoch 30 Loss 0.0479\n",
      "Time taken for 1 epoch 122.20460987091064 sec\n",
      "\n",
      "Epoch 31 Batch 0 Loss 0.0202\n",
      "Epoch 31 Batch 100 Loss 0.0370\n",
      "Epoch 31 Batch 200 Loss 0.0331\n",
      "Epoch 31 Batch 300 Loss 0.0492\n",
      "Epoch 31 Batch 400 Loss 0.0286\n",
      "Epoch 31 Batch 500 Loss 0.0380\n",
      "Epoch 31 Batch 600 Loss 0.0388\n",
      "Epoch 31 Batch 700 Loss 0.0502\n",
      "Epoch 31 Batch 800 Loss 0.0312\n",
      "Epoch 31 Batch 900 Loss 0.0745\n",
      "Epoch 31 Batch 1000 Loss 0.0573\n",
      "Epoch 31 Batch 1100 Loss 0.0603\n",
      "Epoch 31 Batch 1200 Loss 0.0677\n",
      "Epoch 31 Loss 0.0464\n",
      "Time taken for 1 epoch 121.89999961853027 sec\n",
      "\n",
      "Epoch 32 Batch 0 Loss 0.0278\n",
      "Epoch 32 Batch 100 Loss 0.0501\n",
      "Epoch 32 Batch 200 Loss 0.0231\n",
      "Epoch 32 Batch 300 Loss 0.0398\n",
      "Epoch 32 Batch 400 Loss 0.0233\n",
      "Epoch 32 Batch 500 Loss 0.0841\n",
      "Epoch 32 Batch 600 Loss 0.0592\n",
      "Epoch 32 Batch 700 Loss 0.0546\n",
      "Epoch 32 Batch 800 Loss 0.0452\n",
      "Epoch 32 Batch 900 Loss 0.0572\n",
      "Epoch 32 Batch 1000 Loss 0.0770\n",
      "Epoch 32 Batch 1100 Loss 0.0574\n",
      "Epoch 32 Batch 1200 Loss 0.0503\n",
      "Epoch 32 Loss 0.0475\n",
      "Time taken for 1 epoch 126.65010070800781 sec\n",
      "\n",
      "Epoch 33 Batch 0 Loss 0.0313\n",
      "Epoch 33 Batch 100 Loss 0.0562\n",
      "Epoch 33 Batch 200 Loss 0.0508\n",
      "Epoch 33 Batch 300 Loss 0.0651\n",
      "Epoch 33 Batch 400 Loss 0.0488\n",
      "Epoch 33 Batch 500 Loss 0.0377\n",
      "Epoch 33 Batch 600 Loss 0.0398\n",
      "Epoch 33 Batch 700 Loss 0.0398\n",
      "Epoch 33 Batch 800 Loss 0.0691\n",
      "Epoch 33 Batch 900 Loss 0.0401\n",
      "Epoch 33 Batch 1000 Loss 0.0512\n",
      "Epoch 33 Batch 1100 Loss 0.0668\n",
      "Epoch 33 Batch 1200 Loss 0.0555\n",
      "Epoch 33 Loss 0.0461\n",
      "Time taken for 1 epoch 120.32799911499023 sec\n",
      "\n",
      "Epoch 34 Batch 0 Loss 0.0616\n",
      "Epoch 34 Batch 100 Loss 0.0228\n",
      "Epoch 34 Batch 200 Loss 0.0280\n",
      "Epoch 34 Batch 300 Loss 0.0366\n",
      "Epoch 34 Batch 400 Loss 0.0321\n",
      "Epoch 34 Batch 500 Loss 0.0492\n",
      "Epoch 34 Batch 600 Loss 0.0290\n",
      "Epoch 34 Batch 700 Loss 0.0431\n",
      "Epoch 34 Batch 800 Loss 0.0530\n",
      "Epoch 34 Batch 900 Loss 0.0721\n",
      "Epoch 34 Batch 1000 Loss 0.0293\n",
      "Epoch 34 Batch 1100 Loss 0.0527\n",
      "Epoch 34 Batch 1200 Loss 0.0373\n",
      "Epoch 34 Loss 0.0453\n",
      "Time taken for 1 epoch 122.37673902511597 sec\n",
      "\n",
      "Epoch 35 Batch 0 Loss 0.0537\n",
      "Epoch 35 Batch 100 Loss 0.0301\n",
      "Epoch 35 Batch 200 Loss 0.0315\n",
      "Epoch 35 Batch 300 Loss 0.0568\n",
      "Epoch 35 Batch 400 Loss 0.0474\n",
      "Epoch 35 Batch 500 Loss 0.0593\n",
      "Epoch 35 Batch 600 Loss 0.0575\n",
      "Epoch 35 Batch 700 Loss 0.0516\n",
      "Epoch 35 Batch 800 Loss 0.0547\n",
      "Epoch 35 Batch 900 Loss 0.0647\n",
      "Epoch 35 Batch 1000 Loss 0.0862\n",
      "Epoch 35 Batch 1100 Loss 0.0675\n",
      "Epoch 35 Batch 1200 Loss 0.0527\n",
      "Epoch 35 Loss 0.0450\n",
      "Time taken for 1 epoch 118.98798942565918 sec\n",
      "\n",
      "Epoch 36 Batch 0 Loss 0.0302\n"
     ]
    },
    {
     "name": "stdout",
     "output_type": "stream",
     "text": [
      "Epoch 36 Batch 100 Loss 0.0413\n",
      "Epoch 36 Batch 200 Loss 0.0415\n",
      "Epoch 36 Batch 300 Loss 0.0325\n",
      "Epoch 36 Batch 400 Loss 0.0502\n",
      "Epoch 36 Batch 500 Loss 0.0102\n",
      "Epoch 36 Batch 600 Loss 0.0689\n",
      "Epoch 36 Batch 700 Loss 0.0364\n",
      "Epoch 36 Batch 800 Loss 0.0427\n",
      "Epoch 36 Batch 900 Loss 0.0386\n",
      "Epoch 36 Batch 1000 Loss 0.0408\n",
      "Epoch 36 Batch 1100 Loss 0.0410\n",
      "Epoch 36 Batch 1200 Loss 0.0295\n",
      "Epoch 36 Loss 0.0438\n",
      "Time taken for 1 epoch 122.19649195671082 sec\n",
      "\n",
      "Epoch 37 Batch 0 Loss 0.0272\n",
      "Epoch 37 Batch 100 Loss 0.0485\n",
      "Epoch 37 Batch 200 Loss 0.0366\n",
      "Epoch 37 Batch 300 Loss 0.0642\n",
      "Epoch 37 Batch 400 Loss 0.0290\n",
      "Epoch 37 Batch 500 Loss 0.0370\n",
      "Epoch 37 Batch 600 Loss 0.0208\n",
      "Epoch 37 Batch 700 Loss 0.0401\n",
      "Epoch 37 Batch 800 Loss 0.0373\n",
      "Epoch 37 Batch 900 Loss 0.0416\n",
      "Epoch 37 Batch 1000 Loss 0.0604\n",
      "Epoch 37 Batch 1100 Loss 0.0382\n",
      "Epoch 37 Batch 1200 Loss 0.0451\n",
      "Epoch 37 Loss 0.0448\n",
      "Time taken for 1 epoch 119.01799964904785 sec\n",
      "\n",
      "Epoch 38 Batch 0 Loss 0.0459\n",
      "Epoch 38 Batch 100 Loss 0.0332\n",
      "Epoch 38 Batch 200 Loss 0.0502\n",
      "Epoch 38 Batch 300 Loss 0.0653\n",
      "Epoch 38 Batch 400 Loss 0.0264\n",
      "Epoch 38 Batch 500 Loss 0.0234\n",
      "Epoch 38 Batch 600 Loss 0.0391\n",
      "Epoch 38 Batch 700 Loss 0.0690\n",
      "Epoch 38 Batch 800 Loss 0.0258\n",
      "Epoch 38 Batch 900 Loss 0.0529\n",
      "Epoch 38 Batch 1000 Loss 0.0707\n",
      "Epoch 38 Batch 1100 Loss 0.0543\n",
      "Epoch 38 Batch 1200 Loss 0.0382\n",
      "Epoch 38 Loss 0.0448\n",
      "Time taken for 1 epoch 120.3216004371643 sec\n",
      "\n",
      "Epoch 39 Batch 0 Loss 0.0399\n",
      "Epoch 39 Batch 100 Loss 0.0408\n",
      "Epoch 39 Batch 200 Loss 0.0436\n",
      "Epoch 39 Batch 300 Loss 0.0291\n",
      "Epoch 39 Batch 400 Loss 0.0498\n",
      "Epoch 39 Batch 500 Loss 0.0750\n",
      "Epoch 39 Batch 600 Loss 0.0179\n",
      "Epoch 39 Batch 700 Loss 0.0368\n",
      "Epoch 39 Batch 800 Loss 0.0331\n",
      "Epoch 39 Batch 900 Loss 0.0309\n",
      "Epoch 39 Batch 1000 Loss 0.0448\n",
      "Epoch 39 Batch 1100 Loss 0.0564\n",
      "Epoch 39 Batch 1200 Loss 0.0441\n",
      "Epoch 39 Loss 0.0428\n",
      "Time taken for 1 epoch 118.10300326347351 sec\n",
      "\n",
      "Epoch 40 Batch 0 Loss 0.0628\n",
      "Epoch 40 Batch 100 Loss 0.0413\n",
      "Epoch 40 Batch 200 Loss 0.0228\n",
      "Epoch 40 Batch 300 Loss 0.0255\n",
      "Epoch 40 Batch 400 Loss 0.0374\n",
      "Epoch 40 Batch 500 Loss 0.0421\n",
      "Epoch 40 Batch 600 Loss 0.0261\n",
      "Epoch 40 Batch 700 Loss 0.0760\n",
      "Epoch 40 Batch 800 Loss 0.0843\n",
      "Epoch 40 Batch 900 Loss 0.0422\n",
      "Epoch 40 Batch 1000 Loss 0.0708\n",
      "Epoch 40 Batch 1100 Loss 0.0681\n",
      "Epoch 40 Batch 1200 Loss 0.0448\n",
      "Epoch 40 Loss 0.0433\n",
      "Time taken for 1 epoch 121.17204070091248 sec\n",
      "\n",
      "Epoch 41 Batch 0 Loss 0.0341\n",
      "Epoch 41 Batch 100 Loss 0.0388\n",
      "Epoch 41 Batch 200 Loss 0.0444\n",
      "Epoch 41 Batch 300 Loss 0.0607\n",
      "Epoch 41 Batch 400 Loss 0.0325\n",
      "Epoch 41 Batch 500 Loss 0.0489\n",
      "Epoch 41 Batch 600 Loss 0.0383\n",
      "Epoch 41 Batch 700 Loss 0.0572\n",
      "Epoch 41 Batch 800 Loss 0.0691\n",
      "Epoch 41 Batch 900 Loss 0.0345\n",
      "Epoch 41 Batch 1000 Loss 0.0380\n",
      "Epoch 41 Batch 1100 Loss 0.0554\n",
      "Epoch 41 Batch 1200 Loss 0.0381\n",
      "Epoch 41 Loss 0.0427\n",
      "Time taken for 1 epoch 119.36299920082092 sec\n",
      "\n",
      "Epoch 42 Batch 0 Loss 0.0470\n",
      "Epoch 42 Batch 100 Loss 0.0504\n",
      "Epoch 42 Batch 200 Loss 0.0419\n",
      "Epoch 42 Batch 300 Loss 0.0517\n",
      "Epoch 42 Batch 400 Loss 0.0650\n",
      "Epoch 42 Batch 500 Loss 0.0577\n",
      "Epoch 42 Batch 600 Loss 0.0589\n",
      "Epoch 42 Batch 700 Loss 0.0764\n",
      "Epoch 42 Batch 800 Loss 0.0600\n",
      "Epoch 42 Batch 900 Loss 0.0611\n",
      "Epoch 42 Batch 1000 Loss 0.0360\n",
      "Epoch 42 Batch 1100 Loss 0.0247\n",
      "Epoch 42 Batch 1200 Loss 0.0524\n",
      "Epoch 42 Loss 0.0432\n",
      "Time taken for 1 epoch 121.01265454292297 sec\n",
      "\n",
      "Epoch 43 Batch 0 Loss 0.0341\n",
      "Epoch 43 Batch 100 Loss 0.0407\n",
      "Epoch 43 Batch 200 Loss 0.0175\n",
      "Epoch 43 Batch 300 Loss 0.0428\n",
      "Epoch 43 Batch 400 Loss 0.0325\n",
      "Epoch 43 Batch 500 Loss 0.0313\n",
      "Epoch 43 Batch 600 Loss 0.0527\n",
      "Epoch 43 Batch 700 Loss 0.0459\n",
      "Epoch 43 Batch 800 Loss 0.0418\n",
      "Epoch 43 Batch 900 Loss 0.0299\n",
      "Epoch 43 Batch 1000 Loss 0.0365\n",
      "Epoch 43 Batch 1100 Loss 0.0717\n",
      "Epoch 43 Batch 1200 Loss 0.0581\n",
      "Epoch 43 Loss 0.0426\n",
      "Time taken for 1 epoch 119.25699996948242 sec\n",
      "\n",
      "Epoch 44 Batch 0 Loss 0.0308\n",
      "Epoch 44 Batch 100 Loss 0.0244\n",
      "Epoch 44 Batch 200 Loss 0.0374\n",
      "Epoch 44 Batch 300 Loss 0.0426\n",
      "Epoch 44 Batch 400 Loss 0.0467\n",
      "Epoch 44 Batch 500 Loss 0.0499\n",
      "Epoch 44 Batch 600 Loss 0.0394\n",
      "Epoch 44 Batch 700 Loss 0.0564\n",
      "Epoch 44 Batch 800 Loss 0.0649\n",
      "Epoch 44 Batch 900 Loss 0.0393\n",
      "Epoch 44 Batch 1000 Loss 0.0506\n",
      "Epoch 44 Batch 1100 Loss 0.0537\n",
      "Epoch 44 Batch 1200 Loss 0.0320\n",
      "Epoch 44 Loss 0.0434\n",
      "Time taken for 1 epoch 121.1787919998169 sec\n",
      "\n",
      "Epoch 45 Batch 0 Loss 0.0236\n",
      "Epoch 45 Batch 100 Loss 0.0145\n",
      "Epoch 45 Batch 200 Loss 0.0318\n",
      "Epoch 45 Batch 300 Loss 0.0404\n",
      "Epoch 45 Batch 400 Loss 0.0511\n",
      "Epoch 45 Batch 500 Loss 0.0214\n",
      "Epoch 45 Batch 600 Loss 0.0331\n",
      "Epoch 45 Batch 700 Loss 0.0543\n",
      "Epoch 45 Batch 800 Loss 0.0679\n",
      "Epoch 45 Batch 900 Loss 0.0542\n",
      "Epoch 45 Batch 1000 Loss 0.0533\n",
      "Epoch 45 Batch 1100 Loss 0.0558\n",
      "Epoch 45 Batch 1200 Loss 0.0457\n",
      "Epoch 45 Loss 0.0420\n",
      "Time taken for 1 epoch 119.23300099372864 sec\n",
      "\n",
      "Epoch 46 Batch 0 Loss 0.0092\n",
      "Epoch 46 Batch 100 Loss 0.0429\n",
      "Epoch 46 Batch 200 Loss 0.0434\n",
      "Epoch 46 Batch 300 Loss 0.0424\n",
      "Epoch 46 Batch 400 Loss 0.0535\n",
      "Epoch 46 Batch 500 Loss 0.0295\n",
      "Epoch 46 Batch 600 Loss 0.0731\n",
      "Epoch 46 Batch 700 Loss 0.0584\n",
      "Epoch 46 Batch 800 Loss 0.0256\n",
      "Epoch 46 Batch 900 Loss 0.0737\n",
      "Epoch 46 Batch 1000 Loss 0.0443\n",
      "Epoch 46 Batch 1100 Loss 0.0341\n",
      "Epoch 46 Batch 1200 Loss 0.0759\n",
      "Epoch 46 Loss 0.0421\n",
      "Time taken for 1 epoch 121.16891980171204 sec\n",
      "\n",
      "Epoch 47 Batch 0 Loss 0.0207\n",
      "Epoch 47 Batch 100 Loss 0.0195\n",
      "Epoch 47 Batch 200 Loss 0.0235\n",
      "Epoch 47 Batch 300 Loss 0.0336\n",
      "Epoch 47 Batch 400 Loss 0.0371\n",
      "Epoch 47 Batch 500 Loss 0.0332\n",
      "Epoch 47 Batch 600 Loss 0.0306\n",
      "Epoch 47 Batch 700 Loss 0.0201\n",
      "Epoch 47 Batch 800 Loss 0.0432\n",
      "Epoch 47 Batch 900 Loss 0.0393\n",
      "Epoch 47 Batch 1000 Loss 0.0589\n",
      "Epoch 47 Batch 1100 Loss 0.0573\n",
      "Epoch 47 Batch 1200 Loss 0.0626\n",
      "Epoch 47 Loss 0.0420\n",
      "Time taken for 1 epoch 119.00200080871582 sec\n",
      "\n",
      "Epoch 48 Batch 0 Loss 0.0420\n",
      "Epoch 48 Batch 100 Loss 0.0346\n",
      "Epoch 48 Batch 200 Loss 0.0334\n",
      "Epoch 48 Batch 300 Loss 0.0450\n",
      "Epoch 48 Batch 400 Loss 0.0303\n",
      "Epoch 48 Batch 500 Loss 0.0385\n",
      "Epoch 48 Batch 600 Loss 0.0365\n",
      "Epoch 48 Batch 700 Loss 0.0434\n",
      "Epoch 48 Batch 800 Loss 0.0501\n",
      "Epoch 48 Batch 900 Loss 0.0466\n",
      "Epoch 48 Batch 1000 Loss 0.0512\n",
      "Epoch 48 Batch 1100 Loss 0.0456\n",
      "Epoch 48 Batch 1200 Loss 0.0533\n",
      "Epoch 48 Loss 0.0416\n",
      "Time taken for 1 epoch 118.29666209220886 sec\n",
      "\n",
      "Epoch 49 Batch 0 Loss 0.0443\n",
      "Epoch 49 Batch 100 Loss 0.0308\n",
      "Epoch 49 Batch 200 Loss 0.0272\n",
      "Epoch 49 Batch 300 Loss 0.0634\n",
      "Epoch 49 Batch 400 Loss 0.0275\n",
      "Epoch 49 Batch 500 Loss 0.0264\n",
      "Epoch 49 Batch 600 Loss 0.0380\n",
      "Epoch 49 Batch 700 Loss 0.0378\n",
      "Epoch 49 Batch 800 Loss 0.0304\n",
      "Epoch 49 Batch 900 Loss 0.0370\n",
      "Epoch 49 Batch 1000 Loss 0.0549\n",
      "Epoch 49 Batch 1100 Loss 0.0403\n",
      "Epoch 49 Batch 1200 Loss 0.0431\n",
      "Epoch 49 Loss 0.0406\n",
      "Time taken for 1 epoch 117.18399691581726 sec\n",
      "\n",
      "Epoch 50 Batch 0 Loss 0.0257\n",
      "Epoch 50 Batch 100 Loss 0.0226\n",
      "Epoch 50 Batch 200 Loss 0.0332\n",
      "Epoch 50 Batch 300 Loss 0.0265\n",
      "Epoch 50 Batch 400 Loss 0.0429\n",
      "Epoch 50 Batch 500 Loss 0.0394\n",
      "Epoch 50 Batch 600 Loss 0.0449\n",
      "Epoch 50 Batch 700 Loss 0.0509\n",
      "Epoch 50 Batch 800 Loss 0.0422\n",
      "Epoch 50 Batch 900 Loss 0.0403\n",
      "Epoch 50 Batch 1000 Loss 0.0595\n",
      "Epoch 50 Batch 1100 Loss 0.0700\n",
      "Epoch 50 Batch 1200 Loss 0.0553\n",
      "Epoch 50 Loss 0.0415\n",
      "Time taken for 1 epoch 119.24995064735413 sec\n",
      "\n"
     ]
    }
   ],
   "source": [
    "EPOCHS = 50\n",
    "\n",
    "for epoch in range(EPOCHS):\n",
    "    start = time.time()\n",
    "\n",
    "    enc_hidden = encoder.initialize_hidden_state()\n",
    "    total_loss = 0\n",
    "\n",
    "    for (batch, (inp, targ)) in enumerate(dataset.take(steps_per_epoch)):\n",
    "        batch_loss = train_step(inp, targ, enc_hidden)\n",
    "        total_loss += batch_loss\n",
    "\n",
    "        if batch % 100 == 0:\n",
    "            print('Epoch {} Batch {} Loss {:.4f}'.format(epoch + 1,\n",
    "                                                       batch,\n",
    "                                                       batch_loss.numpy()))\n",
    "      # saving (checkpoint) the model every 2 epochs\n",
    "    if (epoch + 1) % 2 == 0:\n",
    "        checkpoint.save(file_prefix = checkpoint_prefix)\n",
    "\n",
    "    print('Epoch {} Loss {:.4f}'.format(epoch + 1,\n",
    "                                      total_loss / steps_per_epoch))\n",
    "    print('Time taken for 1 epoch {} sec\\n'.format(time.time() - start))"
   ]
  },
  {
   "cell_type": "code",
   "execution_count": 26,
   "metadata": {
    "id": "EbQpyYs13jF_"
   },
   "outputs": [],
   "source": [
    "def evaluate(sentence):\n",
    "    attention_plot = np.zeros((max_length_targ, max_length_inp))\n",
    "\n",
    "    sentence = preprocess_sentence(sentence)\n",
    "\n",
    "    inputs = [inp_lang.word_index[i] for i in sentence.split(' ')]\n",
    "    inputs = tf.keras.preprocessing.sequence.pad_sequences([inputs],\n",
    "                                                         maxlen=max_length_inp,\n",
    "                                                         padding='post')\n",
    "    inputs = tf.convert_to_tensor(inputs)\n",
    "\n",
    "    result = ''\n",
    "\n",
    "    hidden = [tf.zeros((1, units))]\n",
    "    enc_out, enc_hidden = encoder(inputs, hidden)\n",
    "\n",
    "    dec_hidden = enc_hidden\n",
    "    dec_input = tf.expand_dims([targ_lang.word_index['<start>']], 0)\n",
    "\n",
    "    for t in range(max_length_targ):\n",
    "        predictions, dec_hidden, attention_weights = decoder(dec_input,\n",
    "                                                             dec_hidden,\n",
    "                                                             enc_out)\n",
    "\n",
    "        # storing the attention weights to plot later on\n",
    "        attention_weights = tf.reshape(attention_weights, (-1, ))\n",
    "        attention_plot[t] = attention_weights.numpy()\n",
    "\n",
    "        predicted_id = tf.argmax(predictions[0]).numpy()\n",
    "\n",
    "        result += targ_lang.index_word[predicted_id] + ' '\n",
    "\n",
    "        if targ_lang.index_word[predicted_id] == '<end>':\n",
    "            return result, sentence, attention_plot\n",
    "        \n",
    "        # the predicted ID is fed back into the model\n",
    "        dec_input = tf.expand_dims([predicted_id], 0)\n",
    "\n",
    "    return result, sentence, attention_plot"
   ]
  },
  {
   "cell_type": "code",
   "execution_count": 27,
   "metadata": {
    "id": "Qjy26Fe8Bv5d"
   },
   "outputs": [],
   "source": [
    "# function for plotting the attention weights\n",
    "def plot_attention(attention, sentence, predicted_sentence):\n",
    "    fig = plt.figure(figsize=(10,10))\n",
    "    ax = fig.add_subplot(1, 1, 1)\n",
    "    ax.matshow(attention, cmap='viridis')\n",
    "\n",
    "    fontdict = {'fontsize': 14}\n",
    "\n",
    "    ax.set_xticklabels([''] + sentence, fontdict=fontdict, rotation=90)\n",
    "    ax.set_yticklabels([''] + predicted_sentence, fontdict=fontdict)\n",
    "\n",
    "    ax.xaxis.set_major_locator(ticker.MultipleLocator(1))\n",
    "    ax.yaxis.set_major_locator(ticker.MultipleLocator(1))\n",
    "\n",
    "    plt.show()"
   ]
  },
  {
   "cell_type": "code",
   "execution_count": 28,
   "metadata": {
    "id": "sl9zUHzg3jGI"
   },
   "outputs": [],
   "source": [
    "def translate(sentence):\n",
    "    result, sentence, attention_plot = evaluate(sentence)\n",
    "\n",
    "    print('Input: %s' % (sentence))\n",
    "    print('Predicted translation: {}'.format(result))\n",
    "\n",
    "    attention_plot = attention_plot[:len(result.split(' ')), :len(sentence.split(' '))]\n",
    "    plot_attention(attention_plot, sentence.split(' '), result.split(' '))"
   ]
  },
  {
   "cell_type": "code",
   "execution_count": 29,
   "metadata": {
    "colab": {
     "base_uri": "https://localhost:8080/"
    },
    "id": "UJpT9D5_OgP6",
    "outputId": "28722f54-a505-40a1-f884-ca7815272d0c"
   },
   "outputs": [
    {
     "data": {
      "text/plain": [
       "<tensorflow.python.training.tracking.util.CheckpointLoadStatus at 0x1dc7cb67b50>"
      ]
     },
     "execution_count": 29,
     "metadata": {},
     "output_type": "execute_result"
    }
   ],
   "source": [
    "# restoring the latest checkpoint in checkpoint_dir\n",
    "checkpoint.restore(tf.train.latest_checkpoint(checkpoint_dir))"
   ]
  },
  {
   "cell_type": "code",
   "execution_count": 30,
   "metadata": {
    "colab": {
     "base_uri": "https://localhost:8080/",
     "height": 677
    },
    "id": "WrAM0FDomq3E",
    "outputId": "1441a3f6-b48f-4970-f372-4c8103bbb4b6"
   },
   "outputs": [
    {
     "name": "stdout",
     "output_type": "stream",
     "text": [
      "Input: <start> здесь хорошо . <end>\n",
      "Predicted translation: it's good here . <end> \n"
     ]
    },
    {
     "name": "stderr",
     "output_type": "stream",
     "text": [
      "<ipython-input-27-71f02795d875>:9: UserWarning: FixedFormatter should only be used together with FixedLocator\n",
      "  ax.set_xticklabels([''] + sentence, fontdict=fontdict, rotation=90)\n",
      "<ipython-input-27-71f02795d875>:10: UserWarning: FixedFormatter should only be used together with FixedLocator\n",
      "  ax.set_yticklabels([''] + predicted_sentence, fontdict=fontdict)\n"
     ]
    },
    {
     "data": {
      "image/png": "[encoded data removed]",
      "text/plain": [
       "<Figure size 720x720 with 1 Axes>"
      ]
     },
     "metadata": {
      "needs_background": "light"
     },
     "output_type": "display_data"
    }
   ],
   "source": [
    "translate('Здесь хорошо.')"
   ]
  },
  {
   "cell_type": "code",
   "execution_count": 37,
   "metadata": {
    "colab": {
     "base_uri": "https://localhost:8080/",
     "height": 615
    },
    "id": "5bhFfwcIMX5i",
    "outputId": "7fe0e655-0b2d-4ade-db04-d4c146a80713"
   },
   "outputs": [
    {
     "name": "stdout",
     "output_type": "stream",
     "text": [
      "Input: <start> счастье это когда тебя любят за то , что ты есть и за то , какой есть . <end>\n",
      "Predicted translation: you mean what you what you what you what you what \n"
     ]
    },
    {
     "name": "stderr",
     "output_type": "stream",
     "text": [
      "<ipython-input-27-71f02795d875>:9: UserWarning: FixedFormatter should only be used together with FixedLocator\n",
      "  ax.set_xticklabels([''] + sentence, fontdict=fontdict, rotation=90)\n",
      "<ipython-input-27-71f02795d875>:10: UserWarning: FixedFormatter should only be used together with FixedLocator\n",
      "  ax.set_yticklabels([''] + predicted_sentence, fontdict=fontdict)\n"
     ]
    },
    {
     "data": {
      "image/png": "[encoded data removed]",
      "text/plain": [
       "<Figure size 720x720 with 1 Axes>"
      ]
     },
     "metadata": {
      "needs_background": "light"
     },
     "output_type": "display_data"
    }
   ],
   "source": [
    "translate('Счастье — это когда тебя любят за то, что ты есть и за то, какой есть.')"
   ]
  },
  {
   "cell_type": "code",
   "execution_count": 38,
   "metadata": {
    "colab": {
     "base_uri": "https://localhost:8080/",
     "height": 677
    },
    "id": "zSx2iM36EZQZ",
    "outputId": "dbe4427c-3b27-40a5-f3ca-9d29e04b18a2"
   },
   "outputs": [
    {
     "name": "stdout",
     "output_type": "stream",
     "text": [
      "Input: <start> наш рассказ начался неинтересно . <end>\n",
      "Predicted translation: our admit tag wrong . <end> \n"
     ]
    },
    {
     "name": "stderr",
     "output_type": "stream",
     "text": [
      "<ipython-input-27-71f02795d875>:9: UserWarning: FixedFormatter should only be used together with FixedLocator\n",
      "  ax.set_xticklabels([''] + sentence, fontdict=fontdict, rotation=90)\n",
      "<ipython-input-27-71f02795d875>:10: UserWarning: FixedFormatter should only be used together with FixedLocator\n",
      "  ax.set_yticklabels([''] + predicted_sentence, fontdict=fontdict)\n"
     ]
    },
    {
     "data": {
      "image/png": "[encoded data removed]",
      "text/plain": [
       "<Figure size 720x720 with 1 Axes>"
      ]
     },
     "metadata": {
      "needs_background": "light"
     },
     "output_type": "display_data"
    }
   ],
   "source": [
    "translate('Наш рассказ начался неинтересно.')"
   ]
  },
  {
   "cell_type": "code",
   "execution_count": 39,
   "metadata": {
    "colab": {
     "base_uri": "https://localhost:8080/",
     "height": 677
    },
    "id": "A3LLCx3ZE0Ls",
    "outputId": "1549f08a-fef9-4621-aec3-26a38d9a8f54"
   },
   "outputs": [
    {
     "name": "stdout",
     "output_type": "stream",
     "text": [
      "Input: <start> нужно сделать домашнее задание <end>\n",
      "Predicted translation: do you do what a homework to do . <end> \n"
     ]
    },
    {
     "name": "stderr",
     "output_type": "stream",
     "text": [
      "<ipython-input-27-71f02795d875>:9: UserWarning: FixedFormatter should only be used together with FixedLocator\n",
      "  ax.set_xticklabels([''] + sentence, fontdict=fontdict, rotation=90)\n",
      "<ipython-input-27-71f02795d875>:10: UserWarning: FixedFormatter should only be used together with FixedLocator\n",
      "  ax.set_yticklabels([''] + predicted_sentence, fontdict=fontdict)\n"
     ]
    },
    {
     "data": {
      "image/png": "[encoded data removed]",
      "text/plain": [
       "<Figure size 720x720 with 1 Axes>"
      ]
     },
     "metadata": {
      "needs_background": "light"
     },
     "output_type": "display_data"
    }
   ],
   "source": [
    "translate('Нужно сделать домашнее задание')"
   ]
  },
  {
   "cell_type": "markdown",
   "metadata": {
    "id": "jdXES85KkTVS"
   },
   "source": [
    "Переводчик получился немного лучше, но все-таки не очень хороший."
   ]
  },
  {
   "cell_type": "code",
   "execution_count": null,
   "metadata": {},
   "outputs": [],
   "source": []
  }
 ],
 "metadata": {
  "accelerator": "GPU",
  "colab": {
   "collapsed_sections": [],
   "name": "nmt_with_attention.ipynb",
   "provenance": [],
   "toc_visible": true
  },
  "kernelspec": {
   "display_name": "Python 3",
   "language": "python",
   "name": "python3"
  },
  "language_info": {
   "codemirror_mode": {
    "name": "ipython",
    "version": 3
   },
   "file_extension": ".py",
   "mimetype": "text/x-python",
   "name": "python",
   "nbconvert_exporter": "python",
   "pygments_lexer": "ipython3",
   "version": "3.8.8"
  }
 },
 "nbformat": 4,
 "nbformat_minor": 1
}
