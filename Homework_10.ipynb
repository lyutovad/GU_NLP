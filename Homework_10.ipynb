{
 "cells": [
  {
   "cell_type": "markdown",
   "metadata": {
    "id": "J0Qjg6vuaHNt"
   },
   "source": [
    "# Neural machine translation"
   ]
  },
  {
   "cell_type": "code",
   "execution_count": 1,
   "metadata": {
    "id": "tnxXKDjq3jEL"
   },
   "outputs": [],
   "source": [
    "import tensorflow as tf\n",
    "\n",
    "import matplotlib.pyplot as plt\n",
    "import matplotlib.ticker as ticker\n",
    "from sklearn.model_selection import train_test_split\n",
    "\n",
    "import unicodedata\n",
    "import re\n",
    "import numpy as np\n",
    "import os\n",
    "import io\n",
    "import time"
   ]
  },
  {
   "cell_type": "markdown",
   "metadata": {
    "id": "wfodePkj3jEa"
   },
   "source": [
    "## Download and prepare the dataset\n",
    "\n",
    "We'll use a language dataset provided by http://www.manythings.org/anki/"
   ]
  },
  {
   "cell_type": "code",
   "execution_count": 2,
   "metadata": {
    "id": "kRVATYOgJs1b"
   },
   "outputs": [],
   "source": [
    "# Download the file\n",
    "path_to_file = \"./rus.txt\""
   ]
  },
  {
   "cell_type": "code",
   "execution_count": 3,
   "metadata": {
    "id": "rd0jw-eC3jEh"
   },
   "outputs": [],
   "source": [
    "def preprocess_sentence(w):\n",
    "    w = w.lower().strip()\n",
    "    \n",
    "    # creating a space between a word and the punctuation following it\n",
    "    # eg: \"he is a boy.\" => \"he is a boy .\"\n",
    "    # Reference:- https://stackoverflow.com/questions/3645931/python-padding-punctuation-with-white-spaces-keeping-punctuation\n",
    "    w = re.sub(r\"([?.!,])\", r\" \\1 \", w)\n",
    "    w = re.sub(r'[\" \"]+', \" \", w)\n",
    "\n",
    "    # replacing everything with space except (a-z, A-Z, \".\", \"?\", \"!\", \",\")\n",
    "    w = re.sub(r\"[^a-zA-Zа-яА-Я?.!,']+\", \" \", w)\n",
    "\n",
    "    w = w.strip()\n",
    "\n",
    "    # adding a start and an end token to the sentence\n",
    "    # so that the model know when to start and stop predicting.\n",
    "    w = '<start> ' + w + ' <end>'\n",
    "    return w"
   ]
  },
  {
   "cell_type": "code",
   "execution_count": 4,
   "metadata": {
    "colab": {
     "base_uri": "https://localhost:8080/",
     "height": 35
    },
    "id": "yV9lZXQXNbnH",
    "outputId": "2f509965-ecec-4988-cffa-09ab9f954f13"
   },
   "outputs": [
    {
     "data": {
      "text/plain": [
       "\"<start> i can't go . <end>\""
      ]
     },
     "execution_count": 4,
     "metadata": {},
     "output_type": "execute_result"
    }
   ],
   "source": [
    "preprocess_sentence(\"I can't go.\")"
   ]
  },
  {
   "cell_type": "code",
   "execution_count": 5,
   "metadata": {
    "id": "OHn4Dct23jEm"
   },
   "outputs": [],
   "source": [
    "# 1. Remove the accents\n",
    "# 2. Clean the sentences\n",
    "# 3. Return word pairs in the format: [ENG, RUS]\n",
    "def create_dataset(path, num_examples):\n",
    "    lines = io.open(path, encoding='UTF-8').read().strip().split('\\n')\n",
    "\n",
    "    word_pairs = [[preprocess_sentence(w) for w in l.split('\\t')[:2]]  for l in lines[:num_examples]]\n",
    "\n",
    "    return zip(*word_pairs)"
   ]
  },
  {
   "cell_type": "code",
   "execution_count": 6,
   "metadata": {
    "colab": {
     "base_uri": "https://localhost:8080/"
    },
    "id": "cTbSbBz55QtF",
    "outputId": "5a5b0b4e-da16-4483-8e56-5e07fd79f0bf"
   },
   "outputs": [
    {
     "name": "stdout",
     "output_type": "stream",
     "text": [
      "<start> go . <end>\n",
      "<start> марш ! <end>\n"
     ]
    }
   ],
   "source": [
    "en, ru = create_dataset(path_to_file, None)\n",
    "print(en[0])\n",
    "print(ru[0])"
   ]
  },
  {
   "cell_type": "code",
   "execution_count": 7,
   "metadata": {},
   "outputs": [
    {
     "data": {
      "text/plain": [
       "('<start> run ! <end>',\n",
       " '<start> run . <end>',\n",
       " '<start> run . <end>',\n",
       " '<start> who ? <end>',\n",
       " '<start> wow ! <end>',\n",
       " '<start> wow ! <end>',\n",
       " '<start> wow ! <end>',\n",
       " '<start> wow ! <end>',\n",
       " '<start> wow ! <end>',\n",
       " '<start> wow ! <end>')"
      ]
     },
     "execution_count": 7,
     "metadata": {},
     "output_type": "execute_result"
    }
   ],
   "source": [
    "en[10:20]"
   ]
  },
  {
   "cell_type": "code",
   "execution_count": 8,
   "metadata": {},
   "outputs": [
    {
     "data": {
      "text/plain": [
       "('<start> бегите ! <end>',\n",
       " '<start> беги ! <end>',\n",
       " '<start> бегите ! <end>',\n",
       " '<start> кто ? <end>',\n",
       " '<start> вот это да ! <end>',\n",
       " '<start> круто ! <end>',\n",
       " '<start> здорово ! <end>',\n",
       " '<start> ух ты ! <end>',\n",
       " '<start> ого ! <end>',\n",
       " '<start> вах ! <end>')"
      ]
     },
     "execution_count": 8,
     "metadata": {},
     "output_type": "execute_result"
    }
   ],
   "source": [
    "ru[10:20]"
   ]
  },
  {
   "cell_type": "code",
   "execution_count": 9,
   "metadata": {
    "id": "bIOn8RCNDJXG"
   },
   "outputs": [],
   "source": [
    "def tokenize(lang):\n",
    "    lang_tokenizer = tf.keras.preprocessing.text.Tokenizer(filters='')\n",
    "    lang_tokenizer.fit_on_texts(lang)\n",
    "\n",
    "    tensor = lang_tokenizer.texts_to_sequences(lang)\n",
    "\n",
    "    tensor = tf.keras.preprocessing.sequence.pad_sequences(tensor,\n",
    "                                                         padding='post')\n",
    "\n",
    "    return tensor, lang_tokenizer"
   ]
  },
  {
   "cell_type": "code",
   "execution_count": 10,
   "metadata": {
    "id": "eAY9k49G3jE_"
   },
   "outputs": [],
   "source": [
    "def load_dataset(path, num_examples=None):\n",
    "    # creating cleaned input, output pairs\n",
    "    targ_lang, inp_lang = create_dataset(path, num_examples)\n",
    "\n",
    "    input_tensor, inp_lang_tokenizer = tokenize(inp_lang)\n",
    "    target_tensor, targ_lang_tokenizer = tokenize(targ_lang)\n",
    "\n",
    "    return input_tensor, target_tensor, inp_lang_tokenizer, targ_lang_tokenizer"
   ]
  },
  {
   "cell_type": "code",
   "execution_count": 11,
   "metadata": {},
   "outputs": [
    {
     "data": {
      "text/plain": [
       "(array([[ 1,  4,  3,  2,  0,  0],\n",
       "        [ 1,  5,  3,  2,  0,  0],\n",
       "        [ 1,  4,  3,  2,  0,  0],\n",
       "        [ 1,  6,  7,  2,  0,  0],\n",
       "        [ 1,  8,  9, 10,  3,  2],\n",
       "        [ 1, 11,  3,  2,  0,  0],\n",
       "        [ 1, 12,  3,  2,  0,  0],\n",
       "        [ 1, 13, 14,  3,  2,  0],\n",
       "        [ 1, 15,  3,  2,  0,  0],\n",
       "        [ 1, 16,  3,  2,  0,  0]]),\n",
       " <keras_preprocessing.text.Tokenizer at 0x225833c7400>)"
      ]
     },
     "execution_count": 11,
     "metadata": {},
     "output_type": "execute_result"
    }
   ],
   "source": [
    "tokenize(ru[10:20])"
   ]
  },
  {
   "cell_type": "markdown",
   "metadata": {
    "id": "GOi42V79Ydlr"
   },
   "source": [
    "### Limit the size of the dataset to experiment faster (optional)\n"
   ]
  },
  {
   "cell_type": "code",
   "execution_count": 12,
   "metadata": {
    "colab": {
     "base_uri": "https://localhost:8080/"
    },
    "id": "C8j9g9AnIeZV",
    "outputId": "510da3ec-5a6d-49b9-a0da-29c693f1aec5"
   },
   "outputs": [
    {
     "data": {
      "text/plain": [
       "(431097, 431097)"
      ]
     },
     "execution_count": 12,
     "metadata": {},
     "output_type": "execute_result"
    }
   ],
   "source": [
    "len(en), len(ru)"
   ]
  },
  {
   "cell_type": "code",
   "execution_count": 13,
   "metadata": {
    "id": "cnxC7q-j3jFD"
   },
   "outputs": [],
   "source": [
    "# Try experimenting with the size of that dataset\n",
    "num_examples = 100000\n",
    "input_tensor, target_tensor, inp_lang, targ_lang = load_dataset(path_to_file, num_examples)\n",
    "\n",
    "# Calculate max_length of the target tensors\n",
    "max_length_targ, max_length_inp = target_tensor.shape[1], input_tensor.shape[1]"
   ]
  },
  {
   "cell_type": "code",
   "execution_count": 14,
   "metadata": {},
   "outputs": [
    {
     "data": {
      "text/plain": [
       "(11, 15)"
      ]
     },
     "execution_count": 14,
     "metadata": {},
     "output_type": "execute_result"
    }
   ],
   "source": [
    "max_length_targ, max_length_inp "
   ]
  },
  {
   "cell_type": "code",
   "execution_count": 15,
   "metadata": {
    "colab": {
     "base_uri": "https://localhost:8080/"
    },
    "id": "4QILQkOs3jFG",
    "outputId": "ddc672e5-2231-4985-b550-2dbddd4468b9"
   },
   "outputs": [
    {
     "name": "stdout",
     "output_type": "stream",
     "text": [
      "80000 80000 20000 20000\n"
     ]
    }
   ],
   "source": [
    "# Creating training and validation sets using an 80-20 split\n",
    "input_tensor_train, input_tensor_val, target_tensor_train, target_tensor_val = train_test_split(input_tensor, target_tensor, test_size=0.2)\n",
    "\n",
    "# Show length\n",
    "print(len(input_tensor_train), len(target_tensor_train), len(input_tensor_val), len(target_tensor_val))"
   ]
  },
  {
   "cell_type": "code",
   "execution_count": 16,
   "metadata": {
    "id": "lJPmLZGMeD5q"
   },
   "outputs": [],
   "source": [
    "def convert(lang, tensor):\n",
    "    for t in tensor:\n",
    "        if t!=0:\n",
    "            print (\"%d ----> %s\" % (t, lang.index_word[t]))"
   ]
  },
  {
   "cell_type": "code",
   "execution_count": 17,
   "metadata": {
    "colab": {
     "base_uri": "https://localhost:8080/"
    },
    "id": "VXukARTDd7MT",
    "outputId": "a3606064-f48d-4e81-94d5-9c30d5e90ae6"
   },
   "outputs": [
    {
     "name": "stdout",
     "output_type": "stream",
     "text": [
      "Input Language; index to word mapping\n",
      "1 ----> <start>\n",
      "4 ----> я\n",
      "843 ----> похож\n",
      "20 ----> на\n",
      "1863 ----> маму\n",
      "3 ----> .\n",
      "2 ----> <end>\n",
      "\n",
      "Target Language; index to word mapping\n",
      "1 ----> <start>\n",
      "4 ----> i\n",
      "81 ----> look\n",
      "31 ----> like\n",
      "21 ----> my\n",
      "407 ----> mother\n",
      "3 ----> .\n",
      "2 ----> <end>\n"
     ]
    }
   ],
   "source": [
    "print (\"Input Language; index to word mapping\")\n",
    "convert(inp_lang, input_tensor_train[0])\n",
    "print ()\n",
    "print (\"Target Language; index to word mapping\")\n",
    "convert(targ_lang, target_tensor_train[0])"
   ]
  },
  {
   "cell_type": "markdown",
   "metadata": {
    "id": "rgCLkfv5uO3d"
   },
   "source": [
    "### Create a tf.data dataset"
   ]
  },
  {
   "cell_type": "code",
   "execution_count": 18,
   "metadata": {
    "id": "TqHsArVZ3jFS"
   },
   "outputs": [],
   "source": [
    "BUFFER_SIZE = len(input_tensor_train)\n",
    "BATCH_SIZE = 64\n",
    "steps_per_epoch = len(input_tensor_train)//BATCH_SIZE\n",
    "embedding_dim = 300\n",
    "units = 1024\n",
    "vocab_inp_size = len(inp_lang.word_index)+1\n",
    "vocab_tar_size = len(targ_lang.word_index)+1\n",
    "\n",
    "dataset = tf.data.Dataset.from_tensor_slices((input_tensor_train, target_tensor_train)).shuffle(BUFFER_SIZE)\n",
    "dataset = dataset.batch(BATCH_SIZE, drop_remainder=True)"
   ]
  },
  {
   "cell_type": "code",
   "execution_count": 19,
   "metadata": {
    "colab": {
     "base_uri": "https://localhost:8080/"
    },
    "id": "qc6-NK1GtWQt",
    "outputId": "5f42bae2-eefc-492f-f5c5-ad5215d549cf"
   },
   "outputs": [
    {
     "data": {
      "text/plain": [
       "(TensorShape([64, 15]), TensorShape([64, 11]))"
      ]
     },
     "execution_count": 19,
     "metadata": {},
     "output_type": "execute_result"
    }
   ],
   "source": [
    "example_input_batch, example_target_batch = next(iter(dataset))\n",
    "example_input_batch.shape, example_target_batch.shape"
   ]
  },
  {
   "cell_type": "code",
   "execution_count": 20,
   "metadata": {
    "id": "nZ2rI24i3jFg"
   },
   "outputs": [],
   "source": [
    "class Encoder(tf.keras.Model):\n",
    "    def __init__(self, vocab_size, embedding_dim, enc_units, batch_sz):\n",
    "        super(Encoder, self).__init__()\n",
    "        self.batch_sz = batch_sz\n",
    "        self.enc_units = enc_units\n",
    "        self.embedding = tf.keras.layers.Embedding(vocab_size, embedding_dim)\n",
    "        self.gru = tf.keras.layers.GRU(self.enc_units,\n",
    "                                       return_sequences=False,\n",
    "                                       return_state=True,\n",
    "                                       recurrent_initializer='glorot_uniform')\n",
    "    \n",
    "    \n",
    "    def call(self, x, hidden):\n",
    "        x = self.embedding(x)\n",
    "        output, state = self.gru(x, initial_state = hidden)\n",
    "        return state\n",
    "\n",
    "    \n",
    "    def initialize_hidden_state(self):\n",
    "        return tf.zeros((self.batch_sz, self.enc_units))"
   ]
  },
  {
   "cell_type": "code",
   "execution_count": 21,
   "metadata": {
    "colab": {
     "base_uri": "https://localhost:8080/"
    },
    "id": "60gSVh05Jl6l",
    "outputId": "4eaa568c-966c-4a9b-895d-4d5e22d20e3c"
   },
   "outputs": [
    {
     "name": "stdout",
     "output_type": "stream",
     "text": [
      "Encoder Hidden state shape: (batch size, units) (64, 1024)\n"
     ]
    }
   ],
   "source": [
    "encoder = Encoder(vocab_inp_size, embedding_dim, units, BATCH_SIZE)\n",
    "\n",
    "# sample input\n",
    "sample_hidden = encoder.initialize_hidden_state()\n",
    "sample_hidden = encoder(example_input_batch, sample_hidden)\n",
    "# print ('Encoder output shape: (batch size, sequence length, units) {}'.format(sample_output.shape))\n",
    "print ('Encoder Hidden state shape: (batch size, units) {}'.format(sample_hidden.shape))"
   ]
  },
  {
   "cell_type": "code",
   "execution_count": 22,
   "metadata": {
    "id": "yJ_B3mhW3jFk"
   },
   "outputs": [],
   "source": [
    "class Decoder(tf.keras.Model):\n",
    "    def __init__(self, vocab_size, embedding_dim, dec_units, batch_sz):\n",
    "        super(Decoder, self).__init__()\n",
    "        self.batch_sz = batch_sz\n",
    "        self.dec_units = dec_units\n",
    "        self.embedding = tf.keras.layers.Embedding(vocab_size, embedding_dim)\n",
    "        self.gru = tf.keras.layers.GRU(self.dec_units,\n",
    "                                       return_sequences=True,\n",
    "                                       return_state=True,\n",
    "                                       recurrent_initializer='glorot_uniform')\n",
    "        self.fc = tf.keras.layers.Dense(vocab_size)\n",
    "\n",
    "\n",
    "    \n",
    "    def call(self, x, hidden):\n",
    "        # enc_output shape == (batch_size, max_length, hidden_size)\n",
    "        \n",
    "        # x shape after passing through embedding == (batch_size, 1, embedding_dim)\n",
    "        x = self.embedding(x)\n",
    "        \n",
    "        # x shape after concatenation == (batch_size, 1, embedding_dim + hidden_size)\n",
    "        \n",
    "        # passing the concatenated vector to the GRU\n",
    "        output, state = self.gru(x, initial_state=hidden)\n",
    "        \n",
    "        # output shape == (batch_size * 1, hidden_size)\n",
    "        output = tf.reshape(output, (-1, output.shape[2]))\n",
    "        \n",
    "        # output shape == (batch_size, vocab)\n",
    "        x = self.fc(output)\n",
    "        \n",
    "        return x, state"
   ]
  },
  {
   "cell_type": "code",
   "execution_count": 23,
   "metadata": {
    "id": "P5UY8wko3jFp"
   },
   "outputs": [],
   "source": [
    "decoder = Decoder(vocab_tar_size, embedding_dim, units, BATCH_SIZE)\n",
    "\n",
    "decoder_sample_x, decoder_sample_h = decoder(tf.random.uniform((BATCH_SIZE, 1)),\n",
    "                                      sample_hidden)\n",
    "\n"
   ]
  },
  {
   "cell_type": "code",
   "execution_count": 24,
   "metadata": {
    "colab": {
     "base_uri": "https://localhost:8080/"
    },
    "id": "XKcypC0AGeLR",
    "outputId": "6f51f5ef-6d92-4933-d202-e2d512cbba37"
   },
   "outputs": [
    {
     "data": {
      "text/plain": [
       "TensorShape([64, 7260])"
      ]
     },
     "execution_count": 24,
     "metadata": {},
     "output_type": "execute_result"
    }
   ],
   "source": [
    "decoder_sample_x.shape"
   ]
  },
  {
   "cell_type": "code",
   "execution_count": 25,
   "metadata": {
    "colab": {
     "base_uri": "https://localhost:8080/"
    },
    "id": "6y0HF-zMF_vp",
    "outputId": "69a0893f-61c6-40c5-bce6-5911c3c4355b"
   },
   "outputs": [
    {
     "data": {
      "text/plain": [
       "TensorShape([64, 1024])"
      ]
     },
     "execution_count": 25,
     "metadata": {},
     "output_type": "execute_result"
    }
   ],
   "source": [
    "decoder_sample_h.shape"
   ]
  },
  {
   "cell_type": "markdown",
   "metadata": {
    "id": "_ch_71VbIRfK"
   },
   "source": [
    "## Define the optimizer and the loss function"
   ]
  },
  {
   "cell_type": "code",
   "execution_count": 26,
   "metadata": {
    "id": "WmTHr5iV3jFr"
   },
   "outputs": [],
   "source": [
    "optimizer = tf.keras.optimizers.Adam()\n",
    "\n",
    "loss_object = tf.keras.losses.SparseCategoricalCrossentropy(\n",
    "    from_logits=True, reduction='none')\n",
    "\n",
    "def loss_function(real, pred):\n",
    "    mask = tf.math.logical_not(tf.math.equal(real, 0))\n",
    "    loss_ = loss_object(real, pred)\n",
    "\n",
    "    mask = tf.cast(mask, dtype=loss_.dtype)\n",
    "    loss_ *= mask\n",
    "\n",
    "    return tf.reduce_mean(loss_)"
   ]
  },
  {
   "cell_type": "markdown",
   "metadata": {
    "id": "DMVWzzsfNl4e"
   },
   "source": [
    "## Checkpoints (Object-based saving)"
   ]
  },
  {
   "cell_type": "code",
   "execution_count": 27,
   "metadata": {
    "id": "Zj8bXQTgNwrF"
   },
   "outputs": [],
   "source": [
    "checkpoint_dir = './training_nmt_checkpoints'\n",
    "\n",
    "checkpoint_prefix = os.path.join(checkpoint_dir, \"ckpt\")\n",
    "\n",
    "checkpoint = tf.train.Checkpoint(optimizer=optimizer,\n",
    "                                 encoder=encoder,\n",
    "                                 decoder=decoder)"
   ]
  },
  {
   "cell_type": "code",
   "execution_count": 28,
   "metadata": {
    "id": "sC9ArXSsVfqn"
   },
   "outputs": [],
   "source": [
    "@tf.function\n",
    "def train_step(inp, targ, enc_hidden):\n",
    "    loss = 0\n",
    "\n",
    "    with tf.GradientTape() as tape:\n",
    "        enc_hidden = encoder(inp, enc_hidden)\n",
    "        \n",
    "        dec_hidden = enc_hidden\n",
    "        \n",
    "        dec_input = tf.expand_dims([targ_lang.word_index['<start>']] * BATCH_SIZE, 1)\n",
    "        \n",
    "        # Teacher forcing - feeding the target as the next input\n",
    "        for t in range(1, targ.shape[1]):\n",
    "            # passing enc_output to the decoder\n",
    "            predictions, dec_hidden = decoder(dec_input, dec_hidden)\n",
    "            \n",
    "            loss += loss_function(targ[:, t], predictions)\n",
    "            \n",
    "            # using teacher forcing\n",
    "            dec_input = tf.expand_dims(targ[:, t], 1)\n",
    "\n",
    "    batch_loss = (loss / int(targ.shape[1]))\n",
    "\n",
    "    variables = encoder.trainable_variables + decoder.trainable_variables\n",
    "\n",
    "    gradients = tape.gradient(loss, variables)\n",
    "\n",
    "    optimizer.apply_gradients(zip(gradients, variables))\n",
    "\n",
    "    return batch_loss"
   ]
  },
  {
   "cell_type": "code",
   "execution_count": 29,
   "metadata": {
    "colab": {
     "base_uri": "https://localhost:8080/"
    },
    "id": "ddefjBMa3jF0",
    "outputId": "b54245db-e06a-46b0-edc0-fab6afaba17a"
   },
   "outputs": [
    {
     "name": "stdout",
     "output_type": "stream",
     "text": [
      "Epoch 1 Batch 0 Loss 4.7605\n",
      "Epoch 1 Batch 100 Loss 2.1444\n",
      "Epoch 1 Batch 200 Loss 1.6421\n",
      "Epoch 1 Batch 300 Loss 1.6924\n",
      "Epoch 1 Batch 400 Loss 1.4534\n",
      "Epoch 1 Batch 500 Loss 1.3930\n",
      "Epoch 1 Batch 600 Loss 1.4828\n",
      "Epoch 1 Batch 700 Loss 1.2297\n",
      "Epoch 1 Batch 800 Loss 1.1418\n",
      "Epoch 1 Batch 900 Loss 1.1041\n",
      "Epoch 1 Batch 1000 Loss 0.9993\n",
      "Epoch 1 Batch 1100 Loss 0.9120\n",
      "Epoch 1 Batch 1200 Loss 0.9468\n",
      "Epoch 1 Loss 1.3966\n",
      "Time taken for 1 epoch 95.00700044631958 sec\n",
      "\n",
      "Epoch 2 Batch 0 Loss 0.8239\n",
      "Epoch 2 Batch 100 Loss 0.8119\n",
      "Epoch 2 Batch 200 Loss 0.7661\n",
      "Epoch 2 Batch 300 Loss 0.6827\n",
      "Epoch 2 Batch 400 Loss 0.7968\n",
      "Epoch 2 Batch 500 Loss 0.6979\n",
      "Epoch 2 Batch 600 Loss 0.6935\n",
      "Epoch 2 Batch 700 Loss 0.6572\n",
      "Epoch 2 Batch 800 Loss 0.5121\n",
      "Epoch 2 Batch 900 Loss 0.5716\n",
      "Epoch 2 Batch 1000 Loss 0.5875\n",
      "Epoch 2 Batch 1100 Loss 0.4601\n",
      "Epoch 2 Batch 1200 Loss 0.5495\n",
      "Epoch 2 Loss 0.6603\n",
      "Time taken for 1 epoch 90.2593355178833 sec\n",
      "\n",
      "Epoch 3 Batch 0 Loss 0.3918\n",
      "Epoch 3 Batch 100 Loss 0.4023\n",
      "Epoch 3 Batch 200 Loss 0.4109\n",
      "Epoch 3 Batch 300 Loss 0.2959\n",
      "Epoch 3 Batch 400 Loss 0.4135\n",
      "Epoch 3 Batch 500 Loss 0.3679\n",
      "Epoch 3 Batch 600 Loss 0.3328\n",
      "Epoch 3 Batch 700 Loss 0.3604\n",
      "Epoch 3 Batch 800 Loss 0.3868\n",
      "Epoch 3 Batch 900 Loss 0.3014\n",
      "Epoch 3 Batch 1000 Loss 0.2999\n",
      "Epoch 3 Batch 1100 Loss 0.3368\n",
      "Epoch 3 Batch 1200 Loss 0.3080\n",
      "Epoch 3 Loss 0.3550\n",
      "Time taken for 1 epoch 85.24996519088745 sec\n",
      "\n",
      "Epoch 4 Batch 0 Loss 0.2075\n",
      "Epoch 4 Batch 100 Loss 0.1887\n",
      "Epoch 4 Batch 200 Loss 0.1925\n",
      "Epoch 4 Batch 300 Loss 0.2316\n",
      "Epoch 4 Batch 400 Loss 0.1998\n",
      "Epoch 4 Batch 500 Loss 0.2243\n",
      "Epoch 4 Batch 600 Loss 0.1736\n",
      "Epoch 4 Batch 700 Loss 0.2465\n",
      "Epoch 4 Batch 800 Loss 0.1970\n",
      "Epoch 4 Batch 900 Loss 0.2332\n",
      "Epoch 4 Batch 1000 Loss 0.2209\n",
      "Epoch 4 Batch 1100 Loss 0.1876\n",
      "Epoch 4 Batch 1200 Loss 0.2334\n",
      "Epoch 4 Loss 0.2134\n",
      "Time taken for 1 epoch 89.86041808128357 sec\n",
      "\n",
      "Epoch 5 Batch 0 Loss 0.0877\n",
      "Epoch 5 Batch 100 Loss 0.1388\n",
      "Epoch 5 Batch 200 Loss 0.1238\n",
      "Epoch 5 Batch 300 Loss 0.1259\n",
      "Epoch 5 Batch 400 Loss 0.1501\n",
      "Epoch 5 Batch 500 Loss 0.1727\n",
      "Epoch 5 Batch 600 Loss 0.1531\n",
      "Epoch 5 Batch 700 Loss 0.1406\n",
      "Epoch 5 Batch 800 Loss 0.1373\n",
      "Epoch 5 Batch 900 Loss 0.1716\n",
      "Epoch 5 Batch 1000 Loss 0.1272\n",
      "Epoch 5 Batch 1100 Loss 0.1861\n",
      "Epoch 5 Batch 1200 Loss 0.1514\n",
      "Epoch 5 Loss 0.1470\n",
      "Time taken for 1 epoch 83.23500037193298 sec\n",
      "\n",
      "Epoch 6 Batch 0 Loss 0.1008\n",
      "Epoch 6 Batch 100 Loss 0.1222\n",
      "Epoch 6 Batch 200 Loss 0.0827\n",
      "Epoch 6 Batch 300 Loss 0.1259\n",
      "Epoch 6 Batch 400 Loss 0.0921\n",
      "Epoch 6 Batch 500 Loss 0.0938\n",
      "Epoch 6 Batch 600 Loss 0.1048\n",
      "Epoch 6 Batch 700 Loss 0.1147\n",
      "Epoch 6 Batch 800 Loss 0.0855\n",
      "Epoch 6 Batch 900 Loss 0.0959\n",
      "Epoch 6 Batch 1000 Loss 0.0901\n",
      "Epoch 6 Batch 1100 Loss 0.1754\n",
      "Epoch 6 Batch 1200 Loss 0.1282\n",
      "Epoch 6 Loss 0.1152\n",
      "Time taken for 1 epoch 84.61663293838501 sec\n",
      "\n",
      "Epoch 7 Batch 0 Loss 0.0930\n",
      "Epoch 7 Batch 100 Loss 0.1023\n",
      "Epoch 7 Batch 200 Loss 0.0774\n",
      "Epoch 7 Batch 300 Loss 0.1137\n",
      "Epoch 7 Batch 400 Loss 0.0651\n",
      "Epoch 7 Batch 500 Loss 0.0927\n",
      "Epoch 7 Batch 600 Loss 0.0936\n",
      "Epoch 7 Batch 700 Loss 0.1015\n",
      "Epoch 7 Batch 800 Loss 0.1159\n",
      "Epoch 7 Batch 900 Loss 0.1070\n",
      "Epoch 7 Batch 1000 Loss 0.0751\n",
      "Epoch 7 Batch 1100 Loss 0.1095\n",
      "Epoch 7 Batch 1200 Loss 0.1622\n",
      "Epoch 7 Loss 0.0994\n",
      "Time taken for 1 epoch 82.64799952507019 sec\n",
      "\n",
      "Epoch 8 Batch 0 Loss 0.0544\n",
      "Epoch 8 Batch 100 Loss 0.0896\n",
      "Epoch 8 Batch 200 Loss 0.0893\n",
      "Epoch 8 Batch 300 Loss 0.1163\n",
      "Epoch 8 Batch 400 Loss 0.0674\n",
      "Epoch 8 Batch 500 Loss 0.0815\n",
      "Epoch 8 Batch 600 Loss 0.0751\n",
      "Epoch 8 Batch 700 Loss 0.0952\n",
      "Epoch 8 Batch 800 Loss 0.0899\n",
      "Epoch 8 Batch 900 Loss 0.0830\n",
      "Epoch 8 Batch 1000 Loss 0.0943\n",
      "Epoch 8 Batch 1100 Loss 0.0728\n",
      "Epoch 8 Batch 1200 Loss 0.1062\n",
      "Epoch 8 Loss 0.0907\n",
      "Time taken for 1 epoch 87.9591372013092 sec\n",
      "\n",
      "Epoch 9 Batch 0 Loss 0.0578\n",
      "Epoch 9 Batch 100 Loss 0.0649\n",
      "Epoch 9 Batch 200 Loss 0.0682\n",
      "Epoch 9 Batch 300 Loss 0.0862\n",
      "Epoch 9 Batch 400 Loss 0.0824\n",
      "Epoch 9 Batch 500 Loss 0.0674\n",
      "Epoch 9 Batch 600 Loss 0.1000\n",
      "Epoch 9 Batch 700 Loss 0.1471\n",
      "Epoch 9 Batch 800 Loss 0.1365\n",
      "Epoch 9 Batch 900 Loss 0.1126\n",
      "Epoch 9 Batch 1000 Loss 0.0892\n",
      "Epoch 9 Batch 1100 Loss 0.0740\n",
      "Epoch 9 Batch 1200 Loss 0.1075\n",
      "Epoch 9 Loss 0.0848\n",
      "Time taken for 1 epoch 87.74014282226562 sec\n",
      "\n",
      "Epoch 10 Batch 0 Loss 0.0364\n",
      "Epoch 10 Batch 100 Loss 0.0653\n",
      "Epoch 10 Batch 200 Loss 0.0758\n",
      "Epoch 10 Batch 300 Loss 0.0770\n",
      "Epoch 10 Batch 400 Loss 0.0482\n",
      "Epoch 10 Batch 500 Loss 0.0594\n",
      "Epoch 10 Batch 600 Loss 0.0788\n",
      "Epoch 10 Batch 700 Loss 0.0818\n",
      "Epoch 10 Batch 800 Loss 0.0749\n",
      "Epoch 10 Batch 900 Loss 0.0841\n",
      "Epoch 10 Batch 1000 Loss 0.1363\n",
      "Epoch 10 Batch 1100 Loss 0.0945\n",
      "Epoch 10 Batch 1200 Loss 0.0996\n",
      "Epoch 10 Loss 0.0814\n",
      "Time taken for 1 epoch 92.11233472824097 sec\n",
      "\n",
      "Epoch 11 Batch 0 Loss 0.0627\n",
      "Epoch 11 Batch 100 Loss 0.0782\n",
      "Epoch 11 Batch 200 Loss 0.0826\n",
      "Epoch 11 Batch 300 Loss 0.0314\n",
      "Epoch 11 Batch 400 Loss 0.0850\n",
      "Epoch 11 Batch 500 Loss 0.0596\n",
      "Epoch 11 Batch 600 Loss 0.0977\n",
      "Epoch 11 Batch 700 Loss 0.0968\n",
      "Epoch 11 Batch 800 Loss 0.0977\n",
      "Epoch 11 Batch 900 Loss 0.0757\n",
      "Epoch 11 Batch 1000 Loss 0.0646\n",
      "Epoch 11 Batch 1100 Loss 0.0580\n",
      "Epoch 11 Batch 1200 Loss 0.1203\n",
      "Epoch 11 Loss 0.0778\n",
      "Time taken for 1 epoch 91.92900037765503 sec\n",
      "\n",
      "Epoch 12 Batch 0 Loss 0.1023\n",
      "Epoch 12 Batch 100 Loss 0.0602\n",
      "Epoch 12 Batch 200 Loss 0.0320\n",
      "Epoch 12 Batch 300 Loss 0.0842\n",
      "Epoch 12 Batch 400 Loss 0.0714\n",
      "Epoch 12 Batch 500 Loss 0.0671\n",
      "Epoch 12 Batch 600 Loss 0.0791\n",
      "Epoch 12 Batch 700 Loss 0.0678\n",
      "Epoch 12 Batch 800 Loss 0.0777\n",
      "Epoch 12 Batch 900 Loss 0.0589\n",
      "Epoch 12 Batch 1000 Loss 0.0462\n",
      "Epoch 12 Batch 1100 Loss 0.0495\n",
      "Epoch 12 Batch 1200 Loss 0.0478\n",
      "Epoch 12 Loss 0.0752\n",
      "Time taken for 1 epoch 92.51859068870544 sec\n",
      "\n",
      "Epoch 13 Batch 0 Loss 0.0572\n",
      "Epoch 13 Batch 100 Loss 0.0610\n",
      "Epoch 13 Batch 200 Loss 0.0487\n",
      "Epoch 13 Batch 300 Loss 0.0597\n",
      "Epoch 13 Batch 400 Loss 0.0722\n",
      "Epoch 13 Batch 500 Loss 0.0926\n",
      "Epoch 13 Batch 600 Loss 0.0941\n",
      "Epoch 13 Batch 700 Loss 0.1136\n",
      "Epoch 13 Batch 800 Loss 0.0816\n",
      "Epoch 13 Batch 900 Loss 0.1024\n",
      "Epoch 13 Batch 1000 Loss 0.1345\n",
      "Epoch 13 Batch 1100 Loss 0.0705\n",
      "Epoch 13 Batch 1200 Loss 0.0938\n",
      "Epoch 13 Loss 0.0729\n",
      "Time taken for 1 epoch 90.24076533317566 sec\n",
      "\n",
      "Epoch 14 Batch 0 Loss 0.0402\n",
      "Epoch 14 Batch 100 Loss 0.0456\n",
      "Epoch 14 Batch 200 Loss 0.0457\n",
      "Epoch 14 Batch 300 Loss 0.0743\n",
      "Epoch 14 Batch 400 Loss 0.0766\n",
      "Epoch 14 Batch 500 Loss 0.0569\n",
      "Epoch 14 Batch 600 Loss 0.0816\n",
      "Epoch 14 Batch 700 Loss 0.0841\n",
      "Epoch 14 Batch 800 Loss 0.0744\n",
      "Epoch 14 Batch 900 Loss 0.1210\n",
      "Epoch 14 Batch 1000 Loss 0.0816\n",
      "Epoch 14 Batch 1100 Loss 0.0785\n",
      "Epoch 14 Batch 1200 Loss 0.0837\n",
      "Epoch 14 Loss 0.0713\n",
      "Time taken for 1 epoch 90.10321474075317 sec\n",
      "\n",
      "Epoch 15 Batch 0 Loss 0.0770\n",
      "Epoch 15 Batch 100 Loss 0.0789\n",
      "Epoch 15 Batch 200 Loss 0.0637\n",
      "Epoch 15 Batch 300 Loss 0.0540\n",
      "Epoch 15 Batch 400 Loss 0.0925\n",
      "Epoch 15 Batch 500 Loss 0.0681\n",
      "Epoch 15 Batch 600 Loss 0.0675\n",
      "Epoch 15 Batch 700 Loss 0.0832\n",
      "Epoch 15 Batch 800 Loss 0.0717\n",
      "Epoch 15 Batch 900 Loss 0.0346\n",
      "Epoch 15 Batch 1000 Loss 0.0695\n",
      "Epoch 15 Batch 1100 Loss 0.0839\n",
      "Epoch 15 Batch 1200 Loss 0.1584\n",
      "Epoch 15 Loss 0.0697\n",
      "Time taken for 1 epoch 83.77599740028381 sec\n",
      "\n",
      "Epoch 16 Batch 0 Loss 0.0493\n",
      "Epoch 16 Batch 100 Loss 0.0563\n",
      "Epoch 16 Batch 200 Loss 0.0482\n",
      "Epoch 16 Batch 300 Loss 0.0561\n",
      "Epoch 16 Batch 400 Loss 0.0315\n",
      "Epoch 16 Batch 500 Loss 0.0913\n",
      "Epoch 16 Batch 600 Loss 0.0994\n",
      "Epoch 16 Batch 700 Loss 0.0803\n",
      "Epoch 16 Batch 800 Loss 0.1100\n",
      "Epoch 16 Batch 900 Loss 0.0580\n",
      "Epoch 16 Batch 1000 Loss 0.0828\n",
      "Epoch 16 Batch 1100 Loss 0.0848\n",
      "Epoch 16 Batch 1200 Loss 0.1068\n",
      "Epoch 16 Loss 0.0682\n",
      "Time taken for 1 epoch 89.59926199913025 sec\n",
      "\n",
      "Epoch 17 Batch 0 Loss 0.0591\n",
      "Epoch 17 Batch 100 Loss 0.0383\n",
      "Epoch 17 Batch 200 Loss 0.0333\n",
      "Epoch 17 Batch 300 Loss 0.0703\n",
      "Epoch 17 Batch 400 Loss 0.0608\n",
      "Epoch 17 Batch 500 Loss 0.0480\n",
      "Epoch 17 Batch 600 Loss 0.0670\n",
      "Epoch 17 Batch 700 Loss 0.0806\n",
      "Epoch 17 Batch 800 Loss 0.0713\n",
      "Epoch 17 Batch 900 Loss 0.0722\n",
      "Epoch 17 Batch 1000 Loss 0.0832\n",
      "Epoch 17 Batch 1100 Loss 0.0755\n",
      "Epoch 17 Batch 1200 Loss 0.0617\n",
      "Epoch 17 Loss 0.0674\n",
      "Time taken for 1 epoch 84.63499855995178 sec\n",
      "\n",
      "Epoch 18 Batch 0 Loss 0.0896\n",
      "Epoch 18 Batch 100 Loss 0.0750\n",
      "Epoch 18 Batch 200 Loss 0.0349\n",
      "Epoch 18 Batch 300 Loss 0.0568\n",
      "Epoch 18 Batch 400 Loss 0.0733\n",
      "Epoch 18 Batch 500 Loss 0.0523\n",
      "Epoch 18 Batch 600 Loss 0.0584\n",
      "Epoch 18 Batch 700 Loss 0.0551\n",
      "Epoch 18 Batch 800 Loss 0.0747\n",
      "Epoch 18 Batch 900 Loss 0.0664\n",
      "Epoch 18 Batch 1000 Loss 0.0752\n"
     ]
    },
    {
     "name": "stdout",
     "output_type": "stream",
     "text": [
      "Epoch 18 Batch 1100 Loss 0.0690\n",
      "Epoch 18 Batch 1200 Loss 0.0626\n",
      "Epoch 18 Loss 0.0666\n",
      "Time taken for 1 epoch 85.58072400093079 sec\n",
      "\n",
      "Epoch 19 Batch 0 Loss 0.0518\n",
      "Epoch 19 Batch 100 Loss 0.0979\n",
      "Epoch 19 Batch 200 Loss 0.0295\n",
      "Epoch 19 Batch 300 Loss 0.0526\n",
      "Epoch 19 Batch 400 Loss 0.0872\n",
      "Epoch 19 Batch 500 Loss 0.0725\n",
      "Epoch 19 Batch 600 Loss 0.0794\n",
      "Epoch 19 Batch 700 Loss 0.0847\n",
      "Epoch 19 Batch 800 Loss 0.0690\n",
      "Epoch 19 Batch 900 Loss 0.0607\n",
      "Epoch 19 Batch 1000 Loss 0.0606\n",
      "Epoch 19 Batch 1100 Loss 0.0813\n",
      "Epoch 19 Batch 1200 Loss 0.0731\n",
      "Epoch 19 Loss 0.0643\n",
      "Time taken for 1 epoch 87.71100234985352 sec\n",
      "\n",
      "Epoch 20 Batch 0 Loss 0.0264\n",
      "Epoch 20 Batch 100 Loss 0.0785\n",
      "Epoch 20 Batch 200 Loss 0.0506\n",
      "Epoch 20 Batch 300 Loss 0.0360\n",
      "Epoch 20 Batch 400 Loss 0.0551\n",
      "Epoch 20 Batch 500 Loss 0.0348\n",
      "Epoch 20 Batch 600 Loss 0.0438\n",
      "Epoch 20 Batch 700 Loss 0.0667\n",
      "Epoch 20 Batch 800 Loss 0.0560\n",
      "Epoch 20 Batch 900 Loss 0.1399\n",
      "Epoch 20 Batch 1000 Loss 0.0665\n",
      "Epoch 20 Batch 1100 Loss 0.0640\n",
      "Epoch 20 Batch 1200 Loss 0.1205\n",
      "Epoch 20 Loss 0.0626\n",
      "Time taken for 1 epoch 90.17391872406006 sec\n",
      "\n",
      "Epoch 21 Batch 0 Loss 0.0224\n",
      "Epoch 21 Batch 100 Loss 0.0784\n",
      "Epoch 21 Batch 200 Loss 0.0205\n",
      "Epoch 21 Batch 300 Loss 0.0554\n",
      "Epoch 21 Batch 400 Loss 0.0706\n",
      "Epoch 21 Batch 500 Loss 0.0935\n",
      "Epoch 21 Batch 600 Loss 0.0276\n",
      "Epoch 21 Batch 700 Loss 0.0640\n",
      "Epoch 21 Batch 800 Loss 0.0596\n",
      "Epoch 21 Batch 900 Loss 0.0826\n",
      "Epoch 21 Batch 1000 Loss 0.0674\n",
      "Epoch 21 Batch 1100 Loss 0.0753\n",
      "Epoch 21 Batch 1200 Loss 0.1208\n",
      "Epoch 21 Loss 0.0631\n",
      "Time taken for 1 epoch 87.16899967193604 sec\n",
      "\n",
      "Epoch 22 Batch 0 Loss 0.0509\n",
      "Epoch 22 Batch 100 Loss 0.0513\n",
      "Epoch 22 Batch 200 Loss 0.0538\n",
      "Epoch 22 Batch 300 Loss 0.0569\n",
      "Epoch 22 Batch 400 Loss 0.0712\n",
      "Epoch 22 Batch 500 Loss 0.0476\n",
      "Epoch 22 Batch 600 Loss 0.0689\n",
      "Epoch 22 Batch 700 Loss 0.0631\n",
      "Epoch 22 Batch 800 Loss 0.0758\n",
      "Epoch 22 Batch 900 Loss 0.0929\n",
      "Epoch 22 Batch 1000 Loss 0.1014\n",
      "Epoch 22 Batch 1100 Loss 0.0703\n",
      "Epoch 22 Batch 1200 Loss 0.0606\n",
      "Epoch 22 Loss 0.0610\n",
      "Time taken for 1 epoch 88.05858755111694 sec\n",
      "\n",
      "Epoch 23 Batch 0 Loss 0.0709\n",
      "Epoch 23 Batch 100 Loss 0.0442\n",
      "Epoch 23 Batch 200 Loss 0.0317\n",
      "Epoch 23 Batch 300 Loss 0.0291\n",
      "Epoch 23 Batch 400 Loss 0.0661\n",
      "Epoch 23 Batch 500 Loss 0.0462\n",
      "Epoch 23 Batch 600 Loss 0.0614\n",
      "Epoch 23 Batch 700 Loss 0.0660\n",
      "Epoch 23 Batch 800 Loss 0.1037\n",
      "Epoch 23 Batch 900 Loss 0.0638\n",
      "Epoch 23 Batch 1000 Loss 0.0777\n",
      "Epoch 23 Batch 1100 Loss 0.0607\n",
      "Epoch 23 Batch 1200 Loss 0.0601\n",
      "Epoch 23 Loss 0.0606\n",
      "Time taken for 1 epoch 88.41299867630005 sec\n",
      "\n",
      "Epoch 24 Batch 0 Loss 0.0431\n",
      "Epoch 24 Batch 100 Loss 0.0642\n",
      "Epoch 24 Batch 200 Loss 0.0678\n",
      "Epoch 24 Batch 300 Loss 0.0495\n",
      "Epoch 24 Batch 400 Loss 0.0379\n",
      "Epoch 24 Batch 500 Loss 0.0695\n",
      "Epoch 24 Batch 600 Loss 0.0566\n",
      "Epoch 24 Batch 700 Loss 0.0592\n",
      "Epoch 24 Batch 800 Loss 0.0589\n",
      "Epoch 24 Batch 900 Loss 0.0767\n",
      "Epoch 24 Batch 1000 Loss 0.0710\n",
      "Epoch 24 Batch 1100 Loss 0.0532\n",
      "Epoch 24 Batch 1200 Loss 0.0721\n",
      "Epoch 24 Loss 0.0598\n",
      "Time taken for 1 epoch 89.87831044197083 sec\n",
      "\n",
      "Epoch 25 Batch 0 Loss 0.0251\n",
      "Epoch 25 Batch 100 Loss 0.0477\n",
      "Epoch 25 Batch 200 Loss 0.0386\n",
      "Epoch 25 Batch 300 Loss 0.0549\n",
      "Epoch 25 Batch 400 Loss 0.0392\n",
      "Epoch 25 Batch 500 Loss 0.0958\n",
      "Epoch 25 Batch 600 Loss 0.0276\n",
      "Epoch 25 Batch 700 Loss 0.0527\n",
      "Epoch 25 Batch 800 Loss 0.0623\n",
      "Epoch 25 Batch 900 Loss 0.0475\n",
      "Epoch 25 Batch 1000 Loss 0.1021\n",
      "Epoch 25 Batch 1100 Loss 0.1105\n",
      "Epoch 25 Batch 1200 Loss 0.0607\n",
      "Epoch 25 Loss 0.0595\n",
      "Time taken for 1 epoch 88.12100028991699 sec\n",
      "\n",
      "Epoch 26 Batch 0 Loss 0.0442\n",
      "Epoch 26 Batch 100 Loss 0.0791\n",
      "Epoch 26 Batch 200 Loss 0.0591\n",
      "Epoch 26 Batch 300 Loss 0.0292\n",
      "Epoch 26 Batch 400 Loss 0.0409\n",
      "Epoch 26 Batch 500 Loss 0.0589\n",
      "Epoch 26 Batch 600 Loss 0.0529\n",
      "Epoch 26 Batch 700 Loss 0.0809\n",
      "Epoch 26 Batch 800 Loss 0.0861\n",
      "Epoch 26 Batch 900 Loss 0.0664\n",
      "Epoch 26 Batch 1000 Loss 0.0397\n",
      "Epoch 26 Batch 1100 Loss 0.0754\n",
      "Epoch 26 Batch 1200 Loss 0.0590\n",
      "Epoch 26 Loss 0.0589\n",
      "Time taken for 1 epoch 91.15052795410156 sec\n",
      "\n",
      "Epoch 27 Batch 0 Loss 0.0408\n",
      "Epoch 27 Batch 100 Loss 0.0465\n",
      "Epoch 27 Batch 200 Loss 0.0398\n",
      "Epoch 27 Batch 300 Loss 0.0720\n",
      "Epoch 27 Batch 400 Loss 0.0307\n",
      "Epoch 27 Batch 500 Loss 0.0546\n",
      "Epoch 27 Batch 600 Loss 0.0445\n",
      "Epoch 27 Batch 700 Loss 0.0538\n",
      "Epoch 27 Batch 800 Loss 0.0639\n",
      "Epoch 27 Batch 900 Loss 0.0421\n",
      "Epoch 27 Batch 1000 Loss 0.0247\n",
      "Epoch 27 Batch 1100 Loss 0.0580\n",
      "Epoch 27 Batch 1200 Loss 0.0537\n",
      "Epoch 27 Loss 0.0577\n",
      "Time taken for 1 epoch 87.75800061225891 sec\n",
      "\n",
      "Epoch 28 Batch 0 Loss 0.0273\n",
      "Epoch 28 Batch 100 Loss 0.0538\n",
      "Epoch 28 Batch 200 Loss 0.0243\n",
      "Epoch 28 Batch 300 Loss 0.0471\n",
      "Epoch 28 Batch 400 Loss 0.0847\n",
      "Epoch 28 Batch 500 Loss 0.0412\n",
      "Epoch 28 Batch 600 Loss 0.0618\n",
      "Epoch 28 Batch 700 Loss 0.0790\n",
      "Epoch 28 Batch 800 Loss 0.0499\n",
      "Epoch 28 Batch 900 Loss 0.0483\n",
      "Epoch 28 Batch 1000 Loss 0.0988\n",
      "Epoch 28 Batch 1100 Loss 0.0785\n",
      "Epoch 28 Batch 1200 Loss 0.0431\n",
      "Epoch 28 Loss 0.0573\n",
      "Time taken for 1 epoch 91.15001559257507 sec\n",
      "\n",
      "Epoch 29 Batch 0 Loss 0.0540\n",
      "Epoch 29 Batch 100 Loss 0.0489\n",
      "Epoch 29 Batch 200 Loss 0.0647\n",
      "Epoch 29 Batch 300 Loss 0.0541\n",
      "Epoch 29 Batch 400 Loss 0.0406\n",
      "Epoch 29 Batch 500 Loss 0.0554\n",
      "Epoch 29 Batch 600 Loss 0.0893\n",
      "Epoch 29 Batch 700 Loss 0.1245\n",
      "Epoch 29 Batch 800 Loss 0.0967\n",
      "Epoch 29 Batch 900 Loss 0.0233\n",
      "Epoch 29 Batch 1000 Loss 0.0441\n",
      "Epoch 29 Batch 1100 Loss 0.0723\n",
      "Epoch 29 Batch 1200 Loss 0.0879\n",
      "Epoch 29 Loss 0.0567\n",
      "Time taken for 1 epoch 88.37500333786011 sec\n",
      "\n",
      "Epoch 30 Batch 0 Loss 0.0281\n",
      "Epoch 30 Batch 100 Loss 0.0321\n",
      "Epoch 30 Batch 200 Loss 0.0402\n",
      "Epoch 30 Batch 300 Loss 0.0676\n",
      "Epoch 30 Batch 400 Loss 0.0797\n",
      "Epoch 30 Batch 500 Loss 0.0221\n",
      "Epoch 30 Batch 600 Loss 0.0297\n",
      "Epoch 30 Batch 700 Loss 0.0880\n",
      "Epoch 30 Batch 800 Loss 0.0450\n",
      "Epoch 30 Batch 900 Loss 0.0481\n",
      "Epoch 30 Batch 1000 Loss 0.0763\n",
      "Epoch 30 Batch 1100 Loss 0.0768\n",
      "Epoch 30 Batch 1200 Loss 0.0639\n",
      "Epoch 30 Loss 0.0561\n",
      "Time taken for 1 epoch 89.34745669364929 sec\n",
      "\n",
      "Epoch 31 Batch 0 Loss 0.0411\n",
      "Epoch 31 Batch 100 Loss 0.0509\n",
      "Epoch 31 Batch 200 Loss 0.0427\n",
      "Epoch 31 Batch 300 Loss 0.0288\n",
      "Epoch 31 Batch 400 Loss 0.0736\n",
      "Epoch 31 Batch 500 Loss 0.0483\n",
      "Epoch 31 Batch 600 Loss 0.0407\n",
      "Epoch 31 Batch 700 Loss 0.0743\n",
      "Epoch 31 Batch 800 Loss 0.0469\n",
      "Epoch 31 Batch 900 Loss 0.0512\n",
      "Epoch 31 Batch 1000 Loss 0.0402\n",
      "Epoch 31 Batch 1100 Loss 0.0655\n",
      "Epoch 31 Batch 1200 Loss 0.0645\n",
      "Epoch 31 Loss 0.0551\n",
      "Time taken for 1 epoch 87.84499883651733 sec\n",
      "\n",
      "Epoch 32 Batch 0 Loss 0.0512\n",
      "Epoch 32 Batch 100 Loss 0.0708\n",
      "Epoch 32 Batch 200 Loss 0.0433\n",
      "Epoch 32 Batch 300 Loss 0.0306\n",
      "Epoch 32 Batch 400 Loss 0.0717\n",
      "Epoch 32 Batch 500 Loss 0.0767\n",
      "Epoch 32 Batch 600 Loss 0.0700\n",
      "Epoch 32 Batch 700 Loss 0.0793\n",
      "Epoch 32 Batch 800 Loss 0.0938\n",
      "Epoch 32 Batch 900 Loss 0.0941\n",
      "Epoch 32 Batch 1000 Loss 0.0811\n",
      "Epoch 32 Batch 1100 Loss 0.0823\n",
      "Epoch 32 Batch 1200 Loss 0.0498\n",
      "Epoch 32 Loss 0.0544\n",
      "Time taken for 1 epoch 87.84663510322571 sec\n",
      "\n",
      "Epoch 33 Batch 0 Loss 0.0545\n",
      "Epoch 33 Batch 100 Loss 0.0345\n",
      "Epoch 33 Batch 200 Loss 0.0500\n",
      "Epoch 33 Batch 300 Loss 0.0376\n",
      "Epoch 33 Batch 400 Loss 0.0665\n",
      "Epoch 33 Batch 500 Loss 0.0803\n",
      "Epoch 33 Batch 600 Loss 0.0448\n",
      "Epoch 33 Batch 700 Loss 0.0239\n",
      "Epoch 33 Batch 800 Loss 0.0741\n",
      "Epoch 33 Batch 900 Loss 0.0706\n",
      "Epoch 33 Batch 1000 Loss 0.0537\n",
      "Epoch 33 Batch 1100 Loss 0.0456\n",
      "Epoch 33 Batch 1200 Loss 0.1322\n",
      "Epoch 33 Loss 0.0542\n",
      "Time taken for 1 epoch 86.42500019073486 sec\n",
      "\n",
      "Epoch 34 Batch 0 Loss 0.0501\n",
      "Epoch 34 Batch 100 Loss 0.0227\n",
      "Epoch 34 Batch 200 Loss 0.0682\n",
      "Epoch 34 Batch 300 Loss 0.0520\n",
      "Epoch 34 Batch 400 Loss 0.0659\n",
      "Epoch 34 Batch 500 Loss 0.0434\n",
      "Epoch 34 Batch 600 Loss 0.0842\n",
      "Epoch 34 Batch 700 Loss 0.0949\n",
      "Epoch 34 Batch 800 Loss 0.0526\n",
      "Epoch 34 Batch 900 Loss 0.0440\n",
      "Epoch 34 Batch 1000 Loss 0.0700\n",
      "Epoch 34 Batch 1100 Loss 0.0681\n",
      "Epoch 34 Batch 1200 Loss 0.0563\n",
      "Epoch 34 Loss 0.0532\n",
      "Time taken for 1 epoch 90.09892988204956 sec\n",
      "\n",
      "Epoch 35 Batch 0 Loss 0.0647\n",
      "Epoch 35 Batch 100 Loss 0.0556\n",
      "Epoch 35 Batch 200 Loss 0.0192\n",
      "Epoch 35 Batch 300 Loss 0.0328\n",
      "Epoch 35 Batch 400 Loss 0.0483\n",
      "Epoch 35 Batch 500 Loss 0.0422\n",
      "Epoch 35 Batch 600 Loss 0.0668\n",
      "Epoch 35 Batch 700 Loss 0.0668\n",
      "Epoch 35 Batch 800 Loss 0.0335\n",
      "Epoch 35 Batch 900 Loss 0.0666\n",
      "Epoch 35 Batch 1000 Loss 0.0557\n",
      "Epoch 35 Batch 1100 Loss 0.0624\n",
      "Epoch 35 Batch 1200 Loss 0.0989\n",
      "Epoch 35 Loss 0.0532\n",
      "Time taken for 1 epoch 87.58899998664856 sec\n",
      "\n",
      "Epoch 36 Batch 0 Loss 0.0622\n",
      "Epoch 36 Batch 100 Loss 0.0357\n"
     ]
    },
    {
     "name": "stdout",
     "output_type": "stream",
     "text": [
      "Epoch 36 Batch 200 Loss 0.0457\n",
      "Epoch 36 Batch 300 Loss 0.0568\n",
      "Epoch 36 Batch 400 Loss 0.0355\n",
      "Epoch 36 Batch 500 Loss 0.0237\n",
      "Epoch 36 Batch 600 Loss 0.0595\n",
      "Epoch 36 Batch 700 Loss 0.0906\n",
      "Epoch 36 Batch 800 Loss 0.0675\n",
      "Epoch 36 Batch 900 Loss 0.0614\n",
      "Epoch 36 Batch 1000 Loss 0.0207\n",
      "Epoch 36 Batch 1100 Loss 0.0543\n",
      "Epoch 36 Batch 1200 Loss 0.0611\n",
      "Epoch 36 Loss 0.0529\n",
      "Time taken for 1 epoch 89.94556069374084 sec\n",
      "\n",
      "Epoch 37 Batch 0 Loss 0.0378\n",
      "Epoch 37 Batch 100 Loss 0.0448\n",
      "Epoch 37 Batch 200 Loss 0.0310\n",
      "Epoch 37 Batch 300 Loss 0.0635\n",
      "Epoch 37 Batch 400 Loss 0.0616\n",
      "Epoch 37 Batch 500 Loss 0.0731\n",
      "Epoch 37 Batch 600 Loss 0.0224\n",
      "Epoch 37 Batch 700 Loss 0.0497\n",
      "Epoch 37 Batch 800 Loss 0.0315\n",
      "Epoch 37 Batch 900 Loss 0.0570\n",
      "Epoch 37 Batch 1000 Loss 0.0320\n",
      "Epoch 37 Batch 1100 Loss 0.0837\n",
      "Epoch 37 Batch 1200 Loss 0.0558\n",
      "Epoch 37 Loss 0.0518\n",
      "Time taken for 1 epoch 86.84299921989441 sec\n",
      "\n",
      "Epoch 38 Batch 0 Loss 0.0329\n",
      "Epoch 38 Batch 100 Loss 0.0734\n",
      "Epoch 38 Batch 200 Loss 0.0417\n",
      "Epoch 38 Batch 300 Loss 0.0538\n",
      "Epoch 38 Batch 400 Loss 0.0522\n",
      "Epoch 38 Batch 500 Loss 0.0440\n",
      "Epoch 38 Batch 600 Loss 0.0486\n",
      "Epoch 38 Batch 700 Loss 0.0651\n",
      "Epoch 38 Batch 800 Loss 0.0909\n",
      "Epoch 38 Batch 900 Loss 0.0489\n",
      "Epoch 38 Batch 1000 Loss 0.0694\n",
      "Epoch 38 Batch 1100 Loss 0.0991\n",
      "Epoch 38 Batch 1200 Loss 0.0474\n",
      "Epoch 38 Loss 0.0518\n",
      "Time taken for 1 epoch 87.83612394332886 sec\n",
      "\n",
      "Epoch 39 Batch 0 Loss 0.0294\n",
      "Epoch 39 Batch 100 Loss 0.0365\n",
      "Epoch 39 Batch 200 Loss 0.0356\n",
      "Epoch 39 Batch 300 Loss 0.0382\n",
      "Epoch 39 Batch 400 Loss 0.0502\n",
      "Epoch 39 Batch 500 Loss 0.0362\n",
      "Epoch 39 Batch 600 Loss 0.0298\n",
      "Epoch 39 Batch 700 Loss 0.0261\n",
      "Epoch 39 Batch 800 Loss 0.0652\n",
      "Epoch 39 Batch 900 Loss 0.0362\n",
      "Epoch 39 Batch 1000 Loss 0.0302\n",
      "Epoch 39 Batch 1100 Loss 0.0397\n",
      "Epoch 39 Batch 1200 Loss 0.0692\n",
      "Epoch 39 Loss 0.0505\n",
      "Time taken for 1 epoch 87.5779972076416 sec\n",
      "\n",
      "Epoch 40 Batch 0 Loss 0.0209\n",
      "Epoch 40 Batch 100 Loss 0.0703\n",
      "Epoch 40 Batch 200 Loss 0.0220\n",
      "Epoch 40 Batch 300 Loss 0.0398\n",
      "Epoch 40 Batch 400 Loss 0.0328\n",
      "Epoch 40 Batch 500 Loss 0.0425\n",
      "Epoch 40 Batch 600 Loss 0.0352\n",
      "Epoch 40 Batch 700 Loss 0.0364\n",
      "Epoch 40 Batch 800 Loss 0.0998\n",
      "Epoch 40 Batch 900 Loss 0.0527\n",
      "Epoch 40 Batch 1000 Loss 0.0419\n",
      "Epoch 40 Batch 1100 Loss 0.0770\n",
      "Epoch 40 Batch 1200 Loss 0.0320\n",
      "Epoch 40 Loss 0.0503\n",
      "Time taken for 1 epoch 90.79619669914246 sec\n",
      "\n",
      "Epoch 41 Batch 0 Loss 0.0278\n",
      "Epoch 41 Batch 100 Loss 0.0500\n",
      "Epoch 41 Batch 200 Loss 0.0323\n",
      "Epoch 41 Batch 300 Loss 0.0763\n",
      "Epoch 41 Batch 400 Loss 0.0159\n",
      "Epoch 41 Batch 500 Loss 0.0499\n",
      "Epoch 41 Batch 600 Loss 0.0527\n",
      "Epoch 41 Batch 700 Loss 0.0573\n",
      "Epoch 41 Batch 800 Loss 0.0340\n",
      "Epoch 41 Batch 900 Loss 0.0488\n",
      "Epoch 41 Batch 1000 Loss 0.0632\n",
      "Epoch 41 Batch 1100 Loss 0.0479\n",
      "Epoch 41 Batch 1200 Loss 0.0547\n",
      "Epoch 41 Loss 0.0504\n",
      "Time taken for 1 epoch 87.74000120162964 sec\n",
      "\n",
      "Epoch 42 Batch 0 Loss 0.0396\n",
      "Epoch 42 Batch 100 Loss 0.0411\n",
      "Epoch 42 Batch 200 Loss 0.0228\n",
      "Epoch 42 Batch 300 Loss 0.0254\n",
      "Epoch 42 Batch 400 Loss 0.0537\n",
      "Epoch 42 Batch 500 Loss 0.0388\n",
      "Epoch 42 Batch 600 Loss 0.0440\n",
      "Epoch 42 Batch 700 Loss 0.0743\n",
      "Epoch 42 Batch 800 Loss 0.0778\n",
      "Epoch 42 Batch 900 Loss 0.0394\n",
      "Epoch 42 Batch 1000 Loss 0.0668\n",
      "Epoch 42 Batch 1100 Loss 0.0588\n",
      "Epoch 42 Batch 1200 Loss 0.0359\n",
      "Epoch 42 Loss 0.0505\n",
      "Time taken for 1 epoch 90.55573296546936 sec\n",
      "\n",
      "Epoch 43 Batch 0 Loss 0.0277\n",
      "Epoch 43 Batch 100 Loss 0.0357\n",
      "Epoch 43 Batch 200 Loss 0.0408\n",
      "Epoch 43 Batch 300 Loss 0.0500\n",
      "Epoch 43 Batch 400 Loss 0.0888\n",
      "Epoch 43 Batch 500 Loss 0.0454\n",
      "Epoch 43 Batch 600 Loss 0.0519\n",
      "Epoch 43 Batch 700 Loss 0.0148\n",
      "Epoch 43 Batch 800 Loss 0.0435\n",
      "Epoch 43 Batch 900 Loss 0.0203\n",
      "Epoch 43 Batch 1000 Loss 0.0713\n",
      "Epoch 43 Batch 1100 Loss 0.0414\n",
      "Epoch 43 Batch 1200 Loss 0.0756\n",
      "Epoch 43 Loss 0.0496\n",
      "Time taken for 1 epoch 87.6969997882843 sec\n",
      "\n",
      "Epoch 44 Batch 0 Loss 0.0149\n",
      "Epoch 44 Batch 100 Loss 0.0398\n",
      "Epoch 44 Batch 200 Loss 0.0442\n",
      "Epoch 44 Batch 300 Loss 0.0389\n",
      "Epoch 44 Batch 400 Loss 0.0358\n",
      "Epoch 44 Batch 500 Loss 0.0486\n",
      "Epoch 44 Batch 600 Loss 0.0414\n",
      "Epoch 44 Batch 700 Loss 0.0412\n",
      "Epoch 44 Batch 800 Loss 0.0645\n",
      "Epoch 44 Batch 900 Loss 0.0658\n",
      "Epoch 44 Batch 1000 Loss 0.0754\n",
      "Epoch 44 Batch 1100 Loss 0.0778\n",
      "Epoch 44 Batch 1200 Loss 0.0569\n",
      "Epoch 44 Loss 0.0485\n",
      "Time taken for 1 epoch 90.72735285758972 sec\n",
      "\n",
      "Epoch 45 Batch 0 Loss 0.0282\n",
      "Epoch 45 Batch 100 Loss 0.0362\n",
      "Epoch 45 Batch 200 Loss 0.0355\n",
      "Epoch 45 Batch 300 Loss 0.0471\n",
      "Epoch 45 Batch 400 Loss 0.0473\n",
      "Epoch 45 Batch 500 Loss 0.0450\n",
      "Epoch 45 Batch 600 Loss 0.0361\n",
      "Epoch 45 Batch 700 Loss 0.0607\n",
      "Epoch 45 Batch 800 Loss 0.0725\n",
      "Epoch 45 Batch 900 Loss 0.0572\n",
      "Epoch 45 Batch 1000 Loss 0.0856\n",
      "Epoch 45 Batch 1100 Loss 0.0598\n",
      "Epoch 45 Batch 1200 Loss 0.0710\n",
      "Epoch 45 Loss 0.0488\n",
      "Time taken for 1 epoch 88.02324342727661 sec\n",
      "\n",
      "Epoch 46 Batch 0 Loss 0.0461\n",
      "Epoch 46 Batch 100 Loss 0.0297\n",
      "Epoch 46 Batch 200 Loss 0.0401\n",
      "Epoch 46 Batch 300 Loss 0.0439\n",
      "Epoch 46 Batch 400 Loss 0.0380\n",
      "Epoch 46 Batch 500 Loss 0.0443\n",
      "Epoch 46 Batch 600 Loss 0.0611\n",
      "Epoch 46 Batch 700 Loss 0.0618\n",
      "Epoch 46 Batch 800 Loss 0.0584\n",
      "Epoch 46 Batch 900 Loss 0.0396\n",
      "Epoch 46 Batch 1000 Loss 0.0553\n",
      "Epoch 46 Batch 1100 Loss 0.0271\n",
      "Epoch 46 Batch 1200 Loss 0.0449\n",
      "Epoch 46 Loss 0.0483\n",
      "Time taken for 1 epoch 90.54496645927429 sec\n",
      "\n",
      "Epoch 47 Batch 0 Loss 0.0311\n",
      "Epoch 47 Batch 100 Loss 0.0300\n",
      "Epoch 47 Batch 200 Loss 0.0231\n",
      "Epoch 47 Batch 300 Loss 0.0405\n",
      "Epoch 47 Batch 400 Loss 0.0431\n",
      "Epoch 47 Batch 500 Loss 0.0815\n",
      "Epoch 47 Batch 600 Loss 0.0429\n",
      "Epoch 47 Batch 700 Loss 0.0266\n",
      "Epoch 47 Batch 800 Loss 0.0543\n",
      "Epoch 47 Batch 900 Loss 0.0259\n",
      "Epoch 47 Batch 1000 Loss 0.0383\n",
      "Epoch 47 Batch 1100 Loss 0.0513\n",
      "Epoch 47 Batch 1200 Loss 0.0645\n",
      "Epoch 47 Loss 0.0482\n",
      "Time taken for 1 epoch 87.39699983596802 sec\n",
      "\n",
      "Epoch 48 Batch 0 Loss 0.0310\n",
      "Epoch 48 Batch 100 Loss 0.0402\n",
      "Epoch 48 Batch 200 Loss 0.0507\n",
      "Epoch 48 Batch 300 Loss 0.0244\n",
      "Epoch 48 Batch 400 Loss 0.0601\n",
      "Epoch 48 Batch 500 Loss 0.0910\n",
      "Epoch 48 Batch 600 Loss 0.0275\n",
      "Epoch 48 Batch 700 Loss 0.0102\n",
      "Epoch 48 Batch 800 Loss 0.0578\n",
      "Epoch 48 Batch 900 Loss 0.0395\n",
      "Epoch 48 Batch 1000 Loss 0.0598\n",
      "Epoch 48 Batch 1100 Loss 0.0393\n",
      "Epoch 48 Batch 1200 Loss 0.0984\n",
      "Epoch 48 Loss 0.0476\n",
      "Time taken for 1 epoch 88.86754012107849 sec\n",
      "\n",
      "Epoch 49 Batch 0 Loss 0.0354\n",
      "Epoch 49 Batch 100 Loss 0.0414\n",
      "Epoch 49 Batch 200 Loss 0.0288\n",
      "Epoch 49 Batch 300 Loss 0.0325\n",
      "Epoch 49 Batch 400 Loss 0.0344\n",
      "Epoch 49 Batch 500 Loss 0.0288\n",
      "Epoch 49 Batch 600 Loss 0.0593\n",
      "Epoch 49 Batch 700 Loss 0.0546\n",
      "Epoch 49 Batch 800 Loss 0.0403\n",
      "Epoch 49 Batch 900 Loss 0.0535\n",
      "Epoch 49 Batch 1000 Loss 0.0272\n",
      "Epoch 49 Batch 1100 Loss 0.0423\n",
      "Epoch 49 Batch 1200 Loss 0.0477\n",
      "Epoch 49 Loss 0.0472\n",
      "Time taken for 1 epoch 88.17800164222717 sec\n",
      "\n",
      "Epoch 50 Batch 0 Loss 0.0365\n",
      "Epoch 50 Batch 100 Loss 0.0456\n",
      "Epoch 50 Batch 200 Loss 0.0432\n",
      "Epoch 50 Batch 300 Loss 0.0367\n",
      "Epoch 50 Batch 400 Loss 0.0555\n",
      "Epoch 50 Batch 500 Loss 0.0554\n",
      "Epoch 50 Batch 600 Loss 0.0333\n",
      "Epoch 50 Batch 700 Loss 0.0420\n",
      "Epoch 50 Batch 800 Loss 0.0545\n",
      "Epoch 50 Batch 900 Loss 0.0601\n",
      "Epoch 50 Batch 1000 Loss 0.0480\n",
      "Epoch 50 Batch 1100 Loss 0.0758\n",
      "Epoch 50 Batch 1200 Loss 0.0378\n",
      "Epoch 50 Loss 0.0478\n",
      "Time taken for 1 epoch 89.03670263290405 sec\n",
      "\n"
     ]
    }
   ],
   "source": [
    "EPOCHS = 50\n",
    "\n",
    "for epoch in range(EPOCHS):\n",
    "    start = time.time()\n",
    "    \n",
    "    enc_hidden = encoder.initialize_hidden_state()\n",
    "    total_loss = 0\n",
    "    \n",
    "    for (batch, (inp, targ)) in enumerate(dataset.take(steps_per_epoch)):\n",
    "        batch_loss = train_step(inp, targ, enc_hidden)\n",
    "        total_loss += batch_loss\n",
    "\n",
    "        if batch % 100 == 0:\n",
    "            print('Epoch {} Batch {} Loss {:.4f}'.format(epoch + 1,\n",
    "                                                   batch,\n",
    "                                                   batch_loss.numpy()))\n",
    "    # saving (checkpoint) the model every 2 epochs\n",
    "    if (epoch + 1) % 2 == 0:\n",
    "        checkpoint.save(file_prefix = checkpoint_prefix)\n",
    "\n",
    "    print('Epoch {} Loss {:.4f}'.format(epoch + 1,\n",
    "                                      total_loss / steps_per_epoch))\n",
    "    print('Time taken for 1 epoch {} sec\\n'.format(time.time() - start))"
   ]
  },
  {
   "cell_type": "markdown",
   "metadata": {
    "id": "mU3Ce8M6I3rz"
   },
   "source": [
    "## Translate\n",
    "\n",
    "* The evaluate function is similar to the training loop, except we don't use *teacher forcing* here. The input to the decoder at each time step is its previous predictions along with the hidden state and the encoder output.\n",
    "* Stop predicting when the model predicts the *end token*.\n",
    "* And store the *attention weights for every time step*.\n",
    "\n",
    "Note: The encoder output is calculated only once for one input."
   ]
  },
  {
   "cell_type": "code",
   "execution_count": 30,
   "metadata": {
    "id": "EbQpyYs13jF_"
   },
   "outputs": [],
   "source": [
    "def evaluate(sentence):\n",
    "    attention_plot = np.zeros((max_length_targ, max_length_inp))\n",
    "\n",
    "    sentence = preprocess_sentence(sentence)\n",
    "\n",
    "    inputs = [inp_lang.word_index[i] for i in sentence.split(' ')]\n",
    "    inputs = tf.keras.preprocessing.sequence.pad_sequences([inputs],\n",
    "                                                         maxlen=max_length_inp,\n",
    "                                                         padding='post')\n",
    "    inputs = tf.convert_to_tensor(inputs)\n",
    "\n",
    "    result = ''\n",
    "\n",
    "    hidden = [tf.zeros((1, units))]\n",
    "    enc_hidden = encoder(inputs, hidden)\n",
    "\n",
    "    dec_hidden = enc_hidden\n",
    "    dec_input = tf.expand_dims([targ_lang.word_index['<start>']], 0)\n",
    "\n",
    "    for t in range(max_length_targ):\n",
    "        predictions, dec_hidden = decoder(dec_input, dec_hidden)\n",
    "        \n",
    "        # storing the attention weights to plot later on\n",
    "        predicted_id = tf.argmax(predictions[0]).numpy()\n",
    "        result += targ_lang.index_word[predicted_id] + ' '\n",
    "        \n",
    "        if targ_lang.index_word[predicted_id] == '<end>':\n",
    "            return result, sentence\n",
    "\n",
    "        # the predicted ID is fed back into the model\n",
    "        dec_input = tf.expand_dims([predicted_id], 0)\n",
    "\n",
    "    return result, sentence"
   ]
  },
  {
   "cell_type": "code",
   "execution_count": 31,
   "metadata": {
    "id": "sl9zUHzg3jGI"
   },
   "outputs": [],
   "source": [
    "def translate(sentence):\n",
    "    result, sentence = evaluate(sentence)\n",
    "    \n",
    "    print('Input: %s' % (sentence))\n",
    "    print('Predicted translation: {}'.format(result))"
   ]
  },
  {
   "cell_type": "markdown",
   "metadata": {
    "id": "n250XbnjOaqP"
   },
   "source": [
    "## Restore the latest checkpoint and test"
   ]
  },
  {
   "cell_type": "code",
   "execution_count": 32,
   "metadata": {
    "colab": {
     "base_uri": "https://localhost:8080/"
    },
    "id": "UJpT9D5_OgP6",
    "outputId": "a5bf709a-7e66-4fd8-aca9-777497144965"
   },
   "outputs": [
    {
     "data": {
      "text/plain": [
       "<tensorflow.python.training.tracking.util.CheckpointLoadStatus at 0x22621a43130>"
      ]
     },
     "execution_count": 32,
     "metadata": {},
     "output_type": "execute_result"
    }
   ],
   "source": [
    "# restoring the latest checkpoint in checkpoint_dir\n",
    "checkpoint.restore(tf.train.latest_checkpoint(checkpoint_dir))"
   ]
  },
  {
   "cell_type": "code",
   "execution_count": 33,
   "metadata": {
    "colab": {
     "base_uri": "https://localhost:8080/"
    },
    "id": "WrAM0FDomq3E",
    "outputId": "d366d6cc-cc03-4e35-a65a-9d06dcbfff36"
   },
   "outputs": [
    {
     "name": "stdout",
     "output_type": "stream",
     "text": [
      "Input: <start> здесь хорошо . <end>\n",
      "Predicted translation: it's here to come . <end> \n"
     ]
    }
   ],
   "source": [
    "translate('Здесь хорошо.')"
   ]
  },
  {
   "cell_type": "code",
   "execution_count": 43,
   "metadata": {
    "colab": {
     "base_uri": "https://localhost:8080/"
    },
    "id": "e7c5p8rmkHQG",
    "outputId": "d4682d71-f778-41f5-e4a9-2e1235976123"
   },
   "outputs": [
    {
     "name": "stdout",
     "output_type": "stream",
     "text": [
      "Input: <start> счастье это когда тебя любят за то , что ты есть и за то , какой есть . <end>\n",
      "Predicted translation: sing , your day . <end> \n"
     ]
    }
   ],
   "source": [
    "translate('Счастье — это когда тебя любят за то, что ты есть и за то, какой есть.')"
   ]
  },
  {
   "cell_type": "code",
   "execution_count": 46,
   "metadata": {
    "colab": {
     "base_uri": "https://localhost:8080/"
    },
    "id": "f09_hUFx9EJh",
    "outputId": "73980799-f0f9-4ff5-835c-ced55d9a4770"
   },
   "outputs": [
    {
     "name": "stdout",
     "output_type": "stream",
     "text": [
      "Input: <start> наш рассказ начался неинтересно . <end>\n",
      "Predicted translation: our work looks am at sea . <end> \n"
     ]
    }
   ],
   "source": [
    "translate('Наш рассказ начался неинтересно.')"
   ]
  },
  {
   "cell_type": "code",
   "execution_count": 50,
   "metadata": {},
   "outputs": [
    {
     "name": "stdout",
     "output_type": "stream",
     "text": [
      "Input: <start> нужно сделать домашнее задание <end>\n",
      "Predicted translation: do you need to help me ? <end> \n"
     ]
    }
   ],
   "source": [
    "translate('Нужно сделать домашнее задание')"
   ]
  },
  {
   "cell_type": "markdown",
   "metadata": {},
   "source": [
    "Не самый хороший переводчик."
   ]
  },
  {
   "cell_type": "code",
   "execution_count": null,
   "metadata": {},
   "outputs": [],
   "source": []
  }
 ],
 "metadata": {
  "accelerator": "GPU",
  "colab": {
   "collapsed_sections": [],
   "name": "nmt.ipynb",
   "provenance": [],
   "toc_visible": true
  },
  "kernelspec": {
   "display_name": "Python 3",
   "language": "python",
   "name": "python3"
  },
  "language_info": {
   "codemirror_mode": {
    "name": "ipython",
    "version": 3
   },
   "file_extension": ".py",
   "mimetype": "text/x-python",
   "name": "python",
   "nbconvert_exporter": "python",
   "pygments_lexer": "ipython3",
   "version": "3.8.8"
  }
 },
 "nbformat": 4,
 "nbformat_minor": 1
}
